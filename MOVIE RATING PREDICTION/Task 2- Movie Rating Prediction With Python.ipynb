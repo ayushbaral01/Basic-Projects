{
 "cells": [
  {
   "cell_type": "markdown",
   "id": "4d57f8e6",
   "metadata": {},
   "source": [
    "# Steps Followed in building the ML Model:\n",
    "### 1. Importing Libraries\n",
    "### 2. Data Pre-Processing\n",
    "### 3. Data Visualization\n",
    "### 4. Encoding Values in Dataset\n",
    "### 5. Splitting dataset into training and testing dataset\n",
    "### 6. Model Training \n",
    "### 7. Model Evaluation and Prediction"
   ]
  },
  {
   "cell_type": "markdown",
   "id": "b2bbdef4",
   "metadata": {},
   "source": [
    "# 1. Importing Libraries"
   ]
  },
  {
   "cell_type": "code",
   "execution_count": 1,
   "id": "4becc180",
   "metadata": {},
   "outputs": [],
   "source": [
    "import numpy as np\n",
    "import pandas as pd\n",
    "import matplotlib.pyplot as plt\n",
    "import seaborn as sns\n",
    "from sklearn.linear_model import LinearRegression as LR\n",
    "from sklearn.model_selection import train_test_split\n",
    "from sklearn.metrics import accuracy_score, precision_score"
   ]
  },
  {
   "cell_type": "markdown",
   "id": "670f19ae",
   "metadata": {},
   "source": [
    "# 2. Data Pre-Processing"
   ]
  },
  {
   "cell_type": "code",
   "execution_count": 2,
   "id": "e8b4ee1f",
   "metadata": {},
   "outputs": [],
   "source": [
    "#Loading Dataset into Notebook\n",
    "dataset = pd.read_csv(\"D:\\Download\\mero wala data set xa yesma codsoft\\CODSOFT-main\\MOVIE RATING PREDICTION\\IMDb Movies India.csv\", encoding = \"latin-1\")"
   ]
  },
  {
   "cell_type": "markdown",
   "id": "9d0feb7e",
   "metadata": {},
   "source": [
    "### Displaying First 5 rows and Last 5 rows of dataset"
   ]
  },
  {
   "cell_type": "code",
   "execution_count": 3,
   "id": "1e703d5d",
   "metadata": {},
   "outputs": [
    {
     "data": {
      "text/html": [
       "<div>\n",
       "<style scoped>\n",
       "    .dataframe tbody tr th:only-of-type {\n",
       "        vertical-align: middle;\n",
       "    }\n",
       "\n",
       "    .dataframe tbody tr th {\n",
       "        vertical-align: top;\n",
       "    }\n",
       "\n",
       "    .dataframe thead th {\n",
       "        text-align: right;\n",
       "    }\n",
       "</style>\n",
       "<table border=\"1\" class=\"dataframe\">\n",
       "  <thead>\n",
       "    <tr style=\"text-align: right;\">\n",
       "      <th></th>\n",
       "      <th>Name</th>\n",
       "      <th>Year</th>\n",
       "      <th>Duration</th>\n",
       "      <th>Genre</th>\n",
       "      <th>Rating</th>\n",
       "      <th>Votes</th>\n",
       "      <th>Director</th>\n",
       "      <th>Actor 1</th>\n",
       "      <th>Actor 2</th>\n",
       "      <th>Actor 3</th>\n",
       "    </tr>\n",
       "  </thead>\n",
       "  <tbody>\n",
       "    <tr>\n",
       "      <th>0</th>\n",
       "      <td></td>\n",
       "      <td>NaN</td>\n",
       "      <td>NaN</td>\n",
       "      <td>Drama</td>\n",
       "      <td>NaN</td>\n",
       "      <td>NaN</td>\n",
       "      <td>J.S. Randhawa</td>\n",
       "      <td>Manmauji</td>\n",
       "      <td>Birbal</td>\n",
       "      <td>Rajendra Bhatia</td>\n",
       "    </tr>\n",
       "    <tr>\n",
       "      <th>1</th>\n",
       "      <td>#Gadhvi (He thought he was Gandhi)</td>\n",
       "      <td>(2019)</td>\n",
       "      <td>109 min</td>\n",
       "      <td>Drama</td>\n",
       "      <td>7.0</td>\n",
       "      <td>8</td>\n",
       "      <td>Gaurav Bakshi</td>\n",
       "      <td>Rasika Dugal</td>\n",
       "      <td>Vivek Ghamande</td>\n",
       "      <td>Arvind Jangid</td>\n",
       "    </tr>\n",
       "    <tr>\n",
       "      <th>2</th>\n",
       "      <td>#Homecoming</td>\n",
       "      <td>(2021)</td>\n",
       "      <td>90 min</td>\n",
       "      <td>Drama, Musical</td>\n",
       "      <td>NaN</td>\n",
       "      <td>NaN</td>\n",
       "      <td>Soumyajit Majumdar</td>\n",
       "      <td>Sayani Gupta</td>\n",
       "      <td>Plabita Borthakur</td>\n",
       "      <td>Roy Angana</td>\n",
       "    </tr>\n",
       "    <tr>\n",
       "      <th>3</th>\n",
       "      <td>#Yaaram</td>\n",
       "      <td>(2019)</td>\n",
       "      <td>110 min</td>\n",
       "      <td>Comedy, Romance</td>\n",
       "      <td>4.4</td>\n",
       "      <td>35</td>\n",
       "      <td>Ovais Khan</td>\n",
       "      <td>Prateik</td>\n",
       "      <td>Ishita Raj</td>\n",
       "      <td>Siddhant Kapoor</td>\n",
       "    </tr>\n",
       "    <tr>\n",
       "      <th>4</th>\n",
       "      <td>...And Once Again</td>\n",
       "      <td>(2010)</td>\n",
       "      <td>105 min</td>\n",
       "      <td>Drama</td>\n",
       "      <td>NaN</td>\n",
       "      <td>NaN</td>\n",
       "      <td>Amol Palekar</td>\n",
       "      <td>Rajat Kapoor</td>\n",
       "      <td>Rituparna Sengupta</td>\n",
       "      <td>Antara Mali</td>\n",
       "    </tr>\n",
       "  </tbody>\n",
       "</table>\n",
       "</div>"
      ],
      "text/plain": [
       "                                 Name    Year Duration            Genre  \\\n",
       "0                                         NaN      NaN            Drama   \n",
       "1  #Gadhvi (He thought he was Gandhi)  (2019)  109 min            Drama   \n",
       "2                         #Homecoming  (2021)   90 min   Drama, Musical   \n",
       "3                             #Yaaram  (2019)  110 min  Comedy, Romance   \n",
       "4                   ...And Once Again  (2010)  105 min            Drama   \n",
       "\n",
       "   Rating Votes            Director       Actor 1             Actor 2  \\\n",
       "0     NaN   NaN       J.S. Randhawa      Manmauji              Birbal   \n",
       "1     7.0     8       Gaurav Bakshi  Rasika Dugal      Vivek Ghamande   \n",
       "2     NaN   NaN  Soumyajit Majumdar  Sayani Gupta   Plabita Borthakur   \n",
       "3     4.4    35          Ovais Khan       Prateik          Ishita Raj   \n",
       "4     NaN   NaN        Amol Palekar  Rajat Kapoor  Rituparna Sengupta   \n",
       "\n",
       "           Actor 3  \n",
       "0  Rajendra Bhatia  \n",
       "1    Arvind Jangid  \n",
       "2       Roy Angana  \n",
       "3  Siddhant Kapoor  \n",
       "4      Antara Mali  "
      ]
     },
     "execution_count": 3,
     "metadata": {},
     "output_type": "execute_result"
    }
   ],
   "source": [
    "dataset.head()"
   ]
  },
  {
   "cell_type": "code",
   "execution_count": 4,
   "id": "4de568e1",
   "metadata": {},
   "outputs": [
    {
     "data": {
      "text/html": [
       "<div>\n",
       "<style scoped>\n",
       "    .dataframe tbody tr th:only-of-type {\n",
       "        vertical-align: middle;\n",
       "    }\n",
       "\n",
       "    .dataframe tbody tr th {\n",
       "        vertical-align: top;\n",
       "    }\n",
       "\n",
       "    .dataframe thead th {\n",
       "        text-align: right;\n",
       "    }\n",
       "</style>\n",
       "<table border=\"1\" class=\"dataframe\">\n",
       "  <thead>\n",
       "    <tr style=\"text-align: right;\">\n",
       "      <th></th>\n",
       "      <th>Name</th>\n",
       "      <th>Year</th>\n",
       "      <th>Duration</th>\n",
       "      <th>Genre</th>\n",
       "      <th>Rating</th>\n",
       "      <th>Votes</th>\n",
       "      <th>Director</th>\n",
       "      <th>Actor 1</th>\n",
       "      <th>Actor 2</th>\n",
       "      <th>Actor 3</th>\n",
       "    </tr>\n",
       "  </thead>\n",
       "  <tbody>\n",
       "    <tr>\n",
       "      <th>15504</th>\n",
       "      <td>Zulm Ko Jala Doonga</td>\n",
       "      <td>(1988)</td>\n",
       "      <td>NaN</td>\n",
       "      <td>Action</td>\n",
       "      <td>4.6</td>\n",
       "      <td>11</td>\n",
       "      <td>Mahendra Shah</td>\n",
       "      <td>Naseeruddin Shah</td>\n",
       "      <td>Sumeet Saigal</td>\n",
       "      <td>Suparna Anand</td>\n",
       "    </tr>\n",
       "    <tr>\n",
       "      <th>15505</th>\n",
       "      <td>Zulmi</td>\n",
       "      <td>(1999)</td>\n",
       "      <td>129 min</td>\n",
       "      <td>Action, Drama</td>\n",
       "      <td>4.5</td>\n",
       "      <td>655</td>\n",
       "      <td>Kuku Kohli</td>\n",
       "      <td>Akshay Kumar</td>\n",
       "      <td>Twinkle Khanna</td>\n",
       "      <td>Aruna Irani</td>\n",
       "    </tr>\n",
       "    <tr>\n",
       "      <th>15506</th>\n",
       "      <td>Zulmi Raj</td>\n",
       "      <td>(2005)</td>\n",
       "      <td>NaN</td>\n",
       "      <td>Action</td>\n",
       "      <td>NaN</td>\n",
       "      <td>NaN</td>\n",
       "      <td>Kiran Thej</td>\n",
       "      <td>Sangeeta Tiwari</td>\n",
       "      <td>NaN</td>\n",
       "      <td>NaN</td>\n",
       "    </tr>\n",
       "    <tr>\n",
       "      <th>15507</th>\n",
       "      <td>Zulmi Shikari</td>\n",
       "      <td>(1988)</td>\n",
       "      <td>NaN</td>\n",
       "      <td>Action</td>\n",
       "      <td>NaN</td>\n",
       "      <td>NaN</td>\n",
       "      <td>NaN</td>\n",
       "      <td>NaN</td>\n",
       "      <td>NaN</td>\n",
       "      <td>NaN</td>\n",
       "    </tr>\n",
       "    <tr>\n",
       "      <th>15508</th>\n",
       "      <td>Zulm-O-Sitam</td>\n",
       "      <td>(1998)</td>\n",
       "      <td>130 min</td>\n",
       "      <td>Action, Drama</td>\n",
       "      <td>6.2</td>\n",
       "      <td>20</td>\n",
       "      <td>K.C. Bokadia</td>\n",
       "      <td>Dharmendra</td>\n",
       "      <td>Jaya Prada</td>\n",
       "      <td>Arjun Sarja</td>\n",
       "    </tr>\n",
       "  </tbody>\n",
       "</table>\n",
       "</div>"
      ],
      "text/plain": [
       "                      Name    Year Duration          Genre  Rating Votes  \\\n",
       "15504  Zulm Ko Jala Doonga  (1988)      NaN         Action     4.6    11   \n",
       "15505                Zulmi  (1999)  129 min  Action, Drama     4.5   655   \n",
       "15506            Zulmi Raj  (2005)      NaN         Action     NaN   NaN   \n",
       "15507        Zulmi Shikari  (1988)      NaN         Action     NaN   NaN   \n",
       "15508         Zulm-O-Sitam  (1998)  130 min  Action, Drama     6.2    20   \n",
       "\n",
       "            Director           Actor 1         Actor 2        Actor 3  \n",
       "15504  Mahendra Shah  Naseeruddin Shah   Sumeet Saigal  Suparna Anand  \n",
       "15505     Kuku Kohli      Akshay Kumar  Twinkle Khanna    Aruna Irani  \n",
       "15506     Kiran Thej   Sangeeta Tiwari             NaN            NaN  \n",
       "15507            NaN               NaN             NaN            NaN  \n",
       "15508   K.C. Bokadia        Dharmendra      Jaya Prada    Arjun Sarja  "
      ]
     },
     "execution_count": 4,
     "metadata": {},
     "output_type": "execute_result"
    }
   ],
   "source": [
    "dataset.tail()"
   ]
  },
  {
   "cell_type": "code",
   "execution_count": 5,
   "id": "26492793",
   "metadata": {},
   "outputs": [
    {
     "name": "stdout",
     "output_type": "stream",
     "text": [
      "<class 'pandas.core.frame.DataFrame'>\n",
      "RangeIndex: 15509 entries, 0 to 15508\n",
      "Data columns (total 10 columns):\n",
      " #   Column    Non-Null Count  Dtype  \n",
      "---  ------    --------------  -----  \n",
      " 0   Name      15509 non-null  object \n",
      " 1   Year      14981 non-null  object \n",
      " 2   Duration  7240 non-null   object \n",
      " 3   Genre     13632 non-null  object \n",
      " 4   Rating    7919 non-null   float64\n",
      " 5   Votes     7920 non-null   object \n",
      " 6   Director  14984 non-null  object \n",
      " 7   Actor 1   13892 non-null  object \n",
      " 8   Actor 2   13125 non-null  object \n",
      " 9   Actor 3   12365 non-null  object \n",
      "dtypes: float64(1), object(9)\n",
      "memory usage: 1.2+ MB\n"
     ]
    }
   ],
   "source": [
    "dataset.info()"
   ]
  },
  {
   "cell_type": "code",
   "execution_count": 6,
   "id": "374098e2",
   "metadata": {},
   "outputs": [
    {
     "data": {
      "text/plain": [
       "(15509, 10)"
      ]
     },
     "execution_count": 6,
     "metadata": {},
     "output_type": "execute_result"
    }
   ],
   "source": [
    "dataset.shape"
   ]
  },
  {
   "cell_type": "markdown",
   "id": "764c645d",
   "metadata": {},
   "source": [
    "The dataset has 15509 rows and 10 columns"
   ]
  },
  {
   "cell_type": "code",
   "execution_count": 7,
   "id": "933f349a",
   "metadata": {},
   "outputs": [
    {
     "data": {
      "text/plain": [
       "Name           0\n",
       "Year         528\n",
       "Duration    8269\n",
       "Genre       1877\n",
       "Rating      7590\n",
       "Votes       7589\n",
       "Director     525\n",
       "Actor 1     1617\n",
       "Actor 2     2384\n",
       "Actor 3     3144\n",
       "dtype: int64"
      ]
     },
     "execution_count": 7,
     "metadata": {},
     "output_type": "execute_result"
    }
   ],
   "source": [
    "#Check the number of missing values in each columns\n",
    "dataset.isnull().sum()"
   ]
  },
  {
   "cell_type": "markdown",
   "id": "ad3b5547",
   "metadata": {},
   "source": [
    "### Analyzing unique values in each column"
   ]
  },
  {
   "cell_type": "code",
   "execution_count": 8,
   "id": "70a2da82",
   "metadata": {},
   "outputs": [
    {
     "data": {
      "text/plain": [
       "102"
      ]
     },
     "execution_count": 8,
     "metadata": {},
     "output_type": "execute_result"
    }
   ],
   "source": [
    "#Number of unique values in year columns\n",
    "dataset['Year'].nunique()"
   ]
  },
  {
   "cell_type": "code",
   "execution_count": 9,
   "id": "9fa9cdfa",
   "metadata": {},
   "outputs": [
    {
     "data": {
      "text/plain": [
       "array([nan, '(2019)', '(2021)', '(2010)', '(1997)', '(2005)', '(2008)',\n",
       "       '(2012)', '(2014)', '(2004)', '(2016)', '(1991)', '(1990)',\n",
       "       '(2018)', '(1987)', '(1948)', '(1958)', '(2017)', '(2020)',\n",
       "       '(2009)', '(2002)', '(1993)', '(1946)', '(1994)', '(2007)',\n",
       "       '(2013)', '(2003)', '(1998)', '(1979)', '(1951)', '(1956)',\n",
       "       '(1974)', '(2015)', '(2006)', '(1981)', '(1985)', '(2011)',\n",
       "       '(2001)', '(1967)', '(1988)', '(1995)', '(1959)', '(1996)',\n",
       "       '(1970)', '(1976)', '(2000)', '(1999)', '(1973)', '(1968)',\n",
       "       '(1943)', '(1953)', '(1986)', '(1983)', '(1989)', '(1982)',\n",
       "       '(1977)', '(1957)', '(1950)', '(1992)', '(1969)', '(1975)',\n",
       "       '(1947)', '(1972)', '(1971)', '(1935)', '(1978)', '(1960)',\n",
       "       '(1944)', '(1963)', '(1940)', '(1984)', '(1934)', '(1955)',\n",
       "       '(1936)', '(1980)', '(1966)', '(1949)', '(1962)', '(1964)',\n",
       "       '(1952)', '(1933)', '(1942)', '(1939)', '(1954)', '(1945)',\n",
       "       '(1961)', '(1965)', '(1938)', '(1941)', '(1931)', '(1937)',\n",
       "       '(2022)', '(1932)', '(1923)', '(1915)', '(1928)', '(1922)',\n",
       "       '(1917)', '(1913)', '(1930)', '(1926)', '(1914)', '(1924)'],\n",
       "      dtype=object)"
      ]
     },
     "execution_count": 9,
     "metadata": {},
     "output_type": "execute_result"
    }
   ],
   "source": [
    "dataset['Year'].unique()"
   ]
  },
  {
   "cell_type": "code",
   "execution_count": 10,
   "id": "88be8a67",
   "metadata": {},
   "outputs": [
    {
     "name": "stdout",
     "output_type": "stream",
     "text": [
      "Number of unique values in Duration: 182\n",
      "Unique values in Duration: [nan '109 min' '90 min' '110 min' '105 min' '147 min' '142 min' '59 min'\n",
      " '82 min' '116 min' '96 min' '120 min' '161 min' '166 min' '102 min'\n",
      " '87 min' '132 min' '66 min' '146 min' '112 min' '168 min' '158 min'\n",
      " '126 min' '94 min' '138 min' '124 min' '144 min' '157 min' '136 min'\n",
      " '107 min' '113 min' '80 min' '122 min' '149 min' '148 min' '130 min'\n",
      " '121 min' '188 min' '115 min' '103 min' '114 min' '170 min' '100 min'\n",
      " '99 min' '140 min' '128 min' '93 min' '125 min' '145 min' '75 min'\n",
      " '111 min' '134 min' '85 min' '104 min' '92 min' '137 min' '127 min'\n",
      " '150 min' '119 min' '135 min' '86 min' '76 min' '70 min' '72 min'\n",
      " '151 min' '95 min' '52 min' '89 min' '143 min' '177 min' '117 min'\n",
      " '123 min' '154 min' '88 min' '175 min' '153 min' '78 min' '139 min'\n",
      " '133 min' '101 min' '180 min' '60 min' '46 min' '164 min' '162 min'\n",
      " '171 min' '160 min' '152 min' '62 min' '163 min' '165 min' '141 min'\n",
      " '210 min' '129 min' '156 min' '240 min' '172 min' '155 min' '118 min'\n",
      " '167 min' '106 min' '193 min' '57 min' '108 min' '45 min' '195 min'\n",
      " '174 min' '81 min' '178 min' '58 min' '184 min' '97 min' '98 min'\n",
      " '131 min' '176 min' '169 min' '77 min' '91 min' '84 min' '173 min'\n",
      " '74 min' '67 min' '181 min' '300 min' '79 min' '65 min' '48 min'\n",
      " '183 min' '159 min' '83 min' '68 min' '49 min' '201 min' '64 min'\n",
      " '186 min' '50 min' '69 min' '207 min' '55 min' '61 min' '185 min'\n",
      " '187 min' '216 min' '63 min' '54 min' '198 min' '51 min' '71 min'\n",
      " '73 min' '218 min' '191 min' '321 min' '199 min' '53 min' '56 min'\n",
      " '179 min' '47 min' '206 min' '190 min' '211 min' '247 min' '213 min'\n",
      " '223 min' '2 min' '189 min' '224 min' '202 min' '255 min' '197 min'\n",
      " '182 min' '214 min' '208 min' '21 min' '200 min' '192 min' '37 min'\n",
      " '261 min' '238 min' '204 min' '235 min' '298 min' '217 min' '250 min']\n"
     ]
    }
   ],
   "source": [
    "#Duration column:\n",
    "#Number of Unique Values\n",
    "print(f\"Number of unique values in Duration: {dataset['Duration'].nunique()}\")\n",
    "print(f\"Unique values in Duration: {dataset['Duration'].unique()}\")"
   ]
  },
  {
   "cell_type": "code",
   "execution_count": 11,
   "id": "e67de502",
   "metadata": {},
   "outputs": [
    {
     "data": {
      "text/plain": [
       "array(['Drama', 'Drama, Musical', 'Comedy, Romance',\n",
       "       'Comedy, Drama, Musical', 'Drama, Romance, War', 'Documentary',\n",
       "       'Horror, Mystery, Thriller', 'Action, Crime, Thriller', 'Horror',\n",
       "       'Horror, Romance, Thriller', 'Comedy, Drama, Romance', 'Thriller',\n",
       "       'Comedy, Drama', nan, 'Comedy, Drama, Fantasy',\n",
       "       'Comedy, Drama, Family', 'Crime, Drama, Mystery',\n",
       "       'Horror, Thriller', 'Biography', 'Comedy, Horror', 'Action',\n",
       "       'Drama, Horror, Mystery', 'Comedy', 'Action, Thriller',\n",
       "       'Drama, History', 'Drama, History, Sport',\n",
       "       'Horror, Mystery, Romance', 'Horror, Mystery',\n",
       "       'Drama, Horror, Romance', 'Action, Drama, History',\n",
       "       'Action, Drama, War', 'Comedy, Family',\n",
       "       'Adventure, Horror, Mystery', 'Action, Sci-Fi',\n",
       "       'Crime, Mystery, Thriller', 'War', 'Sport',\n",
       "       'Biography, Drama, History', 'Horror, Romance', 'Crime, Drama',\n",
       "       'Drama, Romance', 'Adventure, Drama', 'Comedy, Mystery, Thriller',\n",
       "       'Action, Crime, Drama', 'Crime, Thriller',\n",
       "       'Horror, Sci-Fi, Thriller', 'Crime, Drama, Thriller',\n",
       "       'Drama, Mystery, Thriller', 'Drama, Sport',\n",
       "       'Drama, Family, Musical', 'Action, Comedy', 'Comedy, Thriller',\n",
       "       'Action, Adventure, Fantasy', 'Drama, Romance, Thriller',\n",
       "       'Action, Drama', 'Drama, Horror, Musical',\n",
       "       'Action, Biography, Drama', 'Adventure, Comedy, Drama', 'Mystery',\n",
       "       'Action, Fantasy, Mystery', 'Adventure, Drama, Mystery',\n",
       "       'Mystery, Thriller', 'Adventure', 'Drama, Musical, Thriller',\n",
       "       'Comedy, Crime, Drama', 'Musical, Romance', 'Documentary, Music',\n",
       "       'Documentary, History, Music', 'Drama, Fantasy, Mystery',\n",
       "       'Drama, Family, Sport', 'Drama, Thriller',\n",
       "       'Documentary, Biography', 'Action, Adventure, Comedy', 'Romance',\n",
       "       'Comedy, Drama, Music', 'Comedy, Horror, Mystery', 'Musical',\n",
       "       'Musical, Romance, Drama', 'Family, Romance',\n",
       "       'Action, Sci-Fi, Thriller', 'Action, Drama, Romance',\n",
       "       'Mystery, Romance', 'Fantasy', 'Family', 'Drama, Family',\n",
       "       'Action, Comedy, Drama', 'Action, Drama, Thriller',\n",
       "       'Drama, Horror, Thriller', 'Drama, Musical, Romance',\n",
       "       'Comedy, Sci-Fi', 'Action, Romance', 'Action, Crime',\n",
       "       'Action, Drama, Crime', 'Drama, Family, Music',\n",
       "       'Action, Mystery, Thriller', 'Action, Drama, Family',\n",
       "       'Action, Mystery', 'Drama, History, Romance',\n",
       "       'Crime, Drama, Music', 'Sci-Fi', 'Animation',\n",
       "       'Crime, Mystery, Romance', 'Action, Adventure, Romance',\n",
       "       'Music, Romance', 'Action, Comedy, Crime',\n",
       "       'Comedy, Family, Fantasy', 'Romance, Drama',\n",
       "       'Drama, Family, Romance', 'Romance, Drama, Family',\n",
       "       'Musical, Romance, Thriller', 'Family, Musical, Romance',\n",
       "       'Action, Drama, Fantasy', 'Family, Drama', 'Crime, Drama, Romance',\n",
       "       'Musical, Drama, Romance', 'Drama, Music, Musical',\n",
       "       'Drama, Mystery', 'Adventure, Comedy, Romance',\n",
       "       'Crime, Drama, Horror', 'Family, Music, Musical',\n",
       "       'Action, Musical, Thriller', 'Action, Romance, Thriller',\n",
       "       'Romance, Thriller', 'Drama, Music', 'Crime, Drama, Musical',\n",
       "       'Action, Crime, Mystery', 'Action, Adventure, Thriller',\n",
       "       'Comedy, Romance, Sci-Fi', 'Crime', 'Action, Drama, Mystery',\n",
       "       'Action, Comedy, Thriller', 'Biography, Drama',\n",
       "       'Action, Comedy, Fantasy', 'Drama, Family, Horror',\n",
       "       'Action, Adventure, Family', 'Documentary, Biography, Musical',\n",
       "       'Action, Drama, Musical', 'Adventure, Thriller', 'Crime, Mystery',\n",
       "       'Drama, Crime', 'Drama, Fantasy, Romance',\n",
       "       'Comedy, Romance, Thriller', 'Musical, Comedy, Drama',\n",
       "       'Biography, History, War', 'Action, Comedy, Romance',\n",
       "       'Drama, History, Musical', 'Action, Crime, Horror',\n",
       "       'Adventure, Fantasy', 'Adventure, Drama, Fantasy',\n",
       "       'Adventure, Fantasy, Romance', 'Action, Adventure, Drama',\n",
       "       'Action, Adventure', 'Comedy, Crime', 'Crime, Drama, Fantasy',\n",
       "       'Adventure, Drama, Romance', 'History', 'Drama, Fantasy, Thriller',\n",
       "       'Musical, Fantasy', 'Documentary, Thriller',\n",
       "       'Mystery, Romance, Musical', 'Family, Drama, Romance',\n",
       "       'History, Musical, Romance', 'Musical, Drama, Crime',\n",
       "       'Adventure, Crime, Romance', 'Musical, Thriller, Mystery',\n",
       "       'Drama, Comedy', 'Biography, Drama, Romance', 'Biography, Music',\n",
       "       'Biography, Drama, Music', 'Drama, Sci-Fi',\n",
       "       'Drama, Family, Thriller', 'Comedy, Musical, Romance',\n",
       "       'Drama, Family, Comedy', 'Action, Thriller, Romance',\n",
       "       'Animation, Adventure', 'Action, Crime, Musical',\n",
       "       'Action, Crime, Romance', 'Animation, Action, Adventure',\n",
       "       'Action, Drama, Sport', 'Comedy, History', 'Documentary, History',\n",
       "       'Drama, Comedy, Family', 'Action, Adventure, Crime',\n",
       "       'Documentary, Biography, Music', 'Comedy, Musical',\n",
       "       'Biography, Crime, Thriller', 'Adventure, Mystery, Thriller',\n",
       "       'Biography, Drama, Sport', 'Action, Comedy, Musical',\n",
       "       'Mystery, Romance, Thriller', 'Action, Adventure, Musical',\n",
       "       'Crime, Musical, Mystery', 'Action, Thriller, Crime',\n",
       "       'Adventure, Comedy, Crime', 'Comedy, Horror, Musical',\n",
       "       'Adventure, Family', 'Family, Thriller', 'Drama, Action, Crime',\n",
       "       'Drama, War', 'Action, Drama, Adventure',\n",
       "       'Adventure, Fantasy, History', 'Fantasy, Musical',\n",
       "       'Comedy, Drama, Thriller', 'Drama, Fantasy', 'Musical, Drama',\n",
       "       'Action, Drama, Horror', 'Biography, Crime, Drama',\n",
       "       'Action, Drama, Music', 'Adventure, Drama, Family',\n",
       "       'Drama, Romance, Musical', 'Comedy, Musical, Drama',\n",
       "       'Adventure, Comedy, Musical', 'Crime, Drama, Family',\n",
       "       'Thriller, Musical, Mystery', 'Documentary, Adventure, Crime',\n",
       "       'Drama, Action, Horror', 'Adventure, Crime, Drama',\n",
       "       'Documentary, Biography, Sport', 'Crime, Fantasy, Mystery',\n",
       "       'Documentary, Biography, Drama', 'Action, Fantasy, Thriller',\n",
       "       'Adventure, Drama, History', 'Animation, Drama, History',\n",
       "       'Comedy, Horror, Thriller', 'Drama, Family, History',\n",
       "       'Animation, History', 'Biography, Drama, Musical', 'Music',\n",
       "       'Family, Comedy', 'Adventure, Mystery', 'Family, Fantasy',\n",
       "       'Documentary, History, News', 'Drama, Mystery, Romance',\n",
       "       'Comedy, Fantasy', 'Action, Crime, Family',\n",
       "       'Drama, Musical, Mystery', 'Action, Thriller, Mystery',\n",
       "       'Drama, Family, Fantasy', 'Action, Family',\n",
       "       'Action, Adventure, Mystery', 'Horror, Fantasy', 'Comedy, Action',\n",
       "       'Adventure, Romance', 'Drama, Adventure',\n",
       "       'Animation, Drama, Romance', 'Comedy, Crime, Romance',\n",
       "       'Adventure, Comedy', 'Comedy, Drama, Sport',\n",
       "       'Documentary, Crime, History', 'Musical, Mystery, Drama',\n",
       "       'Adventure, Drama, Sci-Fi', 'Action, Romance, Western',\n",
       "       'Comedy, Fantasy, Romance', 'Animation, Action, Comedy',\n",
       "       'Drama, Fantasy, Sci-Fi', 'Drama, Horror', 'Family, Drama, Comedy',\n",
       "       'Action, Adventure, History', 'Comedy, Family, Romance',\n",
       "       'Biography, History', 'Animation, Family',\n",
       "       'Drama, Fantasy, History', 'Animation, Adventure, Fantasy',\n",
       "       'Adventure, Comedy, Family', 'Drama, History, War',\n",
       "       'Animation, Drama, Fantasy', 'Action, Musical, Romance',\n",
       "       'Crime, Action, Drama', 'Comedy, Romance, Musical',\n",
       "       'Fantasy, Drama', 'Musical, Action, Crime', 'Documentary, Drama',\n",
       "       'Action, Horror, Thriller', 'Action, Horror, Sci-Fi',\n",
       "       'Mystery, Sci-Fi, Thriller', 'Biography, Family',\n",
       "       'Drama, Action, Comedy', 'Drama, Music, Romance',\n",
       "       'Action, Biography, Crime', 'Adventure, Drama, Musical',\n",
       "       'Family, Music, Romance', 'Fantasy, Mystery, Romance',\n",
       "       'Drama, Crime, Family', 'Drama, Family, Action',\n",
       "       'Romance, Comedy, Drama', 'Animation, Adventure, Comedy',\n",
       "       'Sci-Fi, Thriller', 'Romance, Family, Drama',\n",
       "       'Action, Family, Thriller', 'Adventure, Crime, Thriller',\n",
       "       'Drama, Romance, Sport', 'Comedy, Crime, Mystery',\n",
       "       'Adventure, Comedy, Mystery', 'Action, Fantasy', 'Comedy, Mystery',\n",
       "       'Animation, Adventure, Family', 'Adventure, Drama, Music',\n",
       "       'Biography, Drama, War', 'Documentary, Comedy, Drama',\n",
       "       'Musical, Drama, Family', 'Animation, Comedy, Drama',\n",
       "       'Fantasy, Musical, Drama', 'Adventure, Crime, Mystery',\n",
       "       'Comedy, Drama, Mystery', 'Documentary, News',\n",
       "       'Drama, Musical, Family', 'Action, Romance, Drama',\n",
       "       'Comedy, Crime, Thriller', 'Action, Musical', 'Action, History',\n",
       "       'Action, Comedy, Mystery', 'Drama, Family, Mystery',\n",
       "       'Adventure, Drama, Thriller', 'Documentary, Reality-TV',\n",
       "       'Action, Fantasy, Horror', 'Drama, History, Thriller',\n",
       "       'Documentary, Family', 'Documentary, Biography, Family',\n",
       "       'Comedy, Sport', 'Animation, Comedy, Family',\n",
       "       'Crime, Romance, Thriller', 'Comedy, Musical, Action',\n",
       "       'Action, Mystery, Sci-Fi', 'Comedy, Crime, Musical',\n",
       "       'Drama, Adventure, Action', 'History, Romance', 'Reality-TV',\n",
       "       'Fantasy, History', 'Family, Drama, Thriller',\n",
       "       'Musical, Mystery, Thriller', 'Musical, Comedy, Romance',\n",
       "       'Musical, Action, Drama', 'Action, Musical, War',\n",
       "       'Romance, Comedy', 'Horror, Crime, Thriller',\n",
       "       'Crime, Drama, History', 'Comedy, Drama, Horror',\n",
       "       'Crime, Horror, Thriller', 'Animation, Comedy',\n",
       "       'Romance, Action, Crime', 'Musical, Thriller',\n",
       "       'Action, Romance, Comedy', 'Comedy, Family, Musical',\n",
       "       'Horror, Drama, Mystery', 'Thriller, Mystery, Family',\n",
       "       'Comedy, Drama, Sci-Fi', 'Documentary, Adventure',\n",
       "       'Documentary, Biography, Crime', 'Musical, Action',\n",
       "       'Musical, Mystery', 'Action, Crime, Sci-Fi',\n",
       "       'Action, Horror, Mystery', 'Fantasy, Horror',\n",
       "       'Adventure, Family, Fantasy', 'Fantasy, Sci-Fi', 'Comedy, War',\n",
       "       'Romance, Action, Drama', 'Musical, Family, Romance',\n",
       "       'Romance, Drama, Action', 'Family, Comedy, Drama',\n",
       "       'Comedy, Music, Romance', 'Comedy, Family, Sci-Fi',\n",
       "       'Action, Drama, Western', 'Adventure, Romance, Thriller',\n",
       "       'Biography, Comedy, Drama', 'Action, Mystery, Romance',\n",
       "       'Romance, Sport', 'Crime, Romance', 'Action, Thriller, Western',\n",
       "       'Crime, Musical, Romance', 'Romance, Thriller, Mystery',\n",
       "       'Drama, Crime, Mystery', 'Biography, Drama, Family',\n",
       "       'Action, Family, Mystery', 'Comedy, Mystery, Romance',\n",
       "       'Drama, Thriller, Action', 'Documentary, Short',\n",
       "       'Documentary, Western', 'Musical, Family, Drama',\n",
       "       'Action, Family, Musical', 'Animation, Family, Musical',\n",
       "       'Drama, Fantasy, Horror', 'Action, Adventure, Sci-Fi',\n",
       "       'Drama, Action, Musical', 'Drama, Musical, Sport',\n",
       "       'Action, Comedy, Horror', 'Drama, Fantasy, Musical',\n",
       "       'Action, Fantasy, Musical', 'Animation, Action', 'Comedy, Music',\n",
       "       'Documentary, Drama, Romance', 'Drama, Music, Thriller',\n",
       "       'Fantasy, Musical, Mystery', 'Drama, Fantasy, War', 'Action, War',\n",
       "       'Action, Adventure, War', 'Horror, Musical',\n",
       "       'Fantasy, Mystery, Thriller', 'Adventure, Biography, Drama',\n",
       "       'Family, Romance, Sci-Fi', 'Drama, Romance, Family',\n",
       "       'Animation, Adventure, Drama', 'Family, Romance, Drama',\n",
       "       'Animation, Action, Sci-Fi', 'Adventure, Comedy, Fantasy',\n",
       "       'Comedy, Crime, Family', 'Horror, Musical, Thriller',\n",
       "       'Biography, Drama, Thriller', 'Drama, Western',\n",
       "       'Romance, Sci-Fi, Thriller', 'Comedy, Musical, Family',\n",
       "       'Comedy, Horror, Romance', 'Thriller, Action',\n",
       "       'Fantasy, Thriller, Action', 'Fantasy, Romance',\n",
       "       'Action, Drama, Comedy', 'Family, Fantasy, Romance',\n",
       "       'Comedy, Crime, Horror', 'Horror, Mystery, Sci-Fi',\n",
       "       'Animation, Action, Drama', 'Family, Mystery',\n",
       "       'Adventure, Biography, History', 'Fantasy, Horror, Mystery',\n",
       "       'Family, Musical', 'Drama, Family, Adventure',\n",
       "       'Crime, Horror, Mystery', 'Documentary, Drama, Fantasy',\n",
       "       'Action, Adventure, Biography', 'Biography, History, Thriller',\n",
       "       'Action, Family, Drama', 'Documentary, Drama, Sport',\n",
       "       'Thriller, Mystery', 'Musical, Drama, Comedy',\n",
       "       'Documentary, History, War', 'Adventure, Horror, Thriller',\n",
       "       'Action, Adventure, Horror', 'Action, Crime, War',\n",
       "       'Adventure, Musical, Romance', 'Action, Fantasy, Sci-Fi',\n",
       "       'Drama, Comedy, Action', 'Documentary, Sport',\n",
       "       'Documentary, Adventure, Music', 'Drama, Action, Family',\n",
       "       'Adventure, History, Thriller', 'Adventure, Horror, Romance',\n",
       "       'Adventure, Crime, Horror', 'Mystery, Musical, Romance',\n",
       "       'Action, Crime, History', 'Documentary, Musical',\n",
       "       'Adventure, Fantasy, Musical', 'Documentary, Family, History',\n",
       "       'Documentary, Drama, Family', 'Drama, Mystery, Sci-Fi',\n",
       "       'Animation, Drama, Musical', 'Drama, History, Mystery',\n",
       "       'Drama, Sport, Thriller', 'Action, Crime, Fantasy',\n",
       "       'Comedy, Musical, Mystery', 'Romance, Musical, Action',\n",
       "       'Musical, Drama, Fantasy', 'Animation, Family, History',\n",
       "       'Action, Drama, News', 'Romance, Musical, Comedy',\n",
       "       'Adventure, Fantasy, Horror', 'Adventure, History',\n",
       "       'Comedy, Drama, History', 'Mystery, Sci-Fi',\n",
       "       'Action, Thriller, War', 'Documentary, Drama, News',\n",
       "       'Documentary, Crime, Mystery', 'Adventure, Horror',\n",
       "       'Animation, Drama, Adventure', 'Crime, Horror, Romance',\n",
       "       'Documentary, Adventure, Drama', 'Documentary, Biography, History',\n",
       "       'Fantasy, Horror, Romance', 'Comedy, Fantasy, Musical',\n",
       "       'Crime, Musical, Thriller', 'Documentary, War',\n",
       "       'Action, Comedy, War', 'Crime, Drama, Sport',\n",
       "       'Musical, Adventure, Drama', 'Horror, Romance, Sci-Fi',\n",
       "       'Musical, Mystery, Romance', 'Romance, Musical, Drama',\n",
       "       'Adventure, Fantasy, Sci-Fi'], dtype=object)"
      ]
     },
     "execution_count": 11,
     "metadata": {},
     "output_type": "execute_result"
    }
   ],
   "source": [
    "dataset['Genre'].unique()"
   ]
  },
  {
   "cell_type": "code",
   "execution_count": 12,
   "id": "022c3473",
   "metadata": {},
   "outputs": [
    {
     "data": {
      "text/plain": [
       "0    Drama\n",
       "Name: Genre, dtype: object"
      ]
     },
     "execution_count": 12,
     "metadata": {},
     "output_type": "execute_result"
    }
   ],
   "source": [
    "dataset['Genre'].mode()"
   ]
  },
  {
   "cell_type": "code",
   "execution_count": 13,
   "id": "19ea6c61",
   "metadata": {},
   "outputs": [
    {
     "data": {
      "text/plain": [
       "Votes\n",
       "8        227\n",
       "7        224\n",
       "9        221\n",
       "6        213\n",
       "10       175\n",
       "        ... \n",
       "1,754      1\n",
       "1,208      1\n",
       "1,148      1\n",
       "1,277      1\n",
       "1,496      1\n",
       "Name: count, Length: 2034, dtype: int64"
      ]
     },
     "execution_count": 13,
     "metadata": {},
     "output_type": "execute_result"
    }
   ],
   "source": [
    "dataset['Votes'].value_counts()"
   ]
  },
  {
   "cell_type": "code",
   "execution_count": 14,
   "id": "ac7605fc",
   "metadata": {},
   "outputs": [
    {
     "data": {
      "text/plain": [
       "2034"
      ]
     },
     "execution_count": 14,
     "metadata": {},
     "output_type": "execute_result"
    }
   ],
   "source": [
    "dataset['Votes'].nunique()"
   ]
  },
  {
   "cell_type": "code",
   "execution_count": 15,
   "id": "f650c085",
   "metadata": {},
   "outputs": [
    {
     "data": {
      "text/plain": [
       "Rating\n",
       "6.2     269\n",
       "6.8     264\n",
       "6.5     254\n",
       "6.6     239\n",
       "6.7     227\n",
       "       ... \n",
       "9.6       1\n",
       "1.4       1\n",
       "9.7       1\n",
       "10.0      1\n",
       "1.1       1\n",
       "Name: count, Length: 84, dtype: int64"
      ]
     },
     "execution_count": 15,
     "metadata": {},
     "output_type": "execute_result"
    }
   ],
   "source": [
    "dataset['Rating'].value_counts()"
   ]
  },
  {
   "cell_type": "code",
   "execution_count": 16,
   "id": "575ef0e5",
   "metadata": {},
   "outputs": [
    {
     "data": {
      "text/plain": [
       "6"
      ]
     },
     "execution_count": 16,
     "metadata": {},
     "output_type": "execute_result"
    }
   ],
   "source": [
    "#Finding Number of duplicates\n",
    "dataset.duplicated().sum()"
   ]
  },
  {
   "cell_type": "markdown",
   "id": "f0d98cf6",
   "metadata": {},
   "source": [
    "There are 6 duplicate entries present in the dataset. We drop the duplicate entries "
   ]
  },
  {
   "cell_type": "code",
   "execution_count": 17,
   "id": "d607c474",
   "metadata": {},
   "outputs": [
    {
     "data": {
      "text/plain": [
       "(15503, 10)"
      ]
     },
     "execution_count": 17,
     "metadata": {},
     "output_type": "execute_result"
    }
   ],
   "source": [
    "dataset.drop_duplicates(inplace=True)\n",
    "dataset.shape"
   ]
  },
  {
   "cell_type": "markdown",
   "id": "997fa06d",
   "metadata": {},
   "source": [
    "The dataset now contains 15503 rows without the duplicate entries"
   ]
  },
  {
   "cell_type": "code",
   "execution_count": 18,
   "id": "3c8e6c22",
   "metadata": {},
   "outputs": [
    {
     "data": {
      "text/html": [
       "<div>\n",
       "<style scoped>\n",
       "    .dataframe tbody tr th:only-of-type {\n",
       "        vertical-align: middle;\n",
       "    }\n",
       "\n",
       "    .dataframe tbody tr th {\n",
       "        vertical-align: top;\n",
       "    }\n",
       "\n",
       "    .dataframe thead th {\n",
       "        text-align: right;\n",
       "    }\n",
       "</style>\n",
       "<table border=\"1\" class=\"dataframe\">\n",
       "  <thead>\n",
       "    <tr style=\"text-align: right;\">\n",
       "      <th></th>\n",
       "      <th>Rating</th>\n",
       "    </tr>\n",
       "  </thead>\n",
       "  <tbody>\n",
       "    <tr>\n",
       "      <th>count</th>\n",
       "      <td>7919.000000</td>\n",
       "    </tr>\n",
       "    <tr>\n",
       "      <th>mean</th>\n",
       "      <td>5.841621</td>\n",
       "    </tr>\n",
       "    <tr>\n",
       "      <th>std</th>\n",
       "      <td>1.381777</td>\n",
       "    </tr>\n",
       "    <tr>\n",
       "      <th>min</th>\n",
       "      <td>1.100000</td>\n",
       "    </tr>\n",
       "    <tr>\n",
       "      <th>25%</th>\n",
       "      <td>4.900000</td>\n",
       "    </tr>\n",
       "    <tr>\n",
       "      <th>50%</th>\n",
       "      <td>6.000000</td>\n",
       "    </tr>\n",
       "    <tr>\n",
       "      <th>75%</th>\n",
       "      <td>6.800000</td>\n",
       "    </tr>\n",
       "    <tr>\n",
       "      <th>max</th>\n",
       "      <td>10.000000</td>\n",
       "    </tr>\n",
       "  </tbody>\n",
       "</table>\n",
       "</div>"
      ],
      "text/plain": [
       "            Rating\n",
       "count  7919.000000\n",
       "mean      5.841621\n",
       "std       1.381777\n",
       "min       1.100000\n",
       "25%       4.900000\n",
       "50%       6.000000\n",
       "75%       6.800000\n",
       "max      10.000000"
      ]
     },
     "execution_count": 18,
     "metadata": {},
     "output_type": "execute_result"
    }
   ],
   "source": [
    "#Statistical data of the dataset\n",
    "dataset.describe() "
   ]
  },
  {
   "cell_type": "code",
   "execution_count": 19,
   "id": "8b4a67af",
   "metadata": {},
   "outputs": [
    {
     "data": {
      "text/plain": [
       "Name           0\n",
       "Year         527\n",
       "Duration    8264\n",
       "Genre       1876\n",
       "Rating      7584\n",
       "Votes       7583\n",
       "Director     524\n",
       "Actor 1     1615\n",
       "Actor 2     2381\n",
       "Actor 3     3140\n",
       "dtype: int64"
      ]
     },
     "execution_count": 19,
     "metadata": {},
     "output_type": "execute_result"
    }
   ],
   "source": [
    "dataset.isnull().sum()"
   ]
  },
  {
   "cell_type": "code",
   "execution_count": 20,
   "id": "76d7a29b",
   "metadata": {},
   "outputs": [],
   "source": [
    "#Dropping columns Actor 2 and Actor 3 \n",
    "dataset.drop(columns=['Actor 2' , 'Actor 3','Genre'], axis=1, inplace=True, errors = \"ignore\")"
   ]
  },
  {
   "cell_type": "code",
   "execution_count": 21,
   "id": "8afe4f8f",
   "metadata": {},
   "outputs": [],
   "source": [
    "#Drops rows where Duration is missing\n",
    "dataset.dropna(subset=['Duration'], inplace = True)"
   ]
  },
  {
   "cell_type": "code",
   "execution_count": 22,
   "id": "359fbb71",
   "metadata": {},
   "outputs": [
    {
     "data": {
      "text/plain": [
       "(7239, 7)"
      ]
     },
     "execution_count": 22,
     "metadata": {},
     "output_type": "execute_result"
    }
   ],
   "source": [
    "dataset.shape"
   ]
  },
  {
   "cell_type": "markdown",
   "id": "d6911185",
   "metadata": {},
   "source": [
    "The dataset now contains 7239 rows, we have dropped the rows where duration is missing i.e we have dropped 8264 rows"
   ]
  },
  {
   "cell_type": "code",
   "execution_count": 23,
   "id": "a1ae016c",
   "metadata": {},
   "outputs": [
    {
     "name": "stdout",
     "output_type": "stream",
     "text": [
      "<class 'pandas.core.frame.DataFrame'>\n",
      "Index: 7239 entries, 1 to 15508\n",
      "Data columns (total 7 columns):\n",
      " #   Column    Non-Null Count  Dtype  \n",
      "---  ------    --------------  -----  \n",
      " 0   Name      7239 non-null   object \n",
      " 1   Year      7114 non-null   object \n",
      " 2   Duration  7239 non-null   object \n",
      " 3   Rating    5851 non-null   float64\n",
      " 4   Votes     5851 non-null   object \n",
      " 5   Director  7225 non-null   object \n",
      " 6   Actor 1   6975 non-null   object \n",
      "dtypes: float64(1), object(6)\n",
      "memory usage: 452.4+ KB\n"
     ]
    }
   ],
   "source": [
    "dataset.info()"
   ]
  },
  {
   "cell_type": "code",
   "execution_count": 24,
   "id": "3b6a6c4a",
   "metadata": {},
   "outputs": [
    {
     "data": {
      "text/plain": [
       "Name           0\n",
       "Year         125\n",
       "Duration       0\n",
       "Rating      1388\n",
       "Votes       1388\n",
       "Director      14\n",
       "Actor 1      264\n",
       "dtype: int64"
      ]
     },
     "execution_count": 24,
     "metadata": {},
     "output_type": "execute_result"
    }
   ],
   "source": [
    "dataset.isnull().sum()"
   ]
  },
  {
   "cell_type": "code",
   "execution_count": 25,
   "id": "bea3ea9e",
   "metadata": {},
   "outputs": [
    {
     "data": {
      "text/plain": [
       "(5851, 7)"
      ]
     },
     "execution_count": 25,
     "metadata": {},
     "output_type": "execute_result"
    }
   ],
   "source": [
    "#We drop the rows have null values in votes and ratings\n",
    "\n",
    "dataset.dropna(subset=['Rating', 'Votes'], inplace=True)\n",
    "\n",
    "#Number of rows in dataset after dropping rows with null values in votes and rating\n",
    "\n",
    "dataset.shape"
   ]
  },
  {
   "cell_type": "markdown",
   "id": "7d4c2d39",
   "metadata": {},
   "source": [
    "### Converting Year and Duration to minutes\n",
    "We first convert year and duration to strings and replace '()' and min\n",
    "Then we convert the resultant str to int"
   ]
  },
  {
   "cell_type": "code",
   "execution_count": 26,
   "id": "aa8eaba3",
   "metadata": {},
   "outputs": [
    {
     "data": {
      "text/plain": [
       "Name         0\n",
       "Year         0\n",
       "Duration     0\n",
       "Rating       0\n",
       "Votes        0\n",
       "Director     1\n",
       "Actor 1     75\n",
       "dtype: int64"
      ]
     },
     "execution_count": 26,
     "metadata": {},
     "output_type": "execute_result"
    }
   ],
   "source": [
    "dataset['Year']= dataset['Year'].str.replace(r'[()]','', regex=True)\n",
    "dataset['Duration']= dataset['Duration'].str.replace(r'min','', regex=True)\n",
    "dataset.isnull().sum()"
   ]
  },
  {
   "cell_type": "code",
   "execution_count": 27,
   "id": "88ee99ae",
   "metadata": {},
   "outputs": [
    {
     "name": "stdout",
     "output_type": "stream",
     "text": [
      "<class 'pandas.core.frame.DataFrame'>\n",
      "Index: 5851 entries, 1 to 15508\n",
      "Data columns (total 7 columns):\n",
      " #   Column    Non-Null Count  Dtype  \n",
      "---  ------    --------------  -----  \n",
      " 0   Name      5851 non-null   object \n",
      " 1   Year      5851 non-null   int32  \n",
      " 2   Duration  5851 non-null   int32  \n",
      " 3   Rating    5851 non-null   float64\n",
      " 4   Votes     5851 non-null   object \n",
      " 5   Director  5850 non-null   object \n",
      " 6   Actor 1   5776 non-null   object \n",
      "dtypes: float64(1), int32(2), object(4)\n",
      "memory usage: 320.0+ KB\n"
     ]
    }
   ],
   "source": [
    "dataset['Year']=dataset['Year'].astype(int)\n",
    "dataset['Duration']=dataset['Duration'].astype(int)\n",
    "dataset.info()"
   ]
  },
  {
   "cell_type": "code",
   "execution_count": 28,
   "id": "6ff0f884",
   "metadata": {},
   "outputs": [
    {
     "name": "stdout",
     "output_type": "stream",
     "text": [
      "<class 'pandas.core.frame.DataFrame'>\n",
      "Index: 5851 entries, 1 to 15508\n",
      "Data columns (total 7 columns):\n",
      " #   Column    Non-Null Count  Dtype  \n",
      "---  ------    --------------  -----  \n",
      " 0   Name      5851 non-null   object \n",
      " 1   Year      5851 non-null   int32  \n",
      " 2   Duration  5851 non-null   int32  \n",
      " 3   Rating    5851 non-null   float64\n",
      " 4   Votes     5851 non-null   object \n",
      " 5   Director  5850 non-null   object \n",
      " 6   Actor 1   5776 non-null   object \n",
      "dtypes: float64(1), int32(2), object(4)\n",
      "memory usage: 320.0+ KB\n"
     ]
    }
   ],
   "source": [
    "dataset['Votes']\n",
    "dataset.info()"
   ]
  },
  {
   "cell_type": "markdown",
   "id": "3b66833e",
   "metadata": {},
   "source": [
    "It can be observed that for votes >=1000, there is a ',' in the number, therefore it cannot be converted directly into int. \n",
    "For this, we first replace the ',' with ' ' and then convert it to int data type"
   ]
  },
  {
   "cell_type": "code",
   "execution_count": 29,
   "id": "7a47ca88",
   "metadata": {},
   "outputs": [
    {
     "name": "stdout",
     "output_type": "stream",
     "text": [
      "<class 'pandas.core.frame.DataFrame'>\n",
      "Index: 5851 entries, 1 to 15508\n",
      "Data columns (total 7 columns):\n",
      " #   Column    Non-Null Count  Dtype  \n",
      "---  ------    --------------  -----  \n",
      " 0   Name      5851 non-null   object \n",
      " 1   Year      5851 non-null   int32  \n",
      " 2   Duration  5851 non-null   int32  \n",
      " 3   Rating    5851 non-null   float64\n",
      " 4   Votes     5851 non-null   int32  \n",
      " 5   Director  5850 non-null   object \n",
      " 6   Actor 1   5776 non-null   object \n",
      "dtypes: float64(1), int32(3), object(3)\n",
      "memory usage: 297.1+ KB\n"
     ]
    }
   ],
   "source": [
    "dataset['Votes'] = dataset['Votes'].str.replace(r',','',regex=True)\n",
    "dataset['Votes'] = dataset['Votes'].astype(int)\n",
    "dataset.info()"
   ]
  },
  {
   "cell_type": "code",
   "execution_count": 30,
   "id": "682015d2",
   "metadata": {},
   "outputs": [
    {
     "data": {
      "text/plain": [
       "Director\n",
       "David Dhawan            41\n",
       "Mahesh Bhatt            39\n",
       "Ram Gopal Varma         34\n",
       "Shakti Samanta          34\n",
       "Hrishikesh Mukherjee    33\n",
       "                        ..\n",
       "Dayanand                 1\n",
       "Santosh Kashyap          1\n",
       "Manav Kaul               1\n",
       "Sajeev Balath            1\n",
       "Mozez Singh              1\n",
       "Name: count, Length: 2549, dtype: int64"
      ]
     },
     "execution_count": 30,
     "metadata": {},
     "output_type": "execute_result"
    }
   ],
   "source": [
    "#To handle missing values in Director column, we first check the highest occurring Director name\n",
    "dataset['Director'].value_counts()"
   ]
  },
  {
   "cell_type": "code",
   "execution_count": 31,
   "id": "9331c5a1",
   "metadata": {},
   "outputs": [
    {
     "data": {
      "text/plain": [
       "Name         0\n",
       "Year         0\n",
       "Duration     0\n",
       "Rating       0\n",
       "Votes        0\n",
       "Director     0\n",
       "Actor 1     75\n",
       "dtype: int64"
      ]
     },
     "execution_count": 31,
     "metadata": {},
     "output_type": "execute_result"
    }
   ],
   "source": [
    "#We replace the missing values with David Dhawan\n",
    "\n",
    "dataset['Director'].fillna('David Dhawan', inplace=True)\n",
    "\n",
    "dataset.isnull().sum()"
   ]
  },
  {
   "cell_type": "code",
   "execution_count": 32,
   "id": "82de4498",
   "metadata": {},
   "outputs": [
    {
     "data": {
      "text/plain": [
       "Actor 1\n",
       "Amitabh Bachchan      104\n",
       "Mithun Chakraborty     93\n",
       "Ashok Kumar            91\n",
       "Dharmendra             90\n",
       "Jeetendra              89\n",
       "                     ... \n",
       "A.K. Hangal             1\n",
       "Neera                   1\n",
       "Anay                    1\n",
       "Ashwin Dhar             1\n",
       "Darsheel Safary         1\n",
       "Name: count, Length: 2046, dtype: int64"
      ]
     },
     "execution_count": 32,
     "metadata": {},
     "output_type": "execute_result"
    }
   ],
   "source": [
    "#To handle the missing values in Actor 1 column, we first find the most occurring actor\n",
    "\n",
    "dataset['Actor 1'].value_counts()"
   ]
  },
  {
   "cell_type": "code",
   "execution_count": 33,
   "id": "5c365ad0",
   "metadata": {},
   "outputs": [
    {
     "data": {
      "text/plain": [
       "Name        0\n",
       "Year        0\n",
       "Duration    0\n",
       "Rating      0\n",
       "Votes       0\n",
       "Director    0\n",
       "Actor 1     0\n",
       "dtype: int64"
      ]
     },
     "execution_count": 33,
     "metadata": {},
     "output_type": "execute_result"
    }
   ],
   "source": [
    "# As Amitabh Bachchan is the highest occurring actor, we will replace all the missing values with 'Amitabh Bachchan'\n",
    "\n",
    "dataset['Actor 1'].fillna('Amitabh Bachchan', inplace=True)\n",
    "\n",
    "#We Verify whether all missing values have been handled\n",
    "dataset.isnull().sum()"
   ]
  },
  {
   "cell_type": "code",
   "execution_count": 34,
   "id": "b3ad5ebc",
   "metadata": {},
   "outputs": [
    {
     "data": {
      "text/plain": [
       "Name         object\n",
       "Year          int32\n",
       "Duration      int32\n",
       "Rating      float64\n",
       "Votes         int32\n",
       "Director     object\n",
       "Actor 1      object\n",
       "dtype: object"
      ]
     },
     "execution_count": 34,
     "metadata": {},
     "output_type": "execute_result"
    }
   ],
   "source": [
    "dataset.dtypes"
   ]
  },
  {
   "cell_type": "markdown",
   "id": "ace328c6",
   "metadata": {},
   "source": [
    "# 3. Data Visualization"
   ]
  },
  {
   "cell_type": "code",
   "execution_count": 36,
   "id": "76a36d85",
   "metadata": {},
   "outputs": [],
   "source": [
    "sns.set()"
   ]
  },
  {
   "cell_type": "code",
   "execution_count": 37,
   "id": "ff89703b",
   "metadata": {},
   "outputs": [
    {
     "data": {
      "text/plain": [
       "Index(['Name', 'Year', 'Duration', 'Rating', 'Votes', 'Director', 'Actor 1'], dtype='object')"
      ]
     },
     "execution_count": 37,
     "metadata": {},
     "output_type": "execute_result"
    }
   ],
   "source": [
    "dataset.columns"
   ]
  },
  {
   "cell_type": "code",
   "execution_count": 38,
   "id": "49a5496e",
   "metadata": {},
   "outputs": [
    {
     "data": {
      "text/plain": [
       "<Axes: xlabel='Year', ylabel='Count'>"
      ]
     },
     "execution_count": 38,
     "metadata": {},
     "output_type": "execute_result"
    },
    {
     "data": {
      "image/png": "[encoded data removed]",
      "text/plain": [
       "<Figure size 640x480 with 1 Axes>"
      ]
     },
     "metadata": {},
     "output_type": "display_data"
    }
   ],
   "source": [
    "sns.histplot(x='Year',data=dataset)"
   ]
  },
  {
   "cell_type": "code",
   "execution_count": 39,
   "id": "8df9dd39",
   "metadata": {},
   "outputs": [
    {
     "name": "stderr",
     "output_type": "stream",
     "text": [
      "d:\\Anaconda\\Lib\\site-packages\\seaborn\\axisgrid.py:118: UserWarning: The figure layout has changed to tight\n",
      "  self._figure.tight_layout(*args, **kwargs)\n"
     ]
    },
    {
     "data": {
      "text/plain": [
       "<seaborn.axisgrid.FacetGrid at 0x20dd2f08c50>"
      ]
     },
     "execution_count": 39,
     "metadata": {},
     "output_type": "execute_result"
    },
    {
     "data": {
      "image/png": "[encoded data removed]",
      "text/plain": [
       "<Figure size 500x500 with 1 Axes>"
      ]
     },
     "metadata": {},
     "output_type": "display_data"
    }
   ],
   "source": [
    "sns.displot(x=\"Duration\",data=dataset)"
   ]
  },
  {
   "cell_type": "code",
   "execution_count": 40,
   "id": "f0696761",
   "metadata": {},
   "outputs": [
    {
     "data": {
      "image/png": "[encoded data removed]",
      "text/plain": [
       "<Figure size 640x480 with 1 Axes>"
      ]
     },
     "metadata": {},
     "output_type": "display_data"
    }
   ],
   "source": [
    "plt.hist(dataset['Year'])\n",
    "plt.show()"
   ]
  },
  {
   "cell_type": "code",
   "execution_count": 42,
   "id": "580d915c",
   "metadata": {},
   "outputs": [
    {
     "data": {
      "image/png": "[encoded data removed]",
      "text/plain": [
       "<Figure size 640x480 with 1 Axes>"
      ]
     },
     "metadata": {},
     "output_type": "display_data"
    }
   ],
   "source": [
    "color = sns.color_palette('bright')\n",
    "plt.hist(dataset['Rating'])\n",
    "plt.show()"
   ]
  },
  {
   "cell_type": "code",
   "execution_count": 43,
   "id": "d60192f0",
   "metadata": {},
   "outputs": [
    {
     "name": "stderr",
     "output_type": "stream",
     "text": [
      "d:\\Anaconda\\Lib\\site-packages\\seaborn\\axisgrid.py:118: UserWarning: The figure layout has changed to tight\n",
      "  self._figure.tight_layout(*args, **kwargs)\n"
     ]
    },
    {
     "data": {
      "text/plain": [
       "<seaborn.axisgrid.FacetGrid at 0x20dd3a57810>"
      ]
     },
     "execution_count": 43,
     "metadata": {},
     "output_type": "execute_result"
    },
    {
     "data": {
      "image/png": "[encoded data removed]",
      "text/plain": [
       "<Figure size 500x500 with 1 Axes>"
      ]
     },
     "metadata": {},
     "output_type": "display_data"
    }
   ],
   "source": [
    "sns.relplot(x='Year', y='Duration', data=dataset, kind='line')"
   ]
  },
  {
   "cell_type": "code",
   "execution_count": 44,
   "id": "6870bfdd",
   "metadata": {},
   "outputs": [
    {
     "data": {
      "image/png": "[encoded data removed]",
      "text/plain": [
       "<Figure size 640x480 with 1 Axes>"
      ]
     },
     "metadata": {},
     "output_type": "display_data"
    }
   ],
   "source": [
    "plt.xlabel('Duration')\n",
    "plt.ylabel('Count')\n",
    "plt.hist(x=dataset['Duration'], color='green')\n",
    "plt.show()"
   ]
  },
  {
   "cell_type": "code",
   "execution_count": 45,
   "id": "044a6057",
   "metadata": {},
   "outputs": [
    {
     "data": {
      "text/plain": [
       "Name        0\n",
       "Year        0\n",
       "Duration    0\n",
       "Rating      0\n",
       "Votes       0\n",
       "Director    0\n",
       "Actor 1     0\n",
       "dtype: int64"
      ]
     },
     "execution_count": 45,
     "metadata": {},
     "output_type": "execute_result"
    }
   ],
   "source": [
    "dataset.isnull().sum()"
   ]
  },
  {
   "cell_type": "markdown",
   "id": "37e4f98b",
   "metadata": {},
   "source": [
    "# 3. Encoding Director and Actor 1 columns\n"
   ]
  },
  {
   "cell_type": "code",
   "execution_count": 46,
   "id": "dce76367",
   "metadata": {},
   "outputs": [],
   "source": [
    "from sklearn.preprocessing import LabelEncoder"
   ]
  },
  {
   "cell_type": "code",
   "execution_count": 47,
   "id": "b1ad13b9",
   "metadata": {},
   "outputs": [
    {
     "data": {
      "text/html": [
       "<div>\n",
       "<style scoped>\n",
       "    .dataframe tbody tr th:only-of-type {\n",
       "        vertical-align: middle;\n",
       "    }\n",
       "\n",
       "    .dataframe tbody tr th {\n",
       "        vertical-align: top;\n",
       "    }\n",
       "\n",
       "    .dataframe thead th {\n",
       "        text-align: right;\n",
       "    }\n",
       "</style>\n",
       "<table border=\"1\" class=\"dataframe\">\n",
       "  <thead>\n",
       "    <tr style=\"text-align: right;\">\n",
       "      <th></th>\n",
       "      <th>Name</th>\n",
       "      <th>Year</th>\n",
       "      <th>Duration</th>\n",
       "      <th>Rating</th>\n",
       "      <th>Votes</th>\n",
       "      <th>Director</th>\n",
       "      <th>Actor 1</th>\n",
       "    </tr>\n",
       "  </thead>\n",
       "  <tbody>\n",
       "    <tr>\n",
       "      <th>1</th>\n",
       "      <td>#Gadhvi (He thought he was Gandhi)</td>\n",
       "      <td>2019</td>\n",
       "      <td>109</td>\n",
       "      <td>7.0</td>\n",
       "      <td>8</td>\n",
       "      <td>Gaurav Bakshi</td>\n",
       "      <td>Rasika Dugal</td>\n",
       "    </tr>\n",
       "    <tr>\n",
       "      <th>3</th>\n",
       "      <td>#Yaaram</td>\n",
       "      <td>2019</td>\n",
       "      <td>110</td>\n",
       "      <td>4.4</td>\n",
       "      <td>35</td>\n",
       "      <td>Ovais Khan</td>\n",
       "      <td>Prateik</td>\n",
       "    </tr>\n",
       "    <tr>\n",
       "      <th>5</th>\n",
       "      <td>...Aur Pyaar Ho Gaya</td>\n",
       "      <td>1997</td>\n",
       "      <td>147</td>\n",
       "      <td>4.7</td>\n",
       "      <td>827</td>\n",
       "      <td>Rahul Rawail</td>\n",
       "      <td>Bobby Deol</td>\n",
       "    </tr>\n",
       "    <tr>\n",
       "      <th>6</th>\n",
       "      <td>...Yahaan</td>\n",
       "      <td>2005</td>\n",
       "      <td>142</td>\n",
       "      <td>7.4</td>\n",
       "      <td>1086</td>\n",
       "      <td>Shoojit Sircar</td>\n",
       "      <td>Jimmy Sheirgill</td>\n",
       "    </tr>\n",
       "    <tr>\n",
       "      <th>8</th>\n",
       "      <td>?: A Question Mark</td>\n",
       "      <td>2012</td>\n",
       "      <td>82</td>\n",
       "      <td>5.6</td>\n",
       "      <td>326</td>\n",
       "      <td>Allyson Patel</td>\n",
       "      <td>Yash Dave</td>\n",
       "    </tr>\n",
       "    <tr>\n",
       "      <th>...</th>\n",
       "      <td>...</td>\n",
       "      <td>...</td>\n",
       "      <td>...</td>\n",
       "      <td>...</td>\n",
       "      <td>...</td>\n",
       "      <td>...</td>\n",
       "      <td>...</td>\n",
       "    </tr>\n",
       "    <tr>\n",
       "      <th>15493</th>\n",
       "      <td>Zubaan</td>\n",
       "      <td>2015</td>\n",
       "      <td>115</td>\n",
       "      <td>6.1</td>\n",
       "      <td>408</td>\n",
       "      <td>Mozez Singh</td>\n",
       "      <td>Vicky Kaushal</td>\n",
       "    </tr>\n",
       "    <tr>\n",
       "      <th>15494</th>\n",
       "      <td>Zubeidaa</td>\n",
       "      <td>2001</td>\n",
       "      <td>153</td>\n",
       "      <td>6.2</td>\n",
       "      <td>1496</td>\n",
       "      <td>Shyam Benegal</td>\n",
       "      <td>Karisma Kapoor</td>\n",
       "    </tr>\n",
       "    <tr>\n",
       "      <th>15503</th>\n",
       "      <td>Zulm Ki Zanjeer</td>\n",
       "      <td>1989</td>\n",
       "      <td>125</td>\n",
       "      <td>5.8</td>\n",
       "      <td>44</td>\n",
       "      <td>S.P. Muthuraman</td>\n",
       "      <td>Chiranjeevi</td>\n",
       "    </tr>\n",
       "    <tr>\n",
       "      <th>15505</th>\n",
       "      <td>Zulmi</td>\n",
       "      <td>1999</td>\n",
       "      <td>129</td>\n",
       "      <td>4.5</td>\n",
       "      <td>655</td>\n",
       "      <td>Kuku Kohli</td>\n",
       "      <td>Akshay Kumar</td>\n",
       "    </tr>\n",
       "    <tr>\n",
       "      <th>15508</th>\n",
       "      <td>Zulm-O-Sitam</td>\n",
       "      <td>1998</td>\n",
       "      <td>130</td>\n",
       "      <td>6.2</td>\n",
       "      <td>20</td>\n",
       "      <td>K.C. Bokadia</td>\n",
       "      <td>Dharmendra</td>\n",
       "    </tr>\n",
       "  </tbody>\n",
       "</table>\n",
       "<p>5851 rows × 7 columns</p>\n",
       "</div>"
      ],
      "text/plain": [
       "                                     Name  Year  Duration  Rating  Votes  \\\n",
       "1      #Gadhvi (He thought he was Gandhi)  2019       109     7.0      8   \n",
       "3                                 #Yaaram  2019       110     4.4     35   \n",
       "5                    ...Aur Pyaar Ho Gaya  1997       147     4.7    827   \n",
       "6                               ...Yahaan  2005       142     7.4   1086   \n",
       "8                      ?: A Question Mark  2012        82     5.6    326   \n",
       "...                                   ...   ...       ...     ...    ...   \n",
       "15493                              Zubaan  2015       115     6.1    408   \n",
       "15494                            Zubeidaa  2001       153     6.2   1496   \n",
       "15503                     Zulm Ki Zanjeer  1989       125     5.8     44   \n",
       "15505                               Zulmi  1999       129     4.5    655   \n",
       "15508                        Zulm-O-Sitam  1998       130     6.2     20   \n",
       "\n",
       "              Director          Actor 1  \n",
       "1        Gaurav Bakshi     Rasika Dugal  \n",
       "3           Ovais Khan          Prateik  \n",
       "5         Rahul Rawail       Bobby Deol  \n",
       "6       Shoojit Sircar  Jimmy Sheirgill  \n",
       "8        Allyson Patel        Yash Dave  \n",
       "...                ...              ...  \n",
       "15493      Mozez Singh    Vicky Kaushal  \n",
       "15494    Shyam Benegal   Karisma Kapoor  \n",
       "15503  S.P. Muthuraman      Chiranjeevi  \n",
       "15505       Kuku Kohli     Akshay Kumar  \n",
       "15508     K.C. Bokadia       Dharmendra  \n",
       "\n",
       "[5851 rows x 7 columns]"
      ]
     },
     "execution_count": 47,
     "metadata": {},
     "output_type": "execute_result"
    }
   ],
   "source": [
    "dataset"
   ]
  },
  {
   "cell_type": "markdown",
   "id": "097ad9d1",
   "metadata": {},
   "source": [
    "## 1. Encoding Directors"
   ]
  },
  {
   "cell_type": "code",
   "execution_count": 48,
   "id": "93015435",
   "metadata": {},
   "outputs": [],
   "source": [
    "dataset['Director'] = dataset['Director'].astype('category')"
   ]
  },
  {
   "cell_type": "code",
   "execution_count": 49,
   "id": "e43afd2c",
   "metadata": {},
   "outputs": [
    {
     "data": {
      "text/plain": [
       "['Gaurav Bakshi', 'Ovais Khan', 'Rahul Rawail', 'Shoojit Sircar', 'Allyson Patel', ..., 'Prabhat Roy', 'Kajal Naskar', 'Tariq Bhat', 'Sumitra Bhave', 'Mozez Singh']\n",
       "Length: 2549\n",
       "Categories (2549, object): ['A. Bhimsingh', 'A. Jagannathan', 'A. Majid', 'A. Muthu', ..., 'Ziaullah Khan', 'Zoya Akhtar', 'Zubair Khan', 'Zunaid Memon']"
      ]
     },
     "execution_count": 49,
     "metadata": {},
     "output_type": "execute_result"
    }
   ],
   "source": [
    "dataset['Director'].unique()"
   ]
  },
  {
   "cell_type": "code",
   "execution_count": 50,
   "id": "019903cc",
   "metadata": {},
   "outputs": [
    {
     "data": {
      "text/plain": [
       "2549"
      ]
     },
     "execution_count": 50,
     "metadata": {},
     "output_type": "execute_result"
    }
   ],
   "source": [
    "dataset['Director'].nunique()"
   ]
  },
  {
   "cell_type": "code",
   "execution_count": 51,
   "id": "9712b8bf",
   "metadata": {},
   "outputs": [
    {
     "data": {
      "text/plain": [
       "1          Gaurav Bakshi\n",
       "3             Ovais Khan\n",
       "5           Rahul Rawail\n",
       "6         Shoojit Sircar\n",
       "8          Allyson Patel\n",
       "              ...       \n",
       "15493        Mozez Singh\n",
       "15494      Shyam Benegal\n",
       "15503    S.P. Muthuraman\n",
       "15505         Kuku Kohli\n",
       "15508       K.C. Bokadia\n",
       "Name: Director, Length: 5851, dtype: object"
      ]
     },
     "execution_count": 51,
     "metadata": {},
     "output_type": "execute_result"
    }
   ],
   "source": [
    "dataset['Director'].str.strip()"
   ]
  },
  {
   "cell_type": "code",
   "execution_count": 52,
   "id": "9fd617e6",
   "metadata": {},
   "outputs": [],
   "source": [
    "#Encoding Director using Label Encoder\n",
    "\n",
    "lab_enc=LabelEncoder()"
   ]
  },
  {
   "cell_type": "code",
   "execution_count": 53,
   "id": "15017e63",
   "metadata": {},
   "outputs": [
    {
     "data": {
      "text/html": [
       "<style>#sk-container-id-1 {color: black;}#sk-container-id-1 pre{padding: 0;}#sk-container-id-1 div.sk-toggleable {background-color: white;}#sk-container-id-1 label.sk-toggleable__label {cursor: pointer;display: block;width: 100%;margin-bottom: 0;padding: 0.3em;box-sizing: border-box;text-align: center;}#sk-container-id-1 label.sk-toggleable__label-arrow:before {content: \"▸\";float: left;margin-right: 0.25em;color: #696969;}#sk-container-id-1 label.sk-toggleable__label-arrow:hover:before {color: black;}#sk-container-id-1 div.sk-estimator:hover label.sk-toggleable__label-arrow:before {color: black;}#sk-container-id-1 div.sk-toggleable__content {max-height: 0;max-width: 0;overflow: hidden;text-align: left;background-color: #f0f8ff;}#sk-container-id-1 div.sk-toggleable__content pre {margin: 0.2em;color: black;border-radius: 0.25em;background-color: #f0f8ff;}#sk-container-id-1 input.sk-toggleable__control:checked~div.sk-toggleable__content {max-height: 200px;max-width: 100%;overflow: auto;}#sk-container-id-1 input.sk-toggleable__control:checked~label.sk-toggleable__label-arrow:before {content: \"▾\";}#sk-container-id-1 div.sk-estimator input.sk-toggleable__control:checked~label.sk-toggleable__label {background-color: #d4ebff;}#sk-container-id-1 div.sk-label input.sk-toggleable__control:checked~label.sk-toggleable__label {background-color: #d4ebff;}#sk-container-id-1 input.sk-hidden--visually {border: 0;clip: rect(1px 1px 1px 1px);clip: rect(1px, 1px, 1px, 1px);height: 1px;margin: -1px;overflow: hidden;padding: 0;position: absolute;width: 1px;}#sk-container-id-1 div.sk-estimator {font-family: monospace;background-color: #f0f8ff;border: 1px dotted black;border-radius: 0.25em;box-sizing: border-box;margin-bottom: 0.5em;}#sk-container-id-1 div.sk-estimator:hover {background-color: #d4ebff;}#sk-container-id-1 div.sk-parallel-item::after {content: \"\";width: 100%;border-bottom: 1px solid gray;flex-grow: 1;}#sk-container-id-1 div.sk-label:hover label.sk-toggleable__label {background-color: #d4ebff;}#sk-container-id-1 div.sk-serial::before {content: \"\";position: absolute;border-left: 1px solid gray;box-sizing: border-box;top: 0;bottom: 0;left: 50%;z-index: 0;}#sk-container-id-1 div.sk-serial {display: flex;flex-direction: column;align-items: center;background-color: white;padding-right: 0.2em;padding-left: 0.2em;position: relative;}#sk-container-id-1 div.sk-item {position: relative;z-index: 1;}#sk-container-id-1 div.sk-parallel {display: flex;align-items: stretch;justify-content: center;background-color: white;position: relative;}#sk-container-id-1 div.sk-item::before, #sk-container-id-1 div.sk-parallel-item::before {content: \"\";position: absolute;border-left: 1px solid gray;box-sizing: border-box;top: 0;bottom: 0;left: 50%;z-index: -1;}#sk-container-id-1 div.sk-parallel-item {display: flex;flex-direction: column;z-index: 1;position: relative;background-color: white;}#sk-container-id-1 div.sk-parallel-item:first-child::after {align-self: flex-end;width: 50%;}#sk-container-id-1 div.sk-parallel-item:last-child::after {align-self: flex-start;width: 50%;}#sk-container-id-1 div.sk-parallel-item:only-child::after {width: 0;}#sk-container-id-1 div.sk-dashed-wrapped {border: 1px dashed gray;margin: 0 0.4em 0.5em 0.4em;box-sizing: border-box;padding-bottom: 0.4em;background-color: white;}#sk-container-id-1 div.sk-label label {font-family: monospace;font-weight: bold;display: inline-block;line-height: 1.2em;}#sk-container-id-1 div.sk-label-container {text-align: center;}#sk-container-id-1 div.sk-container {/* jupyter's `normalize.less` sets `[hidden] { display: none; }` but bootstrap.min.css set `[hidden] { display: none !important; }` so we also need the `!important` here to be able to override the default hidden behavior on the sphinx rendered scikit-learn.org. See: https://github.com/scikit-learn/scikit-learn/issues/21755 */display: inline-block !important;position: relative;}#sk-container-id-1 div.sk-text-repr-fallback {display: none;}</style><div id=\"sk-container-id-1\" class=\"sk-top-container\"><div class=\"sk-text-repr-fallback\"><pre>LabelEncoder()</pre><b>In a Jupyter environment, please rerun this cell to show the HTML representation or trust the notebook. <br />On GitHub, the HTML representation is unable to render, please try loading this page with nbviewer.org.</b></div><div class=\"sk-container\" hidden><div class=\"sk-item\"><div class=\"sk-estimator sk-toggleable\"><input class=\"sk-toggleable__control sk-hidden--visually\" id=\"sk-estimator-id-1\" type=\"checkbox\" checked><label for=\"sk-estimator-id-1\" class=\"sk-toggleable__label sk-toggleable__label-arrow\">LabelEncoder</label><div class=\"sk-toggleable__content\"><pre>LabelEncoder()</pre></div></div></div></div></div>"
      ],
      "text/plain": [
       "LabelEncoder()"
      ]
     },
     "execution_count": 53,
     "metadata": {},
     "output_type": "execute_result"
    }
   ],
   "source": [
    "lab_enc.fit(dataset['Director'])"
   ]
  },
  {
   "cell_type": "code",
   "execution_count": 54,
   "id": "a21f3736",
   "metadata": {},
   "outputs": [],
   "source": [
    "dataset['Director Encoded'] = lab_enc.transform(dataset['Director'])"
   ]
  },
  {
   "cell_type": "code",
   "execution_count": 55,
   "id": "cebbd22f",
   "metadata": {},
   "outputs": [
    {
     "name": "stdout",
     "output_type": "stream",
     "text": [
      "{'A. Bhimsingh': 0, 'A. Jagannathan': 1, 'A. Majid': 2, 'A. Muthu': 3, 'A. Salaam': 4, 'A. Shamsheer': 5, 'A. Veerappan': 6, 'A.C. Trilogchander': 7, 'A.K. Bir': 8, 'A.L. Vijay': 9, 'A.M.R. Ramesh': 10, 'A.P. Nagarajan': 11, 'A.P. Subbaraav': 12, 'A.R. Murugadoss': 13, 'A.T. Joy': 14, 'A.T. Raghu': 15, 'Aadish Keluskar': 16, 'Aakkoo': 17, 'Aamir Bashir': 18, 'Aamir Khan': 19, 'Aamreeta Gautam': 20, 'Aanand L. Rai': 21, 'Aanand Raut': 22, 'Aarif Sheikh': 23, 'Aarti S. Bagdi': 24, 'Aarti Shrivastava': 25, 'Aarun Nagar': 26, 'Aaryaan Saxena': 27, 'Aashish Chanana': 28, 'Aatish Kapadia': 29, 'Aban Bharucha Deohans': 30, 'Abbas Alibhai Burmawalla': 31, 'Abbas Tyrewala': 32, 'Abdul Qayyoom Khan': 33, 'Abdul Rashid Kardar': 34, 'Abdul Sattar': 35, 'Abhay Chhabra': 36, 'Abhay Chopra': 37, 'Abhay Kumar': 38, 'Abhigyan Jha': 39, 'Abhijeet Kumar': 40, 'Abhijit Kokate': 41, 'Abhijit Panse': 42, 'Abhimanyu Chauhan': 43, 'Abhinav Kashyap': 44, 'Abhinav Shiv Tiwari': 45, 'Abhinav Thakur': 46, 'Abhinay Deo': 47, 'Abhiraj Minawala': 48, 'Abhiram': 49, 'Abhiroop Basu': 50, 'Abhishek Chaubey': 51, 'Abhishek Chhadha': 52, 'Abhishek Dixit': 53, 'Abhishek Dogra': 54, 'Abhishek Jain': 55, 'Abhishek Jawkar': 56, 'Abhishek Kapoor': 57, 'Abhishek Pathak': 58, 'Abhishek Saxena': 59, 'Abhishek Sharma': 60, 'Abhishek Utkarsh Deokar': 61, 'Abhishek Varman': 62, 'Abir Sengupta': 63, 'Abrar': 64, 'Abrar Alvi': 65, 'Adam Avil': 66, 'Adam Dow': 67, 'Adarsh Eshwarappa': 68, 'Adarsh Jain': 69, 'Adeeb Rais': 70, 'Adi Irani': 71, 'Aditi Roy': 72, 'Aditya Bhattacharya': 73, 'Aditya Chopra': 74, 'Aditya Datt': 75, 'Aditya Dhar': 76, 'Aditya Kripalani': 77, 'Aditya Kumar': 78, 'Aditya Om': 79, 'Aditya Sarpotdar': 80, 'Aditya Warang': 81, 'Adurthi Subba Rao': 82, 'Advait Chandan': 83, 'Afzal Ahmad': 84, 'Agasthya Manju': 85, 'Agneya Singh': 86, 'Agrawal Mukesh Narayan': 87, 'Ahathian': 88, 'Ahishor Solomon': 89, 'Ahmed Khan': 90, 'Aijaz Khan': 91, 'Ajai Sinha': 92, 'Ajay Bahl': 93, 'Ajay Bhuyan': 94, 'Ajay Chandhok': 95, 'Ajay Devaloka': 96, 'Ajay Devgn': 97, 'Ajay Govind': 98, 'Ajay K Saklani': 99, 'Ajay Karthik': 100, 'Ajay Kashyap': 101, 'Ajay Koli': 102, 'Ajay Kumar': 103, 'Ajay Lohan': 104, 'Ajay Mehra': 105, 'Ajay Naik': 106, 'Ajay Pannalal': 107, 'Ajay Phansekar': 108, 'Ajay Yadav': 109, 'Ajeet Kumar': 110, 'Ajit Dewani': 111, 'Ajit P. Bhairavkar': 112, 'Ajit Pal Mangat': 113, 'Ajit Singh Deol': 114, 'Ajit Sinha': 115, 'Ajit Varma': 116, 'Ajita Suchitra Veera': 117, 'Ajitpal Singh': 118, 'Ajoy Varma': 119, 'Akarsh Khurana': 120, 'Akash Shukla': 121, 'Akashdeep': 122, 'Akbar Khan': 123, 'Akhil Gautam': 124, 'Akhilesh Jaiswal': 125, 'Akhilesh Verma': 126, 'Akhtar Hussein': 127, 'Akhtar Mirza': 128, 'Akiv Ali': 129, 'Akram Shaikh': 130, 'Akshat Verma': 131, 'Akshay Akkineni': 132, 'Akshay Anand': 133, 'Akshay Dinesh Vaishnav': 134, 'Akshay Indikar': 135, 'Akshay Roy': 136, 'Akshay Shere': 137, 'Akshay Singh': 138, 'Aku Akbar': 139, 'Alankrita Shrivastava': 140, 'Alessandra Zeka': 141, 'Aleya Sen': 142, 'Ali Abbas Zafar': 143, 'Allyson Patel': 144, 'Alo Sarkar': 145, 'Alok Shrivastav': 146, 'Aloknath Dixit': 147, 'Amaan Khan': 148, 'Aman Sachdeva': 149, 'Amar Butala': 150, 'Amar Kaushik': 151, 'Amar Kumar': 152, 'Amarjeet': 153, 'Ambrish Sangal': 154, 'Ameer Sultan': 155, 'Amin Hajee': 156, 'Amira Bhargava': 157, 'Amit Agarwal': 158, 'Amit Bose': 159, 'Amit Chandra Sahay': 160, 'Amit Dutta': 161, 'Amit Kasaria': 162, 'Amit Khanna': 163, 'Amit Kumar': 164, 'Amit Masurkar': 165, 'Amit Mitra': 166, 'Amit Rai': 167, 'Amit Ravindernath Sharma': 168, 'Amit Roy': 169, 'Amit Saxena': 170, 'Amit Singh': 171, 'Amit Suryavanshi': 172, 'Amit Virmani': 173, 'Amitabha Singh': 174, 'Amitoj Mann': 175, 'Amiya Chakrabarty': 176, 'Amjad Khan': 177, 'Amlan Datta': 178, 'Amol Palekar': 179, 'Amol Shetge': 180, 'Amole Gupte': 181, 'Amrit Nahata': 182, 'Amrit Raj Thakur': 183, 'Amrit Sagar': 184, 'Amy Thanawala': 185, 'Anamika Haksar': 186, 'Anand': 187, 'Anand Balraj': 188, 'Anand Dutta': 189, 'Anand Gaekwad': 190, 'Anand Gandhi': 191, 'Anand P. Raju': 192, 'Anand Patwardhan': 193, 'Anand Sagar': 194, 'Anand Surapur': 195, 'Anand Tiwari': 196, 'Anant Balani': 197, 'Anant Thakur': 198, 'Anant Tripathi': 199, 'Ananth Narayan Mahadevan': 200, 'Ananya Kasarvalli': 201, 'Andaleeb Sultanpuri': 202, 'Andreas Koefoed': 203, 'Andrzej Bartkowiak': 204, 'Anees Bazmee': 205, 'Ang Lee': 206, 'Anil': 207, 'Anil Bajpai': 208, 'Anil Ballani': 209, 'Anil Chaudhary': 210, 'Anil Chorasiya': 211, 'Anil Devgan': 212, 'Anil Dhoble': 213, 'Anil Ganguly': 214, 'Anil Hingorani': 215, 'Anil Mattoo': 216, 'Anil Mehta': 217, 'Anil Naryani': 218, 'Anil Senior': 219, 'Anil Sharma': 220, 'Anil Srikantam': 221, 'Aniruddha Roy Chowdhury': 222, 'Anirudh Baboo': 223, 'Anirudh Chawla': 224, 'Anish Khanna': 225, 'Anita Udeep': 226, 'Anjan Dutt': 227, 'Anjanikumar Tripathi': 228, 'Ankush': 229, 'Ankush Bhatt': 230, 'Annant Jaaitpaal': 231, 'Annu Kapoor': 232, 'Anshai Lal': 233, 'Anshul Adhikari': 234, 'Anshul Sharma': 235, 'Antara Mali': 236, 'Antariksh Jain': 237, \"Anthony D'Souza\": 238, 'Anthony Maras': 239, 'Anu Menon': 240, 'Anubhav Sinha': 241, 'Anup Das': 242, 'Anup Kurian': 243, 'Anup Samaddar': 244, 'Anup Singh': 245, 'Anupam Kher': 246, 'Anupam Sinha': 247, 'Anurag Basu': 248, 'Anurag Jha': 249, 'Anurag Kashyap': 250, 'Anurag Kawatra': 251, 'Anurag Singh': 252, 'Anusha Rizvi': 253, 'Anvita Dutt': 254, 'Anwar Jamal': 255, 'Anwer Khan': 256, 'Aparna Sen': 257, 'Aparnaa Singh': 258, 'Apoorva Lakhia': 259, 'Apurba Kishore Bir': 260, 'Apurv Bajpai': 261, 'Apurva Asrani': 262, 'Apurva Dhar Badgaiyann': 263, 'Arati Kadav': 264, 'Aravind Sen': 265, 'Arbaaz Khan': 266, 'Ardeshir Irani': 267, 'Arif Ali': 268, 'Arindam Mitra': 269, 'Arindam Nandy': 270, 'Arjun Bali': 271, 'Arjun Hingorani': 272, 'Arjun Mukerjee': 273, 'Arjun Sablok': 274, 'Arjun Sajnani': 275, 'Arjun Sarja': 276, 'Arka Ganguly': 277, 'Arnab Chaudhuri': 278, 'Aron Govil': 279, 'Arpa Khan': 280, 'Arshad Khan': 281, 'Arshad Siddiqui': 282, 'Arun Bhatt': 283, 'Arun Dutt': 284, 'Arun Kaul': 285, 'Arun Khopkar': 286, 'Arun Kumar Rapolu': 287, 'Aruna Raje': 288, 'Arup Dutta': 289, 'Arvind Pandey': 290, 'Arvind Pratap': 291, 'Arvind Sinha': 292, 'Aryan Neeraaj Anand': 293, 'Aryeman Ramsay': 294, 'Asad Shan': 295, 'Ashfaq Makrani': 296, 'Ashim Ahluwalia': 297, 'Ashim S. Samanta': 298, 'Ashima Chibber': 299, 'Ashish Aryan': 300, 'Ashish Avikunthak': 301, 'Ashish Deo': 302, 'Ashish Lal': 303, 'Ashish R. Mohan': 304, 'Ashish R. Shukla': 305, 'Ashok Ahuja': 306, 'Ashok Chattopadhyay': 307, 'Ashok G.': 308, 'Ashok Gaekwad': 309, 'Ashok Ghai': 310, 'Ashok Honda': 311, 'Ashok Kaul': 312, 'Ashok Kohli': 313, 'Ashok Kumar': 314, 'Ashok Mehta': 315, 'Ashok Nanda': 316, 'Ashok Roy': 317, 'Ashok Tyagi': 318, 'Ashok V. Bhushan': 319, 'Ashok Yadav': 320, 'Ashtar Sayed': 321, 'Ashu Trikha': 322, 'Ashutosh Gowariker': 323, 'Ashvin Kumar': 324, 'Ashwani Dhir': 325, 'Ashwin Shetty': 326, 'Ashwini Chaudhary': 327, 'Ashwiny Iyer Tiwari': 328, 'Asif Kapadia': 329, 'Asit Kumar Sen': 330, 'Asit Sen': 331, 'Aslam Azmi': 332, 'Aspi Irani': 333, 'Asrani': 334, 'Atanu Mukherjee': 335, 'Atish Tripathi': 336, 'Atlanta Nagendra': 337, 'Atma Ram': 338, 'Atul Agnihotri': 339, 'Atul Sabharwal': 340, 'Atul Sriva': 341, 'Avani Rai': 342, 'Avinash Das': 343, 'Avinash Dhyani': 344, 'Avinash Kumar Singh': 345, 'Avinash Walzade': 346, 'Avtar Bhogal': 347, 'Awtar Krishna Kaul': 348, 'Ayan Mukherjee': 349, 'Ayush Raina': 350, 'Ayush Upadhyay': 351, 'Azad Jain': 352, 'Azhar Hussain': 353, 'Aziz Khan': 354, 'Aziz Mirza': 355, 'Aziz Naser': 356, 'Aziz Sejawal': 357, 'Aziz Zee': 358, 'B. Gupta': 359, 'B. Krishna Rao': 360, 'B. Padmanabham': 361, 'B. Prasad': 362, 'B. Ramakrishnaiah Panthulu': 363, 'B. Trilochan': 364, 'B. Vittalacharya': 365, 'B.H. Tharun Kumar': 366, 'B.K. Adarsh': 367, 'B.R. Chopra': 368, 'B.R. Ishara': 369, 'B.S. Glaad': 370, 'B.S. Thapa': 371, 'Baba Azmi': 372, 'Babbar Subhash': 373, 'Babloo Seshadri': 374, 'Baboobhai Bhanji': 375, 'Babu Yogeswaran': 376, 'Babubhai Mistry': 377, 'Baby': 378, 'Balasekaran': 379, 'Balbir Wadhawan': 380, 'Balmukund Tripathi': 381, 'Balraj Tah': 382, 'Balu Mahendra': 383, 'Balvinder Sandhu': 384, 'Banty Dubey': 385, 'Bappaditya Bandopadhyay': 386, 'Bappaditya Roy': 387, 'Bapu': 388, 'Basu Bhattacharya': 389, 'Basu Chatterjee': 390, 'Bat for Lashes': 391, 'Batra Mohinder': 392, 'Batul Mukhtiar': 393, 'Bauddhayan Mukherji': 394, 'Bedabrata Pain': 395, 'Behzad Khambata': 396, 'Bejoy Nambiar': 397, 'Bela Negi': 398, 'Bela Segal': 399, 'Bhabendra Nath Saikia': 400, 'Bhagwati Prasad Mishra': 401, 'Bhagyaraj': 402, 'Bhalji Pendharkar': 403, 'Bhanu Pratap Singh': 404, 'Bhappi Sonie': 405, 'Bharat Jain': 406, 'Bharat Kapoor': 407, 'Bharat Rangachary': 408, 'Bharathan': 409, 'Bharathiraja': 410, 'Bharti Niranjan': 411, 'Bhaskar Shetty': 412, 'Bhavik Thakore': 413, 'Bhavin Wadia': 414, 'Bhavna Talwar': 415, 'Bhimsain': 416, 'Bhooshan Lal': 417, 'Bhupender Gupta': 418, 'Bhushan Patel': 419, 'Bibhuti Mitra': 420, 'Biju Bhaskar Nair': 421, 'Bijukumar Damodaran': 422, 'Bikas Ranjan Mishra': 423, 'Bikramjeet Bhullar': 424, 'Bimal Roy': 425, 'Binod Pradhan': 426, 'Binu Bhaskar': 427, 'Bipin Nadkarni': 428, 'Biplab Roy Chowdhury': 429, 'Biren Nag': 430, 'Bishnu Dev Halder': 431, 'Biswajeet Bora': 432, 'Bobby Khan': 433, 'Bobby Raj': 434, 'Boopathy Pandian': 435, 'Bornila Chatterjee': 436, 'Brahmanand S. Singh': 437, 'Brij': 438, 'Brijesh Batuknath Tripathi': 439, 'Bruce Parry': 440, 'Buddhadev Dasgupta': 441, 'Bugs Bhargava Krishna': 442, 'Bumpy': 443, 'Bunty Soorma': 444, 'C. Jenner Jose': 445, 'C.H. Balaji Singh Babu': 446, 'C.L. Rawal': 447, 'C.M. Jain': 448, 'C.P. Dixit': 449, 'C.V. Sasikumar': 450, 'C.V. Sridhar': 451, 'Catherine McGilvray': 452, 'Chaitanya Tamhane': 453, 'Chakri Toleti': 454, 'Chand': 455, 'Chandan Arora': 456, 'Chander H. Bahl': 457, 'Chander Mishra': 458, 'Chander Vohra': 459, 'Chandersen Singh': 460, 'Chandni Gupta': 461, 'Chandra Barot': 462, 'Chandra Prakash Dwivedi': 463, 'Chandra Sekhar Yeleti': 464, 'Chandrakant': 465, 'Chandrakant Kanse': 466, 'Chandrakant Singh': 467, 'Chandrasekhar Reddy': 468, 'Chandulal Shah': 469, 'Chapour Haghighat': 470, 'Charudutt Acharya': 471, 'Chawla': 472, 'Chella': 473, 'Cherag Ruparel': 474, 'Chetan Anand': 475, 'Chetan Desai': 476, 'Chetan Sharma': 477, 'Chhatrapal Ninawe': 478, 'Chinni Prakash': 479, 'Chitraarth': 480, 'Chittaranjan Tripathy': 481, 'Chuck Russell': 482, 'Cristina Hanes': 483, 'Csaba Bene Perlenberg': 484, 'Cédric Dupire': 485, 'D. Rajendra Babu': 486, 'D. Rama Naidu': 487, 'D. Sumana Kittur': 488, 'D.D. Kashyap': 489, 'D.N. Pai': 490, 'D.S. Azad': 491, 'Dada Kondke': 492, 'Dada Mirasi': 493, 'Dakxin Bajrange': 494, 'Daniel Kremer': 495, 'Danis Tanovic': 496, 'Danish Aslam': 497, 'Danish Raza': 498, 'Danny Denzongpa': 499, 'Dar Gai': 500, 'Dara Singh': 501, 'Darshan Sabharwal': 502, 'Dasaradh': 503, 'David Atkins': 504, 'David Dhawan': 505, 'David MacDougall': 506, 'Dayal Nihalani': 507, 'Dayal Padmanabhan': 508, 'Dayanand': 509, 'Deb Medhekar': 510, 'Deb Mukherjee': 511, 'Debaki Bose': 512, 'Debaloy Dey': 513, 'Debarati Gupta': 514, 'Debu Sen': 515, 'Dedipya Joshii': 516, 'Deekshit Kaul': 517, 'Deepa Mehta': 518, 'Deepa Sahi': 519, 'Deepak Anand': 520, 'Deepak Bahry': 521, 'Deepak Baldev': 522, 'Deepak Balraj Vij': 523, 'Deepak Mahajan': 524, 'Deepak Pawar': 525, 'Deepak Ramsay': 526, 'Deepak Ramteke': 527, 'Deepak S. Shivdasani': 528, 'Deepak Sareen': 529, 'Deepak Tanwar': 530, 'Deepak Tijori': 531, 'Deepika Narayan Bhardwaj': 532, 'Deepshikha Nagpal': 533, 'Deepti Gupta': 534, 'Deepti Kakkar': 535, 'Desh Deepak': 536, 'Desh Gautam': 537, 'Desh Mukherjee': 538, 'Dev Anand': 539, 'Dev Benegal': 540, 'Deva Katta': 541, 'Devang Dholakia': 542, 'Devanshu Singh': 543, 'Devashish Makhija': 544, 'Deven Bhojani': 545, 'Deven Verma': 546, 'Devendra Bhagat': 547, 'Devendra Goel': 548, 'Devesh Pratap Singh': 549, 'Devi Sharma': 550, 'Devika Bhagat': 551, 'Dharam': 552, 'Dharam Kumar': 553, 'Dharam Prakash': 554, 'Dharan Mandrayar': 555, 'Dharani': 556, 'Dharmendra Suresh Desai': 557, 'Dharmesh Darshan': 558, 'Dharmesh Tiwari': 559, 'Dhavala Satyam': 560, 'Dheeraj Kumar': 561, 'Dheeraj Pandit': 562, 'Dheeraj Sharma': 563, 'Dhiraj Kumar': 564, 'Dhirendra Bohra': 565, 'Dhirubhai Desai': 566, 'Dhorairaj Bhagavan': 567, 'Dhruv': 568, 'Dhruv Sachdev': 569, 'Dhwanil Mehta': 570, 'Diane Cheklich': 571, 'Dibakar Banerjee': 572, 'Digvijay Singh': 573, 'Dilip Chitre': 574, 'Dilip Ghosh': 575, 'Dilip Gulati': 576, 'Dilip Kumar': 577, 'Dilip Mehta': 578, 'Dilip Naik': 579, 'Dilip Shankar': 580, 'Dilip Shukla': 581, 'Dilip Sood': 582, 'Dinesh D. Awasthi': 583, 'Dinesh P. Bhonsle': 584, 'Dinesh Parihar': 585, 'Dinesh Vijan': 586, 'Dinesh-Ramanesh': 587, 'Dinkar Kapur': 588, 'Dinkar Rao': 589, 'Dipankar Senapati': 590, 'Dipanshu Dang': 591, 'Dipesh Jain': 592, 'Divakar Ghodake': 593, 'Divya Khosla Kumar': 594, 'Doondi': 595, 'Dr. Jay': 596, 'Dulal Guha': 597, 'Durai': 598, 'Dushyant Pratap Singh': 599, 'Dutta Madhusree': 600, 'Dwarka Khosla': 601, 'Dylan Mohan Gray': 602, 'E.V.V. Satyanarayana': 603, 'Eeshwar Nivas': 604, 'Ejaz Ahmed': 605, 'Ejaz Gulab': 606, 'Ekant Babani': 607, 'Ektara Collective': 608, 'Elan Dassani': 609, 'Ellis Dungan': 610, 'Esmayeel Shroff': 611, 'Esshan Katara': 612, 'Ezhil Vendan': 613, 'Fahim Irshad': 614, 'Faisal Kapdi': 615, 'Faisal Khan': 616, 'Faisal Saif': 617, 'Faisal Simon': 618, 'Faiza Ahmad Khan': 619, 'Fali Mistry': 620, 'Farah Khan': 621, 'Faraz Haider': 622, 'Faredoon A. Irani': 623, 'Fareeda Mehta': 624, 'Farhad Samji': 625, 'Farhan Akhtar': 626, 'Farogh Siddique': 627, 'Faruk Kabir': 628, 'Faruq Masudi': 629, 'Fauzia Arshi': 630, 'Fazil': 631, 'Fenil Seta': 632, 'Feroz Abbas Khan': 633, 'Feroz Chinoy': 634, 'Feroz Khan': 635, 'Firoz Irani': 636, 'Francesca Archibugi': 637, 'Frank Gladstone': 638, 'Franz Osten': 639, 'Fuwad Khan': 640, 'G. Krishna': 641, 'G. Rakesh': 642, 'G. Suman Reddy': 643, 'G. Venugopal': 644, 'G.B. Vijay': 645, 'G.N. Rangarajan': 646, 'G.P. Sippy': 647, 'G.S. Murthy': 648, 'G.S. Vijayan': 649, 'G.V. Iyer': 650, 'Gagan Puri': 651, 'Gaganvihari Borate': 652, 'Gajendra Ahire': 653, 'Gajendra Shanker Shrotriya': 654, 'Ganapathy Bharat': 655, 'Ganesh Acharya': 656, 'Ganesh Mehta': 657, 'Ganpati Bohra': 658, 'Garth Davis': 659, 'Gaurav Bakshi': 660, 'Gaurav Jain': 661, 'Gaurav Jani': 662, 'Gaurav Mehra': 663, 'Gaurav Pandey': 664, 'Gaurav Panjwani': 665, 'Gauravv K. Chawla': 666, 'Gauri Shinde': 667, 'Gautam Joshi': 668, 'Gautam Singh': 669, 'Gautam Verma': 670, 'Gautham Vasudev Menon': 671, 'Gaël Métroz': 672, 'Geethapriya': 673, 'Geethu Mohandas': 674, 'Ghorban Mohammadpour': 675, 'Giresh Naik': 676, 'Girish Dhamija': 677, 'Girish Juneja': 678, 'Girish Karnad': 679, 'Girish Kasaravalli': 680, 'Girish Malik': 681, 'Gitanjali Rao': 682, 'Glen Barreto': 683, 'Glória Halász': 684, 'Goldie Behl': 685, 'Gopal B.': 686, 'Gopal Malhotra': 687, 'Gopi Desai': 688, 'Gopi Puthran': 689, 'Gopi Sapru': 690, 'Goran Paskaljevic': 691, 'Goutam Ghose': 692, 'Goutam Pawar': 693, 'Govind Menon': 694, 'Govind Mishra': 695, 'Govind Moonis': 696, 'Govind Nihalani': 697, 'Govind Sakariya': 698, 'Govind Saraiya': 699, 'Guddu Dhanoa': 700, 'Gul Bahar Singh': 701, 'Gulshan Kumar': 702, 'Gulzar': 703, 'Gunveen Kaur': 704, 'Gurdip Singh': 705, 'Gurinder Chadha': 706, 'Gurmeet Ram Rahim Singh': 707, 'Gurmmeet Singh': 708, 'Gurpreet Sondh': 709, 'Guru Dutt': 710, 'Gurudev Bhalla': 711, 'Gurvinder Singh': 712, 'Gyan Correa': 713, 'Gyan Mukherjee': 714, 'H. Dinesh': 715, 'Habib Faisal': 716, 'Hadi Abrar': 717, 'Hadi ali Abar': 718, 'Haidar Ali': 719, 'Hameed Alam': 720, 'Hamid Ali Khan': 721, 'Hansal Mehta': 722, 'Hanu Raghavapudi': 723, 'Hardik Mehta': 724, 'Hari Viswanath': 725, 'Hari Walia': 726, 'Harinam Singh': 727, 'Harish Bhosle': 728, 'Harish Kumar': 729, 'Harish Raut': 730, 'Harish Shah': 731, 'Harish Sharma': 732, 'Harish Vyas': 733, 'Harmage Singh Kalirai': 734, 'Harmesh Malhotra': 735, 'Harnam Singh Rawail': 736, 'Harry Baweja': 737, 'Harryy W. Fernaandes': 738, 'Harsh Chhaya': 739, 'Harshavardhan Kulkarni': 740, 'Harsukh Jagneshwar Bhatt': 741, 'Hasnain Hyderabadwala': 742, 'Hassan Nazer': 743, 'Heena Dsouza': 744, 'Hema Malini': 745, 'Hemant Birje': 746, 'Hemant Gaba': 747, 'Hemant Hegde': 748, 'Hemant Madhukar': 749, 'Hemant N Mishra': 750, 'Hemant Nilim Das': 751, 'Hemanth Kumar': 752, 'Hemchandra Chunder': 753, 'Hemen Gupta': 754, 'Hemnt Praddeep': 755, 'Himanshu Brahmbhatt': 756, 'Himanshu Yadav': 757, 'Hiren Nag': 758, 'Hitesh Kewalya': 759, 'Homi Adajania': 760, 'Homi Master': 761, 'Homi Wadia': 762, 'Honey Irani': 763, 'Honey Trehan': 764, 'Honeypreet Insan': 765, 'Howard Rosemeyer': 766, 'Hriday Shetty': 767, 'Hrishikesh Mukherjee': 768, 'Hunsur Krishnamurthy': 769, 'Hussein Khan': 770, 'Hyder Kazmi': 771, 'Hyewon Jee': 772, 'I.A. Siddique': 773, 'I.S. Johar': 774, 'I.V. Sasi': 775, 'Imran Khalid': 776, 'Imran Khan': 777, 'Imtiaz Ali': 778, 'Imtiaz Punjabi': 779, 'Inayat Mahshar': 780, 'Inder Raj Anand': 781, 'Inder Sen': 782, 'Indervesh Yogee': 783, 'Indra Kumar': 784, 'Indra Narayan Datta': 785, 'Indrajit Lankesh': 786, 'Indrajit Nattoji': 787, 'Indranil Roychowdhury': 788, 'Inka Achté': 789, 'Iqbal Baksh': 790, 'Iqbal Durrani': 791, 'Irene Zoe Alameda': 792, 'Irfan Kamal': 793, 'Irfan Khan': 794, 'Irshad': 795, 'Irshad Khan': 796, 'Ishaan Nair': 797, 'Ishaan Trivedi': 798, 'Ismail Darbar': 799, 'Ismail Memon': 800, 'Ismail Merchant': 801, 'Ismat Chughtai': 802, 'Israr Ahmed': 803, 'Ivan Ayr': 804, 'Ivan Oneka': 805, 'J. Mahendran': 806, 'J. Misra': 807, 'J. Om Prakash': 808, 'J.D. Chakravarthi': 809, 'J.J. Madan': 810, 'J.K. Bihari': 811, 'J.P. Dutta': 812, 'J.S. Randhawa': 813, 'Jabbar Patel': 814, 'Jag Mundhra': 815, 'Jagan': 816, 'Jagan Shakti': 817, 'Jagannath Chatterjee': 818, 'Jagat Joon': 819, 'Jagbir Dahiya': 820, 'Jagdeep': 821, 'Jagdev Bhambri': 822, 'Jagdish A. Sharma': 823, 'Jagdish Kadar': 824, 'Jagdish Nirula': 825, 'Jagdish Pandey': 826, 'Jagdish Rajpurohit': 827, 'Jagdish Sidana': 828, 'Jahnu Barua': 829, 'Jai Tank': 830, 'Jaideep Chopra': 831, 'Jaideep Sen': 832, 'Jaideep Varma': 833, 'Jaidev Chakraborty': 834, 'Jaimin Bal': 835, 'Jain Rakesh': 836, 'Jaiveer': 837, 'Jalal Agha': 838, 'Jambulingam': 839, 'James Dodson': 840, 'James Erskine': 841, 'James Ivory': 842, 'Jan Schmidt-Garre': 843, 'Janak Toprani': 844, 'Janaki Vishwanathan': 845, 'Janmendra Ahuja': 846, 'Japinder Kaur Baweja': 847, 'Jasbir Bijender Bhati': 848, \"Jasmine D'Souza\": 849, 'Jaspal Bhatti': 850, 'Jaspal Singh': 851, 'Jaswant Gangani': 852, 'Jaswinder Chahal': 853, 'Jatla Siddartha': 854, 'Jawar N. Sitaraman': 855, 'Jayabrato Chatterjee': 856, 'Jayant Desai': 857, 'Jayant Gilatar': 858, 'Jayant Prabhakar': 859, 'Jayanta Basu': 860, 'Jayaprakash Radhakrishnan': 861, 'Jayaraaj': 862, 'Jayashree Kanal': 863, 'Jayesh Pradhan': 864, 'Jayoo': 865, 'Jayoo Patwardhan': 866, 'Jayprakkash Shaw': 867, 'Jayveer Panghaal': 868, 'Jean-François Pouliot': 869, 'Jeet Matharru': 870, 'Jeethu Joseph': 871, 'Jeetu': 872, 'Jeetu Arora': 873, 'Jeeva': 874, 'Jeevitha': 875, 'Jeffrey D. Brown': 876, 'Jeffrey Gee Chin': 877, 'Jehangir Surti': 878, 'Jennifer Lynch': 879, 'Jeong-beom Lee': 880, 'Jeppi': 881, 'Jeremy Guy': 882, 'Jignesh V. Vaishnav': 883, 'Jijo Punnoose': 884, 'Jijy Philip': 885, 'Jim Goldblum': 886, 'Jiten': 887, 'Jitendra Chawda': 888, 'Jitendra Pawar': 889, 'Jitendra Singh Naruka': 890, 'Jitin Rawat': 891, 'Joe Eshwar': 892, 'Joe Rajan': 893, 'Joel Palombo': 894, 'Jogesh Sehdeva': 895, 'Joginder Shelly': 896, 'Johannes Roberts': 897, 'John Hunt': 898, 'John Madden': 899, 'John Mathew Matthan': 900, 'John Owen': 901, \"Jojo D'Souza\": 902, 'Jonathan Augustin': 903, 'Jose Punnoose': 904, 'Joshua Z Weinstein': 905, 'Joy Augustine': 906, 'Joy Mukherjee': 907, 'Jugal Debata': 908, 'Jugal Hansraj': 909, 'Jugal Kishore': 910, 'Jugal Raja': 911, 'Justin John': 912, 'Jwalamukhi': 913, 'Jyoti Sarup': 914, 'Jyoti Swaroop': 915, 'Jyotin Goel': 916, 'K Sukumar': 917, 'K. Amarnath': 918, 'K. Asif': 919, 'K. Balachander': 920, 'K. Bapaiah': 921, 'K. Bikram Singh': 922, 'K. Gopal Krishnan': 923, 'K. Hariharan': 924, 'K. Mahesh Sukhadhare': 925, 'K. Mishra': 926, 'K. Muralimohana Rao': 927, 'K. Pappu': 928, 'K. Parvez': 929, 'K. Raghavendra Rao': 930, 'K. Ramanlal': 931, 'K. Ravi Shankar': 932, 'K. Shankar': 933, 'K. Shivram': 934, 'K. Shrivastava': 935, 'K. Subhash': 936, 'K. Thankappan': 937, 'K. Vijayan': 938, 'K. Viswanath': 939, 'K.B. Tilak': 940, 'K.C. Bokadia': 941, 'K.C. Handra': 942, 'K.D. Satyam': 943, 'K.I. Sheikh': 944, 'K.K. Singh': 945, 'K.P. Sasi': 946, 'K.P. Singh': 947, 'K.R. Reddy': 948, 'K.S. Adiyaman': 949, 'K.S. Gopalakrishnan': 950, 'K.S. Prakash Rao': 951, 'K.S. Ravi': 952, 'K.S. Ravikumar': 953, 'K.S. Ravindra': 954, 'K.S. Sethumadhavan': 955, 'K.S.R. Das': 956, 'Kaashvi Nair': 957, 'Kabeer Kaushik': 958, 'Kabir Khan': 959, 'Kabir Mehta': 960, 'Kabir Sadanand': 961, 'Kabir Singh Chowdhry': 962, 'Kader Kashmiri': 963, 'Kailash Bhandari': 964, 'Kaizad Gustad': 965, 'Kajal Naskar': 966, 'Kalidas': 967, 'Kalpana Lajmi': 968, 'Kalpataru': 969, 'Kamakhya Narayan Singh': 970, 'Kamal': 971, 'Kamal Amrohi': 972, 'Kamal Haasan': 973, 'Kamal K.M.': 974, 'Kamal Majumdar': 975, 'Kamal Nathani': 976, 'Kamal Raj Bhasin': 977, 'Kamal Sadanah': 978, 'Kamal Sharma': 979, 'Kamal Swaroop': 980, 'Kamalakara Kameshwara Rao': 981, 'Kamika Verma': 982, 'Kanak Mishra': 983, 'Kanika Batra': 984, 'Kanishk Varma': 985, 'Kanmani': 986, 'Kannan': 987, 'Kannan Iyer': 988, 'Kannan Thamarakkulam': 989, 'Kanti Shah': 990, 'Kanu Behl': 991, 'Kanwal Biala': 992, 'Kanwal Sethi': 993, 'Kapil Kapoor': 994, 'Kapil Sharma': 995, 'Kapri Vinod': 996, 'Karan Anshuman': 997, 'Karan Butani': 998, 'Karan Darra': 999, 'Karan Gour': 1000, 'Karan Johar': 1001, 'Karan Kandhari': 1002, 'Karan Kashyap': 1003, 'Karan Malhotra': 1004, 'Karan Radhakrishna': 1005, 'Karan Razdan': 1006, 'Karan Vishwanath Kashyap': 1007, 'Karanjeet Saluja': 1008, 'Karu Pazhaniappan': 1009, 'Karunesh Thakur': 1010, 'Kasam Ali': 1011, 'Kashinath': 1012, 'Kashmira Shah': 1013, 'Kathir': 1014, 'Kaushik Ghatak': 1015, 'Kaushik Roy': 1016, 'Kaustav Narayan Niyogi': 1017, 'Kawal Sharma': 1018, 'Kedar Kapoor': 1019, 'Kedar Shinde': 1020, 'Ken Ghosh': 1021, 'Kesar Matharu': 1022, 'Keshavrao Dhaiber': 1023, 'Keshhav Panneriy': 1024, 'Keshu Ramsay': 1025, 'Ketan Anand': 1026, 'Ketan Desai': 1027, 'Ketan Mehta': 1028, 'Keval P. Kashyap': 1029, 'Kewal Misra': 1030, 'Kewal Singh': 1031, 'Khalid Akhtar': 1032, 'Khalid Mohamed': 1033, 'Khalid Y. Batliwalla': 1034, 'Khushboo Ranka': 1035, 'Khwaja Ahmad Abbas': 1036, 'Kidar Nath Sharma': 1037, 'Kiran Kumar': 1038, 'Kiran Nakti': 1039, 'Kiran Ramsay': 1040, 'Kiran Rao': 1041, 'Kireet Khurana': 1042, 'Kirti Kumar': 1043, 'Kishan Shah': 1044, 'Kishan Shrikanth': 1045, 'Kishore Kumar': 1046, 'Kishore Sahu': 1047, 'Kishore Vyas': 1048, 'Kislay': 1049, 'Kodanda Rami Reddy A.': 1050, 'Kodi Ramakrishna': 1051, 'Kolli Pratyagatma': 1052, 'Komal Tolani': 1053, 'Kompin Kemgumnird': 1054, 'Konkona Sen Sharma': 1055, 'Kookie Gulati': 1056, 'Kottayam Chellappan': 1057, 'Kranthi Kumar': 1058, 'Kranti Kanadé': 1059, 'Krishan Chopra': 1060, 'Krishan Hooda': 1061, 'Krishna Agazzi': 1062, 'Krishna D.K.': 1063, 'Krishna Ghattamaneni': 1064, 'Krishna Gopal': 1065, 'Krishna Kumar': 1066, 'Krishna Mishra': 1067, 'Krishna Shah': 1068, 'Krishna Vamsi': 1069, 'Krishnadev Yagnik': 1070, 'Krishnakant Pandya': 1071, 'Kshitij Sharma': 1072, 'Kukoo Kapoor': 1073, 'Kuku Kohli': 1074, 'Kuldeep Ruhil': 1075, 'Kumaar Aadarsh': 1076, 'Kumar Anand': 1077, 'Kumar Dave': 1078, 'Kumar Pradeep': 1079, 'Kumar Raj': 1080, 'Kumar Shahani': 1081, 'Kumud Chaudhary': 1082, 'Kunaal Roy Kapur': 1083, 'Kunal Deshmukh': 1084, 'Kunal Kohli': 1085, 'Kunal Shivdasani': 1086, 'Kunal Vijaykar': 1087, 'Kunal v Singh': 1088, 'Kundan Kumar': 1089, 'Kundan Shah': 1090, 'Kuntaa Nikkil': 1091, 'Kushal Ruia': 1092, 'Kushal Srivastava': 1093, 'Kushan Nandy': 1094, 'L.V. Prasad': 1095, 'Lakhwinder Shabla': 1096, 'Lakshmikanth Chenna': 1097, 'Lal Vijay Shahdeo': 1098, 'Lalit Marathe': 1099, 'Lalit Mohan': 1100, 'Lalji B. Yadav': 1101, 'Lasse Hallström': 1102, 'Lateef Binny': 1103, 'Latif Faiziyev': 1104, 'Latif Khan': 1105, \"Lawrence D'Souza\": 1106, 'Lawrence Raghavendra': 1107, 'Laxman Singh': 1108, 'Laxman Utekar': 1109, 'Laxmikant Shetgaonkar': 1110, 'Leela Prasad': 1111, 'Leena Yadav': 1112, 'Lekh Tandon': 1113, 'Lekhraj Bhakri': 1114, 'Leslee Udwin': 1115, 'Linda Aïnouche': 1116, 'Lom Harsh': 1117, 'Lovely Singh': 1118, 'Luke Kenny': 1119, 'Luv Ranjan': 1120, 'M J Ramanan': 1121, 'M. Sadiq': 1122, 'M.A. Thirumugham': 1123, 'M.F. Hussain': 1124, 'M.L. Anand': 1125, 'M.R. Shahjahan': 1126, 'M.S. Ramesh': 1127, 'M.S. Sathyu': 1128, 'M.V. Raman': 1129, 'Madan': 1130, 'Madan Joshi': 1131, 'Madan Mohla': 1132, 'Madan Sinha': 1133, 'Madhu Ambat': 1134, 'Madhu M.': 1135, 'Madhukar Bavdekar': 1136, 'Madhur Bhandarkar': 1137, 'Madhureeta Anand': 1138, 'Mahender Singh': 1139, 'Mahendra Shah': 1140, 'Mahendra Teredesai': 1141, 'Mahesh Bhatt': 1142, 'Mahesh Dattani': 1143, 'Mahesh Kapoor': 1144, 'Mahesh Kaul': 1145, 'Mahesh Kodiyal': 1146, 'Mahesh Kothare': 1147, 'Mahesh Manjrekar': 1148, 'Mahesh Mathai': 1149, 'Mahesh Nair': 1150, 'Mahesh Rajmane': 1151, 'Mahesh Tillekar': 1152, 'Mahesh Vaijnath Doijode': 1153, 'Mahmood Khan': 1154, 'Mahrukh Mirza': 1155, 'Mainak Dhar': 1156, 'Majid Majidi': 1157, 'Major Sundarrajan': 1158, 'Makarand Brahme': 1159, 'Makrand Deshpande': 1160, 'Mama': 1161, 'Manan Katohora': 1162, 'Manav Bhalla': 1163, 'Manav Kaul': 1164, 'Manav Sohal': 1165, 'Mandeep Kumar': 1166, 'Mandi Burman': 1167, 'Maneej Premnath': 1168, 'Maneesh Sharma': 1169, 'Mangal Anand': 1170, 'Mangal Chakravarty': 1171, 'Mangesh Hadawale': 1172, 'Mani Kaul': 1173, 'Mani Ratnam': 1174, 'Mani Shankar': 1175, 'Manik Chatterjee': 1176, 'Manika Sharma': 1177, 'Maninder Chana': 1178, 'Manish Acharya': 1179, 'Manish Gupta': 1180, 'Manish Harishankar': 1181, 'Manish Jha': 1182, 'Manish Manikpuri': 1183, 'Manish Mitra': 1184, 'Manish R. Khandelwal': 1185, 'Manish Saini': 1186, 'Manish Sharma': 1187, 'Manish Srivastav': 1188, 'Manish Tiwary': 1189, 'Manish Vatssalya': 1190, 'Manivannan': 1191, 'Manjari Makijany': 1192, 'Manjeet Singh': 1193, 'Manju Borah': 1194, 'Manmohan Desai': 1195, 'Manmohan Krishna': 1196, 'Manmohan Sabir': 1197, 'Manobala': 1198, 'Manohar Nath Rangroo': 1199, 'Manoj Adhikari': 1200, 'Manoj Agrawal': 1201, 'Manoj Amarnani': 1202, 'Manoj J. Bhatia': 1203, 'Manoj K. Jha': 1204, 'Manoj Kumar': 1205, 'Manoj Palrecha': 1206, 'Manoj Sharma': 1207, 'Manoj Shidheshwari Tiwari': 1208, 'Manoj Singh': 1209, 'Mansi Dovhal': 1210, 'Mansoor Khan': 1211, 'Manu Prakash Singh': 1212, 'Manu Rewal': 1213, 'Manu Warrier': 1214, 'Manuela Bastian': 1215, 'Maqbool Khan': 1216, 'Marco Hülser': 1217, 'Marina Libik': 1218, 'Marion Rodrigues': 1219, 'Master Bhagwan': 1220, 'Master Vinayak': 1221, 'Masud Mirza': 1222, 'Mayur Hardas': 1223, 'Mayur Katariya': 1224, 'Mazahir Rahim': 1225, 'Mazhar Kamran': 1226, 'Mazhar Khan': 1227, 'Meenal Dixit': 1228, 'Megan Doneman': 1229, 'Megastar Maharishi Aazaad': 1230, 'Megha Ramaswamy': 1231, 'Meghna Gulzar': 1232, 'Mehboob Khan': 1233, 'Mehernosh Kapadia': 1234, 'Mehmood': 1235, 'Mehran Amrohi': 1236, 'Mehrish': 1237, 'Mehul Kumar': 1238, 'Meraj': 1239, 'Michael Winterbottom': 1240, 'Mikhil Musale': 1241, 'Milan Luthria': 1242, 'Milann Ajmera': 1243, 'Milap Zaveri': 1244, 'Milind Dhaimade': 1245, 'Milind Gadagkar': 1246, 'Milind Rau': 1247, 'Milind Ukey': 1248, 'Milroy Goes': 1249, 'Mira Nair': 1250, 'Miriam Chandy Menacherry': 1251, 'Mitali Ghoshal': 1252, 'Mitra Sen': 1253, 'Modhu Bose': 1254, 'Mohammed Hussain': 1255, 'Mohammed Israr Ansari': 1256, 'Mohan Babu': 1257, 'Mohan Bhakri': 1258, 'Mohan Choti': 1259, 'Mohan Dayaram Bhavnani': 1260, 'Mohan J. Bijlani': 1261, 'Mohan Kavia': 1262, 'Mohan Kumar': 1263, 'Mohan Savalkar': 1264, 'Mohan Segal': 1265, 'Mohan Singh Kavia': 1266, 'Mohan Singh Rathor': 1267, 'Mohan Sinha': 1268, 'Mohana Krishna Indraganti': 1269, 'Mohanji Prasad': 1270, 'Mohd Feroz Qureshi': 1271, 'Mohibul Haque': 1272, 'Mohinder Pratap Singh': 1273, 'Mohit Goswami': 1274, 'Mohit Hussein': 1275, 'Mohit Priyadarshi': 1276, 'Mohit Suri': 1277, 'Mohit Takalkar': 1278, 'Mohsen Makhmalbaf': 1279, 'Mohsin Abrar': 1280, 'Moni Bhattacharjee': 1281, 'Monjoy Joy Mukerji': 1282, 'Moosa Saleem': 1283, 'Moti B. Gidwani': 1284, 'Mozez Singh': 1285, 'Mridul Mahendra': 1286, 'Mrighdeep Lamba': 1287, 'Mrinal Sen': 1288, 'Mrityunjay Devvrat': 1289, 'Muazzam Beg': 1290, 'Mudassar Aziz': 1291, 'Mukesh Chhabra': 1292, 'Mukesh Duggal': 1293, 'Mukesh Mishra': 1294, 'Mukesh Sharma': 1295, 'Mukhtar Ahmed': 1296, 'Mukul Abhyankar': 1297, 'Mukul Anand': 1298, 'Mukul Dutt': 1299, 'Munindra': 1300, 'Munish Bhardwaj': 1301, 'Munni Pankaj': 1302, 'Murali Nair': 1303, 'Murari Sinha': 1304, 'Murugan Kumaran': 1305, 'Murugan V.': 1306, 'Mustafa Engineer': 1307, 'Mustufa Raj': 1308, 'Muzaffar Ali': 1309, 'Mystelle Brabbee': 1310, 'N. Chandra': 1311, 'N. Linguswamy': 1312, 'N. Maharajan': 1313, 'N. Narasimharao': 1314, 'N. Ragavan': 1315, 'N.D. Kothari': 1316, 'N.K. Vishwanathan': 1317, 'N.K. Ziree': 1318, 'N.R. Acharya': 1319, 'N.T. Rama Rao': 1320, 'Nabendu Ghosh': 1321, \"Nabh Kumar 'Raju'\": 1322, 'Nachiket Samant': 1323, 'Nadeem Khan': 1324, 'Naeem Siddiqui': 1325, 'Nag Ashwin': 1326, 'Nagesh Bhonsle': 1327, 'Nagesh Kukunoor': 1328, 'Nakul Singh Sawhney': 1329, 'Nalin Singh': 1330, 'Naman Nitin Mukesh': 1331, 'Nana Kldiashvili': 1332, 'Nanabhai Bhatt': 1333, 'Nandakishore': 1334, 'Nandita Das': 1335, 'Nandlal Jaswantlal': 1336, 'Nanubhoy Vakil': 1337, 'Narayan Chauhan': 1338, 'Narayan k Sahu': 1339, 'Narayana Rao Dasari': 1340, 'Narendra Bedi': 1341, 'Narendra Singh': 1342, 'Narendra Suri': 1343, 'Naresh Kumar': 1344, 'Naresh Lalwani': 1345, 'Naresh Malhotra': 1346, 'Naresh Saigal': 1347, 'Naseeruddin Shah': 1348, 'Nasir Hussain': 1349, 'Nasir Shaikh': 1350, 'Nassar': 1351, 'Navaniat Singh': 1352, 'Navdeep Singh': 1353, 'Navin Batra': 1354, 'Navjot Gulati': 1355, 'Navneet Behal': 1356, 'Nayan Pachori': 1357, 'Neelam r Singh': 1358, 'Neelu Arora': 1359, 'Neeraj Ghaywan': 1360, 'Neeraj Pandey': 1361, 'Neeraj Pathak': 1362, 'Neeraj Udhwani': 1363, 'Neeraj Vora': 1364, 'Neerav Ghosh': 1365, 'Neil Biswas': 1366, 'Nemom Pushparaj': 1367, 'Neshu Saluja': 1368, 'Neville Shah': 1369, 'Nicholas Kharkongor': 1370, 'Nicholas Meyer': 1371, 'Nicolas Chevaillier': 1372, 'Niharika Popli': 1373, 'Nikhil Bhat': 1374, 'Nikhil Mahajan': 1375, 'Nikhil Mahar': 1376, 'Nikhil Pherwani': 1377, 'Nikhil Saini': 1378, 'Nikkhil Advani': 1379, 'Nila Madhab Panda': 1380, 'Nilay Dave': 1381, 'Niren Lahiri': 1382, 'Nisar Ahmad Ansari': 1383, 'Nishikant Kamat': 1384, 'Nishil Sheth': 1385, 'Nishtha Jain': 1386, 'Nitesh Tiwari': 1387, 'Nitin Bose': 1388, 'Nitin Chandra': 1389, 'Nitin Gupta': 1390, 'Nitin Kakkar': 1391, 'Nitin Manmohan': 1392, 'Nitin Raghunath': 1393, 'Nitya Mehra': 1394, 'Nivedita Basu': 1395, 'Nocem Collado': 1396, 'Nupur Asthana': 1397, 'Nusrat Sayyed': 1398, 'O.P. Goyle': 1399, 'O.P. Ralhan': 1400, 'Om Prakash': 1401, 'Om Raut': 1402, 'Om Sai Prakash': 1403, 'Omung Kumar': 1404, 'Onir': 1405, 'Ovais Khan': 1406, 'P. Chandrakumar': 1407, 'P. Chandrasekhar': 1408, 'P. Madhavan': 1409, 'P. Pullaiah': 1410, 'P. Sambasiva Rao': 1411, 'P. Satya': 1412, 'P. Vasu': 1413, 'P.A. Arun Prasad': 1414, 'P.C. Barua': 1415, 'P.D. Shenoy': 1416, 'P.L. Santoshi': 1417, 'P.P. Ghosh': 1418, 'Pa. Ranjith': 1419, 'Pablo César': 1420, 'Pachhi': 1421, 'Padam Kumar': 1422, 'Padmakumar Narasimhamurthy': 1423, 'Pamela Rooks': 1424, 'Pammi Somal': 1425, 'Pan Nalin': 1426, 'Pankaj Advani': 1427, 'Pankaj Johar': 1428, 'Pankaj Kapur': 1429, 'Pankaj Kumar': 1430, 'Pankaj Parashar': 1431, 'Pankaj Purohit': 1432, 'Pankaj Saraswat': 1433, 'Pankaj Sharma': 1434, 'Pankaz Singh Tanwar': 1435, 'Panna Hossain': 1436, 'Pappu Palviendra': 1437, 'Pappu Verma': 1438, 'Param Gill': 1439, 'Param Tomanec': 1440, 'Parasuram': 1441, 'Pardeep Raja': 1442, 'Paresh Kamdar': 1443, 'Paresh Naik': 1444, 'Paresh Vinodray Savani': 1445, 'Paritosh Painter': 1446, 'Parmeet Sethi': 1447, 'Partho Ghosh': 1448, 'Partho Mitra': 1449, 'Partho Sen-Gupta': 1450, 'Parvati Balagopalan': 1451, 'Parvati Menon': 1452, 'Parvin Dabas': 1453, 'Parvinder Singh Wraich': 1454, 'Pasanta Bal': 1455, 'Pattanna': 1456, 'Pavan Kaul': 1457, 'Pavan Kumar': 1458, 'Pavithran': 1459, 'Pawan Kripalani': 1460, 'Pawan Kumar': 1461, 'Pawan Kumar Sharma': 1462, 'Pawan k Shrivastava': 1463, 'Perarasu': 1464, 'Phani Majumdar': 1465, 'Pia Sukanya': 1466, 'Pinaki Bhushan Mukherji': 1467, 'Pinaki Chaudhuri': 1468, 'Piyush Bose': 1469, 'Piyush Dinker Pandya': 1470, 'Piyush Jha': 1471, 'Piyush Sharma': 1472, 'Pon Kumaran': 1473, 'Pooja Bhatt': 1474, 'Prabhakar Meena Bhaskar Pant': 1475, 'Prabhakar Shukla': 1476, 'Prabhat Khanna': 1477, 'Prabhat Kumar': 1478, 'Prabhat Roy': 1479, 'Prabhat Sachdeva': 1480, 'Prabhu': 1481, 'Prabhu Deva': 1482, 'Prabhuraj': 1483, 'Prabu Solomon': 1484, 'Pradeep C. Shetty': 1485, 'Pradeep Kumawat': 1486, 'Pradeep Maini': 1487, 'Pradeep Sarkar': 1488, 'Pradip Krishen': 1489, 'Praful D.S. Tiwari': 1490, 'Praful Tiwari': 1491, 'Prajact Rebeloma': 1492, 'Prakash Arora': 1493, 'Prakash Jha': 1494, 'Prakash Kovelamudi': 1495, 'Prakash Mehra': 1496, 'Prakash Nambiar': 1497, 'Prakash Saini': 1498, 'Prakash Satam': 1499, 'Pramod Chakravorty': 1500, 'Pramod Mandloi': 1501, 'Pramod Pathak': 1502, 'Pranav Singh': 1503, 'Prashamit Chaudhury': 1504, 'Prashant Bhargava': 1505, 'Prashant Chadha': 1506, 'Prashant Gore': 1507, 'Prashant Johari': 1508, 'Prashant Nair': 1509, 'Prashant Nanda': 1510, 'Prashant Passy Pilley': 1511, 'Prashant Singh': 1512, 'Prashant Singh Rathore': 1513, 'Pratap Singh': 1514, 'Prateek Vats': 1515, 'Prathap Pothen': 1516, 'Pratik Mittal': 1517, 'Pratyush Sharma': 1518, 'Praveen Damle': 1519, 'Praveen Kumar': 1520, 'Praveen Morchhale': 1521, 'Praveenkanth': 1522, 'Pravesh Bhardwaj': 1523, 'Prawaal Raman': 1524, 'Prayag Raj': 1525, 'Prem': 1526, 'Prem Chopra': 1527, 'Prem Kapoor': 1528, 'Prem Lalwani': 1529, 'Prem Narayan Arora': 1530, 'Prem Soni': 1531, 'Premankur Atorthy': 1532, 'Premraaj': 1533, 'Prerna Wadhawan': 1534, 'Prince': 1535, 'Prithvi Konanur': 1536, 'Prithviraj Sukumaran': 1537, 'Pritish Chakraborty': 1538, 'Priya Krishnaswamy': 1539, 'Priyadarshan': 1540, 'Priyanka': 1541, 'Priyanka Singh': 1542, 'Prosit Roy': 1543, 'Puja Bedi': 1544, 'Pulkit': 1545, 'Punarvasu Naik': 1546, 'Puneet Issar': 1547, 'Puneet Khanna': 1548, 'Puneet Sira': 1549, 'Punit Malhotra': 1550, 'Puri Jagannadh': 1551, 'Pushan Kripalani': 1552, 'Pushkar Mahabal': 1553, 'Pushkar Manohar': 1554, 'Pushpdeep Bhardwaj': 1555, 'Pushpendra Nath Misra': 1556, 'Pushpendra Singh': 1557, 'Qasim Khallow': 1558, 'Qaushiq Mukherjee': 1559, 'R. Balki': 1560, 'R. Bhattacharya': 1561, 'R. Krishnamurthy': 1562, 'R. Krishnan': 1563, 'R. Madhesh': 1564, 'R. Mittal': 1565, 'R. Sundarajan': 1566, 'R. Thyagaraajan': 1567, 'R.C. Talwar': 1568, 'R.K. Nayyar': 1569, 'R.K. Selvamani': 1570, 'R.N.R. Manohar': 1571, 'R.P. Swamy': 1572, 'R.S. Choudhury': 1573, 'R.S. Prasanna': 1574, 'R.k. Sharma': 1575, 'Raaghav Dar': 1576, 'Raaj Shaandilyaa': 1577, 'Raajeev Walia': 1578, 'Raam Shetty': 1579, 'Rabi Kinagi': 1580, 'Rabindra Dharmaraj': 1581, 'Rackhee Sandilya': 1582, 'Radha Krishna Jagarlamudi': 1583, 'Radhakant': 1584, 'Radheshyam Pipalwa': 1585, 'Radhika Rao': 1586, 'Radhu Karmakar': 1587, 'Rafeeq Ellias': 1588, 'Raghav Jairath': 1589, 'Raghav Murali': 1590, 'Raghubeer Singh': 1591, 'Raghunath Jhalani': 1592, 'Raghuram': 1593, 'Raghuvir Kul': 1594, 'Rahat Kazmi': 1595, 'Rahi Anil Barve': 1596, 'Rahul Bhole': 1597, 'Rahul Bose': 1598, 'Rahul Dahiya': 1599, 'Rahul Dholakia': 1600, 'Rahul Jain': 1601, 'Rahul Kumar Shukla': 1602, 'Rahul Mallick': 1603, 'Rahul Rajan': 1604, 'Rahul Rawail': 1605, 'Rahul Shanklya': 1606, 'Raj Amit Kumar': 1607, 'Raj Kanwar': 1608, 'Raj Kapoor': 1609, 'Raj Kaushal': 1610, 'Raj Khosla': 1611, 'Raj Kumar Bedi': 1612, 'Raj Kumar Gupta': 1613, 'Raj Madiraju': 1614, 'Raj Mehta': 1615, 'Raj N. Sippy': 1616, 'Raj Pendurkar': 1617, 'Raj Purohit': 1618, 'Raj Rishi': 1619, 'Raj Shetty': 1620, 'Raj Singh Chaudhary': 1621, 'Raj Tilak': 1622, 'Raja Bundela': 1623, 'Raja Chanda': 1624, 'Raja Krishna': 1625, 'Raja Menon': 1626, 'Raja Nawathe': 1627, 'Raja Nene': 1628, 'Raja Sen': 1629, 'Raja Unnithan': 1630, 'Rajan Johri': 1631, 'Rajan Khosa': 1632, 'Rajan Kumar Patel': 1633, 'Rajan Thakur': 1634, 'Rajasekar': 1635, 'Rajasekhar': 1636, 'Rajashekhar': 1637, 'Rajat Kapoor': 1638, 'Rajat Kumar Chaturvedi': 1639, 'Rajat Mukherjee': 1640, 'Rajat Rakshit': 1641, 'Rajatesh Nayyar': 1642, 'Rajeev Bhatia': 1643, 'Rajeev Chaudhari': 1644, 'Rajeev Gautam': 1645, 'Rajeev Jhaveri': 1646, 'Rajeev Kumar': 1647, 'Rajeev Virani': 1648, 'Rajendra Bhatia': 1649, 'Rajendra Kumar': 1650, 'Rajendra Prasad V.B.': 1651, \"Rajendra Singh 'Atish'\": 1652, 'Rajesh Bachchani': 1653, 'Rajesh Bajaj': 1654, 'Rajesh Bakshi': 1655, 'Rajesh Bhatt': 1656, 'Rajesh Butalia': 1657, 'Rajesh Ganguly': 1658, 'Rajesh Hans': 1659, 'Rajesh Krishnan': 1660, 'Rajesh Kumar Singh': 1661, 'Rajesh Mapuskar': 1662, 'Rajesh Mittal': 1663, 'Rajesh Nanda': 1664, 'Rajesh Pandey': 1665, 'Rajesh Pillai': 1666, 'Rajesh Ram Singh': 1667, 'Rajesh Ranshinge': 1668, 'Rajesh S. Jala': 1669, 'Rajesh Seth': 1670, 'Rajesh Shera': 1671, 'Rajesh Vakil': 1672, 'Rajesh. K.': 1673, 'Rajiev Dhingra': 1674, 'Rajinder Singh Bedi': 1675, 'Rajiv Babbar': 1676, 'Rajiv Chilaka': 1677, 'Rajiv Dhingra': 1678, 'Rajiv Goswami': 1679, 'Rajiv Kapoor': 1680, 'Rajiv Mehra': 1681, 'Rajiv Rai': 1682, 'Rajiv S. Ruia': 1683, 'Rajkumar Bhan': 1684, 'Rajkumar Hirani': 1685, 'Rajkumar Kohli': 1686, 'Rajkumar R. Pandey': 1687, 'Rajkumar Santoshi': 1688, 'Rajnath': 1689, 'Rajni Basumatary': 1690, 'Rajnish Thakur': 1691, 'Rajpal Yadav': 1692, 'Rajsekhar': 1693, 'Rajshree Ojha': 1694, 'Raju Chouhan': 1695, 'Raju Desai': 1696, 'Raju Eswaran': 1697, 'Raju Khan': 1698, 'Raju Mavani': 1699, 'Raju Saigal': 1700, 'Raju Subramaniam': 1701, 'Raka': 1702, 'Rakesh Bedi': 1703, 'Rakesh Chaturvedi Om': 1704, 'Rakesh Kakaria': 1705, 'Rakesh Kudalkar': 1706, 'Rakesh Kumar': 1707, 'Rakesh Mehta': 1708, 'Rakesh Nahata': 1709, 'Rakesh Parmaar': 1710, 'Rakesh Prasad': 1711, 'Rakesh Ranjan Kumar': 1712, 'Rakesh Roshan': 1713, 'Rakesh Sawant': 1714, 'Rakesh Sharma': 1715, 'Rakeysh Omprakash Mehra': 1716, 'Rakhan': 1717, 'Ram Daryani': 1718, 'Ram Dayal': 1719, 'Ram Devineni': 1720, 'Ram Gopal Varma': 1721, 'Ram Govind': 1722, 'Ram Kamal Mukherjee': 1723, 'Ram Kamlani': 1724, 'Ram Madhvani': 1725, 'Ram Maheshwari': 1726, 'Ram Mukherjee': 1727, 'Ram Pahwa': 1728, 'Ram Ramesh Sharma': 1729, 'Rama Rao Tatineni': 1730, 'Raman B. Desai': 1731, 'Raman Kumar': 1732, 'Ramana': 1733, 'Ramanand Sagar': 1734, 'Ramanarayanan': 1735, 'Ramanlal Desai': 1736, 'Ramanna': 1737, 'Ramanna T.R.': 1738, 'Ramchandra P.N.': 1739, 'Ramchandra Thakur': 1740, 'Ramesh Ahuja': 1741, 'Ramesh Behl': 1742, 'Ramesh Modi': 1743, 'Ramesh Saigal': 1744, 'Ramesh Sippy': 1745, 'Ramesh Talwar': 1746, 'Ramesh U. Lakhiani': 1747, 'Ramin Bahrani': 1748, 'Ramkishan Choyal': 1749, 'Ramkumar Bohra': 1750, 'Ramkumar Pawadia': 1751, 'Ramkumar Shedge': 1752, 'Ramu Kariat': 1753, 'Randeep Jha': 1754, 'Randhir Kapoor': 1755, 'Ranga B.S.': 1756, 'Rani Mukerji': 1757, 'Ranjan Bose': 1758, 'Ranjan Chandel': 1759, 'Ranjan Palit': 1760, 'Ranjan Shandilya': 1761, 'Ranjeet': 1762, 'Ranjeet Gupta': 1763, 'Ranjit Kapoor': 1764, 'Ranjit Tewari': 1765, 'Ranveer Pratap Singh': 1766, 'Rao C.S.R.': 1767, 'Rasool Ellore': 1768, 'Rati Agnihotri': 1769, 'Ratnaa Sinha': 1770, 'Ravi Chopra': 1771, 'Ravi Dewan': 1772, 'Ravi Godse': 1773, 'Ravi Jadhav': 1774, 'Ravi K. Chandran': 1775, 'Ravi Kapoor': 1776, 'Ravi Kumar': 1777, 'Ravi Raja': 1778, 'Ravi Raja Pinisetty': 1779, 'Ravi Sharma Shankar': 1780, 'Ravi Sinha': 1781, 'Ravi Tandon': 1782, 'Ravi Udyawar': 1783, 'Ravi Varma': 1784, 'Ravichandran': 1785, 'Ravikant Nagaich': 1786, 'Ravinddra Khare': 1787, 'Ravinder Ravi': 1788, 'Ravindra Arora': 1789, 'Ravindra Dave': 1790, 'Ravindra Gautam': 1791, 'Ravindra Peepat': 1792, 'Ravindra Singh': 1793, 'Rebecca Haimowitz': 1794, 'Reema Kagti': 1795, 'Reema Rakesh Nath': 1796, 'Reena Mohan': 1797, 'Rehman Naushad': 1798, \"Remo D'Souza\": 1799, 'Remy Kohli': 1800, 'Renju Ramesh': 1801, 'Renuka Shahane': 1802, \"Renzil D'Silva\": 1803, 'Revathi': 1804, 'Ribhu Dasgupta': 1805, 'Richard Attenborough': 1806, 'Richie Mehta': 1807, 'Rikhil Bahadur': 1808, 'Rima Das': 1809, 'Rishi Kapoor': 1810, 'Rishi Prakash Mishra': 1811, 'Ritam Srivastav': 1812, 'Ritesh Batra': 1813, 'Ritesh Menon': 1814, 'Ritesh Sharma': 1815, 'Ritesh s Kumar': 1816, 'Ritu Sarin': 1817, 'Rituparno Ghosh': 1818, 'Riyad Vinci Wadia': 1819, 'Rob Fruchtman': 1820, 'Robbie Grewal': 1821, 'Robert Lieberman': 1822, 'Robin Khosla': 1823, 'Rohan Sippy': 1824, 'Rohena Gera': 1825, 'Rohit Arora': 1826, 'Rohit Dhawan': 1827, 'Rohit Dwivedi': 1828, 'Rohit Jugraj': 1829, 'Rohit Kaushik': 1830, 'Rohit Krishnakant Nayyar': 1831, 'Rohit Manash': 1832, 'Rohit Mittal': 1833, 'Rohit Philip': 1834, 'Rohit Shetty': 1835, 'Rohit Vaid': 1836, 'Roland Joffé': 1837, 'Romesh Sharma': 1838, 'Romilla Mukherjee': 1839, 'Ronit Jadhav': 1840, 'Roop K. Shorey': 1841, 'Rosauro Adorable': 1842, 'Roshan Abbas': 1843, 'Roshan Taneja': 1844, 'Ruchi Narain': 1845, 'Ruchika Muchhala': 1846, 'Ruchika Oberoi': 1847, 'Rudra Patla Venugopal': 1848, 'Rumi Jaffery': 1849, 'Rupesh Paul': 1850, 'S Krishna': 1851, 'S. Bannerjee': 1852, 'S. Deepak': 1853, 'S. Gawli': 1854, 'S. Karnam': 1855, 'S. Khalil': 1856, 'S. Kumar': 1857, 'S. Manasvi': 1858, 'S. Narayan': 1859, 'S. Ram Sharma': 1860, 'S. Ramanathan': 1861, 'S. Shankar': 1862, 'S. Soni': 1863, 'S. Sukhdev': 1864, 'S. Sunil': 1865, 'S. Waris Ali': 1866, 'S.A. Akbar': 1867, 'S.A. Chandrashekhar': 1868, 'S.A. Kader': 1869, 'S.D. Narang': 1870, 'S.J. Suryah': 1871, 'S.K. Kapur': 1872, 'S.K. Ojha': 1873, 'S.K. Prabhakar': 1874, 'S.K. Subash': 1875, 'S.M. Abbas': 1876, 'S.M. Sagar': 1877, 'S.N. Banerjee': 1878, 'S.N. Tripathi': 1879, 'S.P. Balasubrahmanyam': 1880, 'S.P. Muneshwar': 1881, 'S.P. Muthuraman': 1882, 'S.R. Pratap': 1883, 'S.R. Puttana Kanagal': 1884, 'S.S. Balan': 1885, 'S.S. Dharwadkar': 1886, 'S.S. Ravichandra': 1887, 'S.S. Vasan': 1888, 'S.U. Sunny': 1889, 'S.U. Syed': 1890, 'S.V. Rajendra Singh Babu': 1891, 'Saabir': 1892, 'Saad Khan': 1893, 'Saahil Prem': 1894, 'Saandesh Nayak': 1895, 'Saawan Kumar Tak': 1896, 'Sabal Singh Shekhawat': 1897, 'Sabir': 1898, 'Sabir Khan': 1899, 'Sabyasachi Mohapatra': 1900, 'Sachin Agarwal': 1901, 'Sachin Bajaj': 1902, 'Sachin Gupta': 1903, 'Sachin Kamlakar Khot': 1904, 'Sachin Kundalkar': 1905, 'Sachin P. Karande': 1906, 'Sachin Pilgaonkar': 1907, 'Sachin Yardi': 1908, 'Sachindra Sharma': 1909, 'Sadaqat Hussein': 1910, 'Sadashiv J. Row Kavi': 1911, 'Sadhu Meher': 1912, 'Saeed Akhtar Mirza': 1913, 'Safdar Rahman': 1914, 'Sagar Ballary': 1915, 'Sagar Pathak': 1916, 'Sagar Sarhadi': 1917, 'Saheem Khan': 1918, 'Sahil Sangha': 1919, 'Sai Kabir': 1920, 'Sai Paranjape': 1921, 'Saif Ali Sayeed': 1922, 'Saif Baidya': 1923, 'Saif Hyder Hasan': 1924, 'Sajeev Balath': 1925, 'Sajid': 1926, 'Sajid Ali': 1927, 'Sajid Khan': 1928, 'Sajid Nadiadwala': 1929, 'Sajit Warrier': 1930, 'Saket Chaudhary': 1931, 'Saket S. Behl': 1932, 'Sakthi Chidambaram': 1933, 'Salar Shaikh': 1934, 'Salim Raza': 1935, 'Salim Suma': 1936, 'Samar Chatterjee': 1937, 'Samar Iqbal': 1938, 'Samar Khan': 1939, 'Samarth Dixit': 1940, 'Samarth Mahajan': 1941, 'Sameer Hanchate': 1942, 'Sameer Joshi': 1943, 'Sameer Khan': 1944, 'Sameer Malkan': 1945, 'Sameer Patil': 1946, 'Sameer Sharma': 1947, 'Sameer Sippy': 1948, 'Sameer Thahir': 1949, 'Sami Khan': 1950, 'Samir Ganguly': 1951, 'Samir Joshi': 1952, 'Samir Karnik': 1953, 'Samir Soni': 1954, 'Samir Tewari': 1955, 'Samit Basu': 1956, 'Samit Kakkad': 1957, 'Sammir i Patel': 1958, 'Samudra V.': 1959, 'Sanal Kumar Sasidharan': 1960, 'Sanamjit Singh Talwar': 1961, 'Sandeep A. Varma': 1962, 'Sandeep Bhatt': 1963, 'Sandeep Chatterjee': 1964, 'Sandeep Kumar': 1965, 'Sandeep Kumar Chandola': 1966, 'Sandeep Mishra': 1967, 'Sandeep Mohan': 1968, 'Sandeep Pandey': 1969, 'Sandeep Reddy Vanga': 1970, 'Sandip Ray': 1971, 'Sangeeth Sivan': 1972, 'Sanghamitra Chaudhuri': 1973, 'Sanjay Amar': 1974, 'Sanjay Bhatia': 1975, 'Sanjay Chhel': 1976, 'Sanjay D. Singh': 1977, 'Sanjay Dayma': 1978, 'Sanjay F. Gupta': 1979, 'Sanjay Gadhvi': 1980, 'Sanjay Gupta': 1981, 'Sanjay Jadhav': 1982, 'Sanjay Jha': 1983, 'Sanjay Kak': 1984, 'Sanjay Khan': 1985, 'Sanjay Khandelwal': 1986, 'Sanjay Khanna': 1987, 'Sanjay Leela Bhansali': 1988, 'Sanjay M. Khanduri': 1989, 'Sanjay Niranjan': 1990, 'Sanjay Patel': 1991, 'Sanjay Puran Singh Chauhan': 1992, 'Sanjay Sharma': 1993, 'Sanjay Srinivas': 1994, 'Sanjay Talreja': 1995, 'Sanjay Tripathy': 1996, 'Sanjay Zaveri': 1997, 'Sanjeev Gupta': 1998, 'Sanjeev Kumar Rajput': 1999, 'Sanjeev Reddy': 2000, 'Sanjeev Sharma': 2001, 'Sanjeev Vedwan': 2002, 'Sanjib Dey': 2003, 'Sanjiv Jaiswal': 2004, 'Sanjivan Lal': 2005, 'Sanjoy': 2006, 'Sanjoy Nag': 2007, 'Sanju K. Gupta': 2008, 'Sankalp Reddy': 2009, 'Sanoj Mishra': 2010, 'Santanu Bhowmick': 2011, 'Santosh Kashyap': 2012, 'Santosh Sivan': 2013, 'Santram Varma': 2014, 'Sapna Bhavnani': 2015, 'Saran': 2016, 'Sarankant': 2017, 'Sardar Talukdar': 2018, 'Sareesh Sudhakaran': 2019, 'Sarita Khurana': 2020, 'Sarmad Khan': 2021, 'Sartaj Singh Pannu': 2022, 'Sarthak Dasgupta': 2023, 'Sarvottam Badami': 2024, 'Sasikumar': 2025, 'Sathish': 2026, 'Sathya Prabhas Pinisetty': 2027, 'Sathyan Anthikad': 2028, 'Satish Kasetty': 2029, 'Satish Kaushik': 2030, 'Satish Nigam': 2031, 'Satish Rajwade': 2032, 'Satish Torani': 2033, 'Satpal': 2034, 'Sattwik Mohanty': 2035, 'Satyajit Bhatkal': 2036, 'Satyajit Ray': 2037, 'Satyen Bose': 2038, 'Saumyy Shivhare': 2039, 'Saurab Narang': 2040, 'Saurabh Gulab Rao': 2041, 'Saurabh Kabra': 2042, 'Saurabh Shukla': 2043, 'Saurabh Varma': 2044, 'Savin Tuscano': 2045, 'Seema Bhargava': 2046, 'Seema Desai': 2047, 'Seema Kapoor': 2048, 'Sekhar Suri': 2049, 'Selva': 2050, 'Seong-gyou Lee': 2051, 'Seshu Kmr': 2052, 'Shaad Ali': 2053, 'Shadaab Mirza': 2054, 'Shadab Ahmad': 2055, 'Shadab Khan': 2056, 'Shafi Inamdar': 2057, 'Shahab Shamsi': 2058, 'Shaheed Latif': 2059, 'Shahid Kazmi': 2060, 'Shaik Khaja Hussain': 2061, 'Shailendra Pandey': 2062, 'Shailendra Shukla': 2063, 'Shailendra Singh': 2064, 'Shailendra Singh Rajput': 2065, 'Shailesh Verma': 2066, 'Shaji N. Karun': 2067, 'Shakeel Noorani': 2068, 'Shakir Khan': 2069, 'Shakirul Alam': 2070, 'Shakti': 2071, 'Shakti Samanta': 2072, 'Shakun Batra': 2073, 'Shalini Harshwal': 2074, 'Shamin Desai': 2075, 'Shammi': 2076, 'Shammi Chhabra': 2077, 'Shammi Kapoor': 2078, 'Shamshad Pathan': 2079, 'Shankar Addi Mehra': 2080, 'Shankar Mukherjee': 2081, 'Shankar Vikram': 2082, 'Shankaraiya': 2083, 'Shanker Raman': 2084, 'Shankhadeep': 2085, 'Shantanu Anant Tambe': 2086, 'Shantaram Rajaram Vankudre': 2087, 'Shantilal Soni': 2088, 'Sharad Chaudhary': 2089, 'Sharad Sharan': 2090, 'Sharadsingh Thakur': 2091, 'Sharan Sharma': 2092, 'Sharankumar Chand': 2093, 'Sharat Katariya': 2094, 'Shareeph Mansuri Saranawala': 2095, 'Sharique Minhaj': 2096, 'Shashank Khaitan': 2097, 'Shashank Udapurkar': 2098, 'Shashanka Ghosh': 2099, 'Shashant Shah': 2100, 'Shashi Kapoor': 2101, 'Shashi Ranjan': 2102, 'Shashi Sudigala': 2103, 'Shashilal K. Nair': 2104, 'Shaukat Hussain Rizvi': 2105, 'Shaurya Singh': 2106, 'Shawn Arranha': 2107, 'Sheershak Anand': 2108, 'Shefali Bhushan': 2109, 'Shekhar Kapur': 2110, 'Shekhar S. Jha': 2111, 'Shekhar Sirrinn': 2112, 'Shekhar Suman': 2113, 'Shekhar Ujjaninwal': 2114, 'Shekkhar Suri': 2115, 'Shelly Chopra Dhar': 2116, 'Shibu Mitra': 2117, 'Shiladitya Moulik': 2118, 'Shilpa Ranade': 2119, 'Shilpi Dasgupta': 2120, 'Shimit Amin': 2121, 'Shirish Kunder': 2122, 'Shirley Abraham': 2123, 'Shiv Hare': 2124, 'Shiv Kumar': 2125, 'Shiv Sahni': 2126, 'Shiva': 2127, 'Shiva Rindani': 2128, 'Shiva Shakti Datta': 2129, 'Shiva Thejus': 2130, 'Shivajee Chandrabhushan': 2131, 'Shivaji Lotan Patil': 2132, 'Shivakumar': 2133, 'Shivam Nair': 2134, 'Shivam Tiwari': 2135, 'Shivendra Singh Dungarpur': 2136, 'Shivram Yadav': 2137, 'Shlok Sharma': 2138, 'Shoib Nikash Shah': 2139, 'Shomu Mukherjee': 2140, 'Shona Urvashi': 2141, 'Shonali Bose': 2142, 'Shoojit Sircar': 2143, 'Shrabani Deodhar': 2144, 'Shravankumar Tiwari': 2145, 'Shree Narayan Singh': 2146, 'Shrey Srivastava': 2147, 'Shreyas Talpade': 2148, 'Shrikant Sharma': 2149, 'Shripal Morakhia': 2150, 'Shriram': 2151, 'Shubh Mukherjee': 2152, 'Shubham Singh': 2153, 'Shubhashish Bhutiani': 2154, 'Shuja Ali': 2155, 'Shujaat Saudagar': 2156, 'Shukla Barnali Ray': 2157, 'Shyam Benegal': 2158, 'Shyam Bharteey': 2159, 'Shyam Madiraju': 2160, 'Shyam Ralhan': 2161, 'Shyam Ramsay': 2162, 'Shyamal K. Mishra': 2163, 'Sibte Hassan Rizvi': 2164, 'Siddharth Anand': 2165, 'Siddharth Anand Kumar': 2166, 'Siddharth Malhotra': 2167, 'Siddique': 2168, 'Sidharth Srinivasan': 2169, 'Sikandar Khanna': 2170, 'Sikander Bharti': 2171, 'Singeetam Srinivasa Rao': 2172, 'Sisir Misra': 2173, 'Sisir. P. Mishra': 2174, 'Siva': 2175, 'Smeep Kang': 2176, 'Sneha Taurani': 2177, 'Snehashish Mondal': 2178, 'Sohail Khan': 2179, 'Sohail Tatari': 2180, 'Soham Shah': 2181, 'Sohan Roy': 2182, 'Sohanlal Kanwar': 2183, 'Sohrab Modi': 2184, 'Sonam Nair': 2185, 'Soni Razdan': 2186, 'Sooni Taraporevala': 2187, 'Sooraj M.K.': 2188, 'Sooraj R. Barjatya': 2189, 'Soumendra Padhi': 2190, 'Soumik Sen': 2191, 'Soumitra Ranade': 2192, 'Sourabh Bali': 2193, 'Sourabh Shrivastav': 2194, 'Sourabh Shrivastava': 2195, 'Sourav Sarangi': 2196, 'Sreenu Vaitla': 2197, 'Sridhar Allani': 2198, 'Sridhar Rangayan': 2199, 'Sridhar Reddy': 2200, 'Srijit Mukherji': 2201, 'Srikanth Velagaleti': 2202, 'Srinivas Bhashyam': 2203, 'Srinivas Sunderrajan': 2204, 'Srinivasa Rao Jonnalagadda': 2205, 'Sriparna Dey': 2206, 'Sriram Raghavan': 2207, 'Sriram Raja': 2208, 'Sriramulu Naidu S.M.': 2209, 'Sruti Harihara Subramanian': 2210, 'Stalin Kurup': 2211, \"Stanley D'Costa\": 2212, 'Stanley Joseph': 2213, 'Steven Lake': 2214, 'Steven Spielberg': 2215, 'Subhankar Ghosh': 2216, 'Subhash Agrawal': 2217, 'Subhash Ghai': 2218, 'Subhash Kapoor': 2219, 'Subhash Mukherjee': 2220, 'Subhash Sehgal': 2221, 'Subhash Sharma': 2222, 'Subhash Sonik': 2223, 'Subodh Mukherji': 2224, 'Subodh Nagdeve': 2225, 'Subroto Paul': 2226, 'Sudarshan Nag': 2227, 'Sudeep': 2228, 'Sudeep Ranjan Sarkar': 2229, 'Sudesh Issar': 2230, 'Sudha Kongara': 2231, 'Sudhanshu Saria': 2232, 'Sudhanshu Sharma': 2233, 'Sudharshan Lal': 2234, 'Sudhendu Roy': 2235, 'Sudhir Dalvi': 2236, 'Sudhir Durlabh Tandel': 2237, 'Sudhir Mishra': 2238, 'Sudhir Pillai': 2239, 'Sudhir R. Nair': 2240, 'Sudhish Kumar Sharma': 2241, 'Sudip Bandyopadhyay': 2242, 'Sudipto Chattopadhyay': 2243, 'Sudipto Sen': 2244, 'Suhaib Ilyasi': 2245, 'Suhas Kadav': 2246, 'Suhasini': 2247, 'Suhrud Godbole': 2248, 'Sujoy Ghosh': 2249, 'Sukhdev Ahluwalia': 2250, 'Sukhen Das': 2251, 'Sukhwant Dhadda': 2252, 'Sukumar Nair': 2253, 'Sultan': 2254, 'Sultan Ahmed': 2255, 'Suman Ganguli': 2256, 'Suman Ghosh': 2257, 'Sumana Mukherjee': 2258, 'Sumeet Chawla': 2259, 'Sumit Sinha': 2260, 'Sumitra Bhave': 2261, 'Sumnash Sri Kaljai': 2262, 'Sunaina Bhatnagar': 2263, 'Sunanda Mitra': 2264, 'Sunanda Shyamal Mitra': 2265, 'Sundar C.': 2266, 'Sundeep Malani': 2267, 'Sunder Dar': 2268, 'Sunder Pal': 2269, 'Suneel Darshan': 2270, 'Suneet Arora': 2271, 'Suneil Anand': 2272, 'Sunhil Sippy': 2273, 'Sunil Advani': 2274, 'Sunil Agnihotri': 2275, 'Sunil Dutt': 2276, 'Sunil Hingorani': 2277, 'Sunil K. Reddy': 2278, 'Sunil Pal': 2279, 'Sunil Patel': 2280, 'Sunil Prem Vyas': 2281, 'Sunil Sanjan': 2282, 'Sunil Shah': 2283, 'Sunil Sharma': 2284, 'Sunil Sikand': 2285, 'Sunil Singh': 2286, 'Sunil Subramani': 2287, 'Sunil Tiwari': 2288, 'Sunit Sinha': 2289, 'Sunny Bhambhani': 2290, 'Sunny Deol': 2291, 'Suparn Varma': 2292, 'Supavitra Babul': 2293, 'Suraj Bharti': 2294, 'Suraj Joshi': 2295, 'Suraj Prakash': 2296, 'Surender Reddy': 2297, 'Surendra Kumar Bohra': 2298, 'Surendra Mohan': 2299, 'Suresh': 2300, 'Suresh Jain': 2301, 'Suresh Krishna': 2302, 'Suresh Triveni': 2303, 'Surindara Suri': 2304, 'Surya Lakkoju': 2305, 'Surya Prakash': 2306, 'Susant Misra': 2307, 'Sushen Bhatnagar': 2308, 'Sushikailash': 2309, 'Sushil Majumdar': 2310, 'Sushil Malik': 2311, 'Sushil Rajpal': 2312, 'Sushil Vyas': 2313, 'Sushma Shiromani': 2314, 'Sushmit Ghosh': 2315, 'Sushrut Jain': 2316, 'Susi Ganesan': 2317, 'Suvahhdan Angre': 2318, 'Suvendu Ghosh': 2319, 'Suzad Iqbal Khan': 2320, 'Swamy V.S.R.': 2321, 'Swapan Saha': 2322, 'Swapna Joshi': 2323, 'Swaroop Kanchi': 2324, 'Swaroop Kumar': 2325, 'Syed Ahmad Afzal': 2326, 'Syed Hussain': 2327, 'T. Hariharan': 2328, 'T. Madhava Rao': 2329, 'T. Prakash Rao': 2330, 'T.L.V. Prasad': 2331, 'T.R. Raghunath': 2332, 'T.R. Sundaram': 2333, 'T.S. Ranga': 2334, 'Tabrez Hashmi': 2335, 'Tabrez Noorani': 2336, 'Tahir Hussain': 2337, 'Tajdar Amrohi': 2338, 'Talat Jani': 2339, 'Tannishtha Chatterjee': 2340, 'Tanuj Bhramar': 2341, 'Tanuja Chandra': 2342, 'Tanushri Chattrji Bassu': 2343, 'Tanveer Hashmi': 2344, 'Tanveer Khan': 2345, 'Tanvi Gandhi': 2346, 'Tanvir Ahmad': 2347, 'Tapan Sinha': 2348, 'Tapi Chanakya': 2349, 'Tara Harish': 2350, 'Taranjiet Singh Namdhari': 2351, 'Taranveer Singh': 2352, 'Tariq Bhat': 2353, 'Tariq Khan': 2354, 'Tariq Shah': 2355, 'Tarun Dutt': 2356, 'Tarun Madan Chopra': 2357, 'Tarun Majumdar': 2358, 'Tarun Mansukhani': 2359, 'Tarun s Bisht': 2360, 'Teerat Singh': 2361, 'Teja': 2362, 'Terrie Samundra': 2363, 'Thampi Kannanthanam': 2364, 'Thiru': 2365, 'Tiffanie Hsu': 2366, 'Tigmanshu Dhulia': 2367, 'Tilak Shetty': 2368, 'Tinnu Anand': 2369, 'Tinnu Verma': 2370, 'Tom Alter': 2371, 'Tonje Gjevjon': 2372, 'Tony Juneja': 2373, 'Trilok Jetley': 2374, 'Tulsi Ramsay': 2375, 'Tushar Hiranandani': 2376, 'Tushar Waghela': 2377, 'U.C. Roshan': 2378, 'Udai Singh Pawar': 2379, 'Uday Shankar': 2380, 'Udayshankar': 2381, 'Udyakanth': 2382, 'Ugyen Chhopel': 2383, 'Ujjwal Chatterjee': 2384, 'Ujjwal V. Thengdi': 2385, 'Umesh Bist': 2386, 'Umesh Ghadge': 2387, 'Umesh Mehra': 2388, 'Umesh Shukla': 2389, 'Umesh Vinayak Kulkarni': 2390, 'Usha Ganesarajah': 2391, 'Utkarsh Dev': 2392, 'Utpal Kalal': 2393, 'Utpalendu Chakrabarty': 2394, 'Uttar Kumar': 2395, 'V. Gowthaman': 2396, 'V. Joshi': 2397, 'V. Madhusudan Rao': 2398, 'V. Menon': 2399, 'V. Ravichandran': 2400, 'V. Ravindra': 2401, 'V. Subba Rao': 2402, 'V.G. Samant': 2403, 'V.K. Choudhary': 2404, 'V.K. Prakash': 2405, 'V.K. Singh': 2406, 'V.M. Vyas': 2407, 'V.V. Vinayak': 2408, 'Vaibhav Misra': 2409, 'Van Maximilian Carlson': 2410, 'Vandana Kataria': 2411, 'Vara Mullapoodi': 2412, 'Varadraj Swami': 2413, 'Varalakshmi G.': 2414, 'Varun Khanna': 2415, 'Varun Middha': 2416, 'Vasan Bala': 2417, 'Vasant Joglekar': 2418, 'Ved Rahi': 2419, 'Ved-Madan': 2420, 'Veerendranath Yandamoori': 2421, 'Venkatesh Bk': 2422, 'Vetrimaaran': 2423, 'Vibha Bakshi': 2424, 'Vibhu Puri': 2425, 'Vickrant Mahajan': 2426, 'Vicky Bhardwaj': 2427, 'Vicky G.': 2428, 'Vicky Ranawat': 2429, 'Vicky S. Kumar': 2430, 'Vicky Tejwani': 2431, 'Vidhi Kasliwal': 2432, 'Vidhu Vinod Chopra': 2433, 'Vierendrra Lalit': 2434, 'Vijay': 2435, 'Vijay Anand': 2436, 'Vijay B.': 2437, 'Vijay Bhatt': 2438, 'Vijay Ghatge': 2439, 'Vijay Jayapal': 2440, 'Vijay K. Bhaskar': 2441, 'Vijay Kapoor': 2442, 'Vijay Krishna Acharya': 2443, 'Vijay Kumar Mishra': 2444, 'Vijay Lalwani': 2445, 'Vijay Patkar': 2446, 'Vijay Raaz': 2447, 'Vijay Ratnakar Gutte': 2448, 'Vijay Reddy': 2449, 'Vijay S. Bhanushali': 2450, 'Vijay Sadanah': 2451, 'Vijay Sharma': 2452, 'Vijay Singh': 2453, 'Vijay Suthar': 2454, 'Vijaya Mehta': 2455, 'Viji Chandrashekhar': 2456, 'Viji Thampi': 2457, 'Vijit Sharma': 2458, 'Vikas Bahl': 2459, 'Vikas Desai': 2460, 'Vikas Kavthekar': 2461, 'Vikas Khanna': 2462, 'Vikram Bhatt': 2463, 'Vikram K. Kumar': 2464, 'Vikram Nath Gupta': 2465, 'Vikram Pradhan': 2466, 'Vikram Veturi': 2467, 'Vikramaditya Motwane': 2468, 'Vikramjit Singh': 2469, 'Vimal Kumar': 2470, 'Vimal Reddy': 2471, 'Vinay Shukla': 2472, 'Vinayan': 2473, 'Vineet Khetrapal': 2474, 'Vinil Mathew': 2475, 'Vinnil Markan': 2476, 'Vinod Dewan': 2477, 'Vinod K. Verma': 2478, 'Vinod Kamble': 2479, 'Vinod Kumar': 2480, 'Vinod Mehra': 2481, 'Vinod Mukhi': 2482, 'Vinod Pande': 2483, 'Vinod Talwar': 2484, 'Vinod Tiwari': 2485, 'Vipin Parashar': 2486, 'Vipin k Sethie': 2487, 'Vipul Amrutlal Shah': 2488, 'Vipul K. Rawal': 2489, 'Viral H. Patel': 2490, 'Virendra Saini': 2491, 'Virendra Sharma': 2492, 'Visakh G S': 2493, 'Vishal Bhardwaj': 2494, 'Vishal Mahadkar': 2495, 'Vishal Mishra': 2496, 'Vishal Mourya': 2497, 'Vishal Pandya': 2498, 'Vishesh Bhatt': 2499, 'Vishnu Mathur': 2500, 'Vishnupant Govind Damle': 2501, 'Vishram Bedekar': 2502, 'Vishram Sawant': 2503, 'Vishwa Bhanu': 2504, 'Vishwamitra': 2505, 'Vishwas Paandya': 2506, 'Vishwas Patil': 2507, 'Vishwesh Krishnamoorthy': 2508, 'Vivek Agnihotri': 2509, 'Vivek Budakoti': 2510, 'Vivek Chaudhary': 2511, 'Vivek Sharma': 2512, 'Vivek b Agrawal': 2513, 'Wanphrang Diengdoh': 2514, 'Wasi Khan': 2515, 'Wes Anderson': 2516, 'Willard Carroll': 2517, 'William Hunt': 2518, 'Wilson Louis': 2519, 'Xavier Agudo': 2520, 'Y. Eshwara Reddy': 2521, 'Y. Nageswara Rao': 2522, 'Y.P. Singh': 2523, 'Yakub Hasan Rizvi': 2524, 'Yash Chopra': 2525, 'Yogendra Singh': 2526, 'Yogesh Bharadwaj': 2527, 'Yogesh Dattatraya Gosavi': 2528, 'Yogesh Ingole': 2529, 'Yogesh Ishwar': 2530, 'Yogesh Pagare': 2531, 'Yunus Sajawal': 2532, 'Yusuf Khan': 2533, 'Yusuf Naqvi': 2534, 'Yusuf Qasmi': 2535, 'Yuvraj Kumar': 2536, 'Yûgô Sakô': 2537, 'Zaheer D. Lari': 2538, 'Zaid Ali Khan': 2539, 'Zaigham Ali Syed': 2540, 'Zaigham Imam': 2541, 'Zanane Rajsingh': 2542, 'Zeishan Quadri': 2543, 'Zia Sarhadi': 2544, 'Ziaullah Khan': 2545, 'Zoya Akhtar': 2546, 'Zubair Khan': 2547, 'Zunaid Memon': 2548}\n"
     ]
    }
   ],
   "source": [
    "director_mapping = dict(zip(lab_enc.classes_, lab_enc.transform(lab_enc.classes_)))\n",
    "print(director_mapping)"
   ]
  },
  {
   "cell_type": "code",
   "execution_count": null,
   "id": "abb4bf0e",
   "metadata": {},
   "outputs": [],
   "source": []
  },
  {
   "cell_type": "markdown",
   "id": "88ad0ce5",
   "metadata": {},
   "source": [
    "## 2. Encoding Actors 1"
   ]
  },
  {
   "cell_type": "code",
   "execution_count": 56,
   "id": "4c00e92e",
   "metadata": {},
   "outputs": [],
   "source": [
    "dataset['Actor 1'] = dataset['Actor 1'].astype('category')"
   ]
  },
  {
   "cell_type": "code",
   "execution_count": 57,
   "id": "0adc3944",
   "metadata": {},
   "outputs": [
    {
     "data": {
      "text/plain": [
       "['Rasika Dugal', 'Prateik', 'Bobby Deol', 'Jimmy Sheirgill', 'Yash Dave', ..., 'Mukesh Choudhary', 'Manoj Punj', 'Sadhana Singh', 'Sunil Sukthankar', 'Darsheel Safary']\n",
       "Length: 2046\n",
       "Categories (2046, object): ['A. Muthu', 'A. Nairang', 'A.K. Hangal', 'A.R.S.', ..., 'Zayed Khan', 'Zeenat Aman', 'Zenia Starr', 'Zulfi Sayed']"
      ]
     },
     "execution_count": 57,
     "metadata": {},
     "output_type": "execute_result"
    }
   ],
   "source": [
    "dataset['Actor 1'].unique()"
   ]
  },
  {
   "cell_type": "code",
   "execution_count": 58,
   "id": "36ffbcd7",
   "metadata": {},
   "outputs": [
    {
     "data": {
      "text/plain": [
       "2046"
      ]
     },
     "execution_count": 58,
     "metadata": {},
     "output_type": "execute_result"
    }
   ],
   "source": [
    "dataset['Actor 1'].nunique()"
   ]
  },
  {
   "cell_type": "code",
   "execution_count": 59,
   "id": "02821405",
   "metadata": {},
   "outputs": [
    {
     "data": {
      "text/plain": [
       "1           Rasika Dugal\n",
       "3                Prateik\n",
       "5             Bobby Deol\n",
       "6        Jimmy Sheirgill\n",
       "8              Yash Dave\n",
       "              ...       \n",
       "15493      Vicky Kaushal\n",
       "15494     Karisma Kapoor\n",
       "15503        Chiranjeevi\n",
       "15505       Akshay Kumar\n",
       "15508         Dharmendra\n",
       "Name: Actor 1, Length: 5851, dtype: object"
      ]
     },
     "execution_count": 59,
     "metadata": {},
     "output_type": "execute_result"
    }
   ],
   "source": [
    "dataset['Actor 1'].str.strip()"
   ]
  },
  {
   "cell_type": "code",
   "execution_count": 60,
   "id": "e87b1647",
   "metadata": {},
   "outputs": [],
   "source": [
    "#Encoding the actor 1\n",
    "actor_encoded = LabelEncoder()"
   ]
  },
  {
   "cell_type": "code",
   "execution_count": 61,
   "id": "7f7a4615",
   "metadata": {},
   "outputs": [
    {
     "data": {
      "text/html": [
       "<style>#sk-container-id-2 {color: black;}#sk-container-id-2 pre{padding: 0;}#sk-container-id-2 div.sk-toggleable {background-color: white;}#sk-container-id-2 label.sk-toggleable__label {cursor: pointer;display: block;width: 100%;margin-bottom: 0;padding: 0.3em;box-sizing: border-box;text-align: center;}#sk-container-id-2 label.sk-toggleable__label-arrow:before {content: \"▸\";float: left;margin-right: 0.25em;color: #696969;}#sk-container-id-2 label.sk-toggleable__label-arrow:hover:before {color: black;}#sk-container-id-2 div.sk-estimator:hover label.sk-toggleable__label-arrow:before {color: black;}#sk-container-id-2 div.sk-toggleable__content {max-height: 0;max-width: 0;overflow: hidden;text-align: left;background-color: #f0f8ff;}#sk-container-id-2 div.sk-toggleable__content pre {margin: 0.2em;color: black;border-radius: 0.25em;background-color: #f0f8ff;}#sk-container-id-2 input.sk-toggleable__control:checked~div.sk-toggleable__content {max-height: 200px;max-width: 100%;overflow: auto;}#sk-container-id-2 input.sk-toggleable__control:checked~label.sk-toggleable__label-arrow:before {content: \"▾\";}#sk-container-id-2 div.sk-estimator input.sk-toggleable__control:checked~label.sk-toggleable__label {background-color: #d4ebff;}#sk-container-id-2 div.sk-label input.sk-toggleable__control:checked~label.sk-toggleable__label {background-color: #d4ebff;}#sk-container-id-2 input.sk-hidden--visually {border: 0;clip: rect(1px 1px 1px 1px);clip: rect(1px, 1px, 1px, 1px);height: 1px;margin: -1px;overflow: hidden;padding: 0;position: absolute;width: 1px;}#sk-container-id-2 div.sk-estimator {font-family: monospace;background-color: #f0f8ff;border: 1px dotted black;border-radius: 0.25em;box-sizing: border-box;margin-bottom: 0.5em;}#sk-container-id-2 div.sk-estimator:hover {background-color: #d4ebff;}#sk-container-id-2 div.sk-parallel-item::after {content: \"\";width: 100%;border-bottom: 1px solid gray;flex-grow: 1;}#sk-container-id-2 div.sk-label:hover label.sk-toggleable__label {background-color: #d4ebff;}#sk-container-id-2 div.sk-serial::before {content: \"\";position: absolute;border-left: 1px solid gray;box-sizing: border-box;top: 0;bottom: 0;left: 50%;z-index: 0;}#sk-container-id-2 div.sk-serial {display: flex;flex-direction: column;align-items: center;background-color: white;padding-right: 0.2em;padding-left: 0.2em;position: relative;}#sk-container-id-2 div.sk-item {position: relative;z-index: 1;}#sk-container-id-2 div.sk-parallel {display: flex;align-items: stretch;justify-content: center;background-color: white;position: relative;}#sk-container-id-2 div.sk-item::before, #sk-container-id-2 div.sk-parallel-item::before {content: \"\";position: absolute;border-left: 1px solid gray;box-sizing: border-box;top: 0;bottom: 0;left: 50%;z-index: -1;}#sk-container-id-2 div.sk-parallel-item {display: flex;flex-direction: column;z-index: 1;position: relative;background-color: white;}#sk-container-id-2 div.sk-parallel-item:first-child::after {align-self: flex-end;width: 50%;}#sk-container-id-2 div.sk-parallel-item:last-child::after {align-self: flex-start;width: 50%;}#sk-container-id-2 div.sk-parallel-item:only-child::after {width: 0;}#sk-container-id-2 div.sk-dashed-wrapped {border: 1px dashed gray;margin: 0 0.4em 0.5em 0.4em;box-sizing: border-box;padding-bottom: 0.4em;background-color: white;}#sk-container-id-2 div.sk-label label {font-family: monospace;font-weight: bold;display: inline-block;line-height: 1.2em;}#sk-container-id-2 div.sk-label-container {text-align: center;}#sk-container-id-2 div.sk-container {/* jupyter's `normalize.less` sets `[hidden] { display: none; }` but bootstrap.min.css set `[hidden] { display: none !important; }` so we also need the `!important` here to be able to override the default hidden behavior on the sphinx rendered scikit-learn.org. See: https://github.com/scikit-learn/scikit-learn/issues/21755 */display: inline-block !important;position: relative;}#sk-container-id-2 div.sk-text-repr-fallback {display: none;}</style><div id=\"sk-container-id-2\" class=\"sk-top-container\"><div class=\"sk-text-repr-fallback\"><pre>LabelEncoder()</pre><b>In a Jupyter environment, please rerun this cell to show the HTML representation or trust the notebook. <br />On GitHub, the HTML representation is unable to render, please try loading this page with nbviewer.org.</b></div><div class=\"sk-container\" hidden><div class=\"sk-item\"><div class=\"sk-estimator sk-toggleable\"><input class=\"sk-toggleable__control sk-hidden--visually\" id=\"sk-estimator-id-2\" type=\"checkbox\" checked><label for=\"sk-estimator-id-2\" class=\"sk-toggleable__label sk-toggleable__label-arrow\">LabelEncoder</label><div class=\"sk-toggleable__content\"><pre>LabelEncoder()</pre></div></div></div></div></div>"
      ],
      "text/plain": [
       "LabelEncoder()"
      ]
     },
     "execution_count": 61,
     "metadata": {},
     "output_type": "execute_result"
    }
   ],
   "source": [
    "actor_encoded.fit(dataset['Actor 1'])"
   ]
  },
  {
   "cell_type": "code",
   "execution_count": 62,
   "id": "057ddbcc",
   "metadata": {},
   "outputs": [],
   "source": [
    "dataset['Actor Encoded'] = actor_encoded.transform(dataset['Actor 1'])"
   ]
  },
  {
   "cell_type": "code",
   "execution_count": 63,
   "id": "637a1d58",
   "metadata": {},
   "outputs": [
    {
     "name": "stdout",
     "output_type": "stream",
     "text": [
      "{'A. Muthu': 1418, 'A. Nairang': 1260, 'A.K. Hangal': 398, 'A.R.S.': 729, 'A.S. Ravindra Babu': 2019, 'Aachi Manorama': 316, 'Aadar Jain': 1420, 'Aadhi': 1197, 'Aadil Abedi': 679, 'Aadil Chahal': 717, 'Aahana Kumra': 166, 'Aakar Kaushik': 1144, 'Aakash': 610, 'Aalam': 1024, 'Aamir': 978, 'Aamir Bashir': 907, 'Aamir Khan': 1617, 'Aanchal Dwivedi': 1475, 'Aarti S. Bagdi': 1017, 'Aaryan': 1439, 'Aaryan Adhikari': 1871, 'Aashish Bhatt': 1372, 'Aashish Chaudhary': 1652, 'Aashish Kaul': 1942, 'Aasif Sheikh': 2040, 'Aatish Devgan': 199, 'Aayush Shah': 959, 'Aban Raza': 48, 'Abbas': 167, 'Abhay Chaudhary': 634, 'Abhay Deol': 301, 'Abhay Singhal': 258, 'Abhi Bhattacharya': 1364, 'Abhijeet K.': 679, 'Abhijeet Singh': 527, 'Abhilasha': 1311, 'Abhimanyu Dasani': 1082, 'Abhimanyyu Abhimanyu': 350, 'Abhishek': 398, 'Abhishek Bachchan': 1780, 'Abhishek Bharate': 1532, 'Abhishek Brahmachari': 1652, 'Abhishek Chitlangia': 1108, 'Abhishek Gupta': 797, 'Abhishek Kapoor': 16, 'Abhishek Patel': 86, 'Abhiyan Rajhans': 1610, 'Abinash': 1728, 'Abuzar Akhtar': 979, 'Acchui': 721, 'Adam M. Weber': 1465, 'Adam Saini': 1073, 'Adamya': 1894, 'Adarsh Gourav': 1641, 'Addy': 464, 'Adhvik Mahajan': 1380, 'Adhyayan Suman': 971, 'Adil Ahamad': 1766, 'Adil Amaan': 1110, 'Adil Feroz Khan': 1383, 'Adil Hussain': 110, 'Aditi': 1257, 'Aditi Bhagat': 1048, 'Aditi Bir': 746, 'Aditi Mittal': 1881, 'Aditi Rao Hydari': 1555, 'Aditya': 1940, 'Aditya Bal': 1289, 'Aditya Narayan': 1653, 'Aditya Pancholi': 1028, 'Aditya Rawal': 325, 'Aditya Roy Kapoor': 120, 'Aditya Sharma': 1410, 'Aditya Srivastav': 314, 'Afrin': 271, 'Afsan': 1330, 'Aftab Shivdasani': 534, 'Afzal Khan': 1660, 'Agast Anand': 501, 'Aghajani': 1363, 'Ahaan Jha': 765, 'Ahana': 166, 'Ahmareen Anjum': 1668, 'Ahmed Faisal Inam': 729, 'Ahsaas Channa': 1879, 'Aida Banaji': 940, 'Aisha Ahmed': 1330, 'Aishwarya Narkar': 1562, 'Aishwarya Rai Bachchan': 578, 'Aishwarya Rajesh Ash': 85, 'Aishwaryaa Rajesh': 1416, 'Aitana Sánchez-Gijón': 667, 'Ajay': 737, 'Ajay Arya': 398, 'Ajay Chourey': 1726, 'Ajay Devgn': 1891, 'Ajay Gautam': 233, 'Ajay Gehi': 1356, 'Ajay Kkhundal': 1685, 'Ajay Kumar Singh': 1145, 'Ajaykumar': 1657, 'Ajaz Khan': 743, 'Ajit': 597, 'Ajit Banerjee': 1140, 'Ajit Bhalla': 1121, 'Ajit Sinha': 298, 'Ajitesh Bannerjee': 477, 'Ajith Kumar': 1024, 'Akanksha': 689, 'Akanksha Puri': 1987, 'Akash': 529, 'Akash Sagar Chopra': 709, 'Akhil Gautam': 436, 'Akhil Kapur': 514, 'Akhilesh': 102, 'Akkash Basnet': 753, 'Akshat Jain': 492, 'Akshat Verma': 718, 'Akshay Anand': 297, 'Akshay Kapoor': 1658, 'Akshay Kumar': 712, 'Akshay Oberoi': 1125, 'Akshay Waghmare': 1103, 'Akshaye Khanna': 597, 'Alankar Joshi': 143, 'Aleksandr Zguridi': 492, 'Aleksey Fedorchenko': 1810, 'Alex Lee': 492, 'Ali': 388, 'Ali Asgar': 370, 'Ali Fazal': 890, 'Ali Zafar': 1688, 'Alia Bhatt': 1806, 'Alia Khan Dar': 1103, 'Alieesa P Badresia': 1349, 'Alisha Farrer': 679, 'Alka': 1068, 'Alka Amin': 1325, 'Alka Anjali': 298, 'Allu Arjun': 1776, 'Alma S. Grey': 166, 'Alok Chaturvedi': 679, 'Alok Rajwade': 426, 'Alpana': 1405, 'Aman Ullah': 1024, 'Aman Verma': 632, 'Amanda Ooms': 1356, 'Amar Dutta': 1990, 'Amar Upadhyay': 718, 'Amarasigamani': 1325, 'Amarjeet': 844, 'Ambika': 913, 'Ambika Kamal': 559, 'Ameesha Patel': 166, 'Ameeta': 1991, 'Ami Arora': 1658, 'Amin Gazi': 1886, 'Amit': 1024, 'Amit Bhardwaj': 1397, 'Amit Bhaskar': 1356, 'Amit Kapoor': 1109, 'Amit Madheshiya': 1961, 'Amit Pachori': 298, 'Amit Sadh': 1108, 'Amit Suryavanshi': 95, 'Amita Pathak': 1186, 'Amitabh Bachchan': 767, 'Amitkumar Sharma': 107, 'Amitoj Mann': 1590, 'Amiya Chakrabarty': 4, 'Amjad Khan': 1347, 'Ammara Ali': 1657, 'Amol Palekar': 1024, 'Amole Gupte': 1456, 'Amrish Puri': 1356, 'Amrit Raj Gupta': 120, 'Amrita Acharya': 271, 'Amrita Arora': 1356, 'Amrityan': 1774, 'Amy Maghera': 1657, 'Amyra Dastur': 480, 'Amyth Sethi': 1068, 'Anamitra Roy': 554, 'Anand': 597, 'Anand Balraj': 166, 'Anand Gandhi': 1385, 'Anand Patwardhan': 631, 'Anand Sami': 1526, 'Anand Tiwari': 76, 'Anang Desai': 1349, 'Anant Nag': 1657, 'Anay': 1356, 'Angeilla Dobson': 1991, 'Aniket Vishwasrao': 123, 'Anil Chahar': 492, 'Anil Charanjeett': 649, 'Anil Chatterjee': 1325, 'Anil Devgan': 1232, 'Anil Dhawan': 1290, 'Anil Kapoor': 1024, 'Anil Nagrath': 679, 'Anil Pandey': 166, 'Anil v Kumar': 166, 'Anirban Majumder': 1991, 'Anisa Butt': 1706, 'Anita': 298, 'Anita Guha': 372, 'Anita Kanwar': 913, 'Anitav Bachchan': 2010, 'Anjali Patil': 718, 'Anjori Alagh': 735, 'Anju Bawra': 1328, 'Ankit Desai': 398, 'Ankur': 540, 'Ankur Tewari': 1356, 'Ankur Vikal': 1317, 'Ankush Chaudhari': 71, 'Anmol': 1697, 'Anmol Dhillon': 298, 'Anmol Goswami': 182, 'Annapoorna': 1773, 'Annu Kapoor': 648, 'Ansari': 1367, 'Anshu': 1281, 'Anshuman Jha': 42, 'Anubhav Dixit': 718, 'Anubhuti Kashyap': 926, 'Anuj Jain': 1441, 'Anuj Sachdeva': 479, 'Anuj Saxena': 1364, 'Anuj Tyagi': 739, 'Anup Das': 718, 'Anupam Bhattacharya': 1563, 'Anupam Kher': 785, 'Anuraag': 686, 'Anuradha Hasan': 1084, 'Anurag Arora': 1356, 'Anurag Jha': 1090, 'Anurag Kashyap': 816, 'Anurita Jha': 1024, 'Anushka Sharma': 292, 'Anushka Shetty': 1501, 'Apache Indian': 1502, 'Aparajita': 1426, 'Aparna': 984, 'Aparshakti Khurana': 1604, 'Apoorva Arora': 1441, 'Aps Raghuvanshi': 1095, 'Arathi': 1095, 'Aravind Akash': 817, 'Aravind Sen': 1570, 'Arbaaz Khan': 420, 'Arif Zakaria': 1238, 'Arjan Bajwa': 1328, 'Arjun': 1273, 'Arjun Chakrabarty': 212, 'Arjun Chakraborty': 707, 'Arjun Hingorani': 995, 'Arjun Kapoor': 166, 'Arjun Manhas': 1034, 'Arjun Mathur': 199, 'Arjun Radhakrishnan': 1657, 'Arjun Rampal': 1868, 'Armaan Jain': 553, 'Arman Kohli': 1991, 'Armen Grayg': 597, 'Arpita Singh': 488, 'Arsh Bajwa': 546, 'Arshad Khan': 1998, 'Arshad Warsi': 1236, 'Arti Rautela': 120, 'Arun Bakshi': 328, 'Arun Govil': 1103, 'Arun Mathur': 166, 'Aruna Irani': 298, 'Aruna Raje': 1912, 'Arunoday Singh': 1084, 'Arvind': 1854, 'Arvind Gadgil': 1080, 'Arvind Kasera': 1588, 'Arvind Singh Rajpoot': 1240, 'Arvind Swamy': 1364, 'Arvinder Bhatti': 1162, 'Arya': 1364, 'Arya Babbar': 1835, 'Arya Dave': 1130, 'Aryan Neeraaj Anand': 1906, 'Aryan Vaid': 823, 'Asad Shan': 166, 'Aseem Ali Khan': 1402, 'Asha Bhosle': 166, 'Asha Devi': 120, 'Asha Parekh': 184, 'Asha Sachdev': 298, 'Ashima Bhalla': 298, 'Ashish Bisht': 23, 'Ashmit Patel': 16, 'Ashok Chaudhary': 480, 'Ashok Kumar': 1902, 'Ashrita Agarwal': 1356, 'Ashutosh Gowariker': 1846, 'Ashutosh Rana': 915, 'Ashwath Bhatt': 801, 'Ashwin Dhar': 1183, 'Ashwini Bhave': 1024, 'Asif Basra': 243, 'Aspar Husain': 979, 'Asrani': 166, 'Atif Jamil': 649, 'Atif Rashid': 1587, 'Atma': 172, 'Attin Bhalla': 679, 'Atul Agnihotri': 164, 'Atul Hanwat': 307, 'Atul Kulkarni': 679, 'Atul Srivastava': 1441, 'Augustine': 1169, 'Auroshika Dey': 252, 'Ava Mukherjee': 1024, 'Avalokita Dutt': 1802, 'Avani Rai': 1212, 'Avantika Akerkar': 30, 'Avii': 1657, 'Avijit Dutt': 120, 'Avinash Arun': 2026, 'Avinash Dhyani': 1742, 'Avinash Tiwary': 1502, 'Avinash Wadhawan': 1589, 'Ayaan Ahmad': 1325, 'Ayaz Ahmed': 979, 'Aydah El-Kashef': 1716, 'Ayesha Jhulka': 1406, 'Ayesha Takia': 680, 'Ayub Khan': 1402, 'Ayush Upadhyay': 99, 'Ayushmann Khurrana': 1356, 'Azaad Irani': 1810, 'Aziz Naser': 815, 'B. Ramakrishnaiah Panthulu': 1830, 'B.K.S. Iyengar': 979, 'Baba Sehgal': 584, 'Babu Antony': 66, 'Babubhai Mistry': 199, 'Baby Rani': 805, 'Bal Gandharva': 492, 'Balakrishnan Thevar': 166, 'Baldev Khosa': 1079, 'Balraj Sahni': 57, 'Bandana Basnett': 16, 'Barkha Madan': 1223, 'Barun Sobti': 597, 'Basant Josalkar': 1657, 'Beena Banerjee': 166, 'Beena Bannerjee': 540, 'Begum Para': 2040, 'Ben Kingsley': 166, 'Benaf Dadachandji': 922, 'Benny John': 166, 'Bhagyashree': 1356, 'Bhalchandra Shukla': 119, 'Bhankheri Devi': 1964, 'Bhanu': 1129, 'Bhanu Pratap Singh': 767, 'Bhanupriya': 597, 'Bharat Balani': 579, 'Bharat Bhushan': 1108, 'Bharat Chawla': 936, 'Bharat Gopy': 91, 'Bharath Srinivasan': 1574, 'Bharti Achrekar': 1633, 'Bhaskar Shetty': 1908, 'Bhaskarabatla Usha': 1135, 'Bhavana': 1155, 'Bhavana Singh Chauhan': 959, 'Bhavesh Kumar': 1456, 'Bhavna Mali': 112, 'Bhisham Sahni': 860, 'Bhole Baba': 1563, 'Bhumi Pednekar': 1933, 'Bibbo': 2035, 'Bidita Bag': 679, 'Bijay Anand': 389, 'Bijoy Dey': 892, 'Bimla Kumari': 1563, 'Bina Rai': 1349, 'Binayak Das': 1745, 'Bindu': 1918, 'Bindu Shukla': 911, 'Bipasha': 480, 'Bipasha Basu': 532, 'Bipin Gupta': 1356, 'Birbal': 416, 'Birendra Nath Tiwari': 1349, 'Bismillah Khan': 1657, 'Biswajit Chatterjee': 1991, 'Biswanath Bhaduri': 129, 'Bob Christo': 1617, 'Bobby Darling': 1103, 'Bobby Deol': 1469, 'Bobby Khan': 458, 'Boman Irani': 480, 'Bonnie Juneja': 718, 'Brahm Bhardwaj': 1995, 'Bryan Cranston': 1385, 'BuAli Shah': 490, 'C.S. Aasie': 1568, 'Cecilia': 2010, 'Chaitanya Bhosle': 1356, 'Chamkara': 841, 'Chand Mehta': 166, 'Chandan Roy Sanyal': 1637, 'Chandgiram': 166, 'Chandni': 1984, 'Chandra Mohan': 1201, 'Chandra Shekhar Dutta': 1574, 'Chandrachur Singh': 1356, 'Chandrima Banerjee': 1281, 'Charvi Dutta': 298, 'Chetan Hansraj': 1328, 'Chetan Sharma': 1385, 'Chetanya Adeep': 1657, 'Chetanya Adib': 597, 'Chinmay Mandlekar': 384, 'Chinnijayanth': 1930, 'Chirag Malhotra': 120, 'Chirag Paswan': 1103, 'Chiranjeevi': 1637, 'Chitra': 199, 'Chitram Basha': 16, 'Chitrangada Chakraborty': 1024, 'Choudhury Mohammed Rafiq': 767, 'Chris Bisson': 166, 'Christopher Coelho': 335, 'Chunky Panday': 1894, 'Coca Cola': 439, 'Coral Bhamra': 476, 'Cuckoo': 672, 'Cyli Khare': 679, 'Cyrus Broacha': 1507, 'Dada Kondke': 120, 'Daiana Menezes': 1795, 'Daisy Irani': 1574, 'Dakshita Patel': 1578, 'Daljeet': 1810, 'Daljit Ved': 666, 'Danish Khan': 1582, 'Danish Raza': 1155, 'Danish Singh': 1103, 'Danny Denzongpa': 1574, 'Dara Singh': 1508, 'Darshan Kumaar': 1337, 'Darsheel Safary': 913, 'Dasharth': 1349, 'David Abraham': 1289, 'Debapriyo Bagchi': 952, 'Debashree Roy': 559, 'Debu Bramha': 107, 'Deep Dhillon': 1432, 'Deep Katdare': 172, 'Deepa Arora': 76, 'Deepa Barot': 926, 'Deepa Sahi': 1568, 'Deepak': 234, 'Deepak Bahry': 814, 'Deepak Bhatia': 1617, 'Deepak Chachra': 1095, 'Deepak Chandra': 989, 'Deepak Dobriyal': 1821, 'Deepak Malhotra': 981, 'Deepak Parashar': 1265, 'Deepak S. Shivdasani': 1655, 'Deepak Tijori': 708, 'Deepika Amin': 1364, 'Deepika Padukone': 1658, 'Deepraj Rana': 213, 'Deepshikha Nagpal': 1617, 'Deepti Naval': 492, 'Deeya Dey': 256, 'Delhi Ganesh': 457, 'Desh Mukherjee': 1107, 'Dev Anand': 718, 'Dev Kumar': 1574, 'Dev Patel': 926, 'Dev Sharma': 1183, 'Devaki Singh': 298, 'Devayani': 1332, 'Deven Bhojani': 588, 'Devesh Ranjan': 657, 'Devika Rani': 1806, 'Devyani Cm': 1563, 'Dhamini': 1574, 'Dhanush': 74, 'Dharmendra': 492, 'Dharmendra Ahir': 298, 'Dharmendra Gohil': 347, 'Dharmesh Yelande': 1310, 'Dheer Momaya': 1356, 'Dhiraj Verma': 1117, 'Dhirendra Thakur': 1238, 'Dhritiman Chatterjee': 166, 'Dhruv Ganesh': 25, 'Dhruva Padmakumar': 95, 'Dhumal': 1473, 'Dhundiraj Govind Phalke': 666, 'Dhwani Gautam': 1238, 'Dia Mirza': 835, 'Diamond Akhtar': 1460, 'Diana Penty': 718, 'Diane Allemon': 492, 'Dibakar Banerjee': 1024, 'Dibyendu Bhattacharya': 492, 'Diganth': 1617, 'Dilip Arya': 1574, 'Dilip Dhawan': 559, 'Dilip Kumar': 826, 'Dilip Mestry': 32, 'Dilip Tadeshwar': 1527, 'Diljit Dosanjh': 595, 'Dimple Kapadia': 1356, 'Dinero Ash': 1032, 'Dino Morea': 1183, 'Dipankar Dey': 1810, 'Disha Yadav': 1024, 'Dishank Arora': 1810, 'Diveyaa Dwivedi': 517, 'Divya Bharti': 1217, 'Divya Dutta': 480, 'Divyendu Sharma': 166, 'Doddanna': 1764, 'Dolly Ahluwalia': 1461, 'Dulquer Salmaan': 1328, 'Durba Sahay': 718, 'Durga Khote': 1617, 'Dwij Yadav': 335, 'Ehan Bhat': 513, 'Ejaz Ahmed': 1034, 'Ekaansh Bhaardwaaj': 1729, 'Ekavali Khanna': 772, 'Elisha Kriis': 1349, 'Emma Dean': 262, 'Emraan Hashmi': 339, 'Esmayeel Shroff': 1288, 'Fahad Mustafa': 1356, 'Faith': 120, 'Faiza Ahmad Khan': 1103, 'Faraaz Khan': 1455, 'Fardeen Khan': 1338, 'Farhad Ahmed Dehlvi': 871, 'Farhad Samji': 1624, 'Farhan Akhtar': 166, 'Farid Amiri': 1658, 'Farida Jalal': 480, 'Fariduddin Dagar': 1849, 'Farooq Shaikh': 966, 'Farrukh Seyer': 166, 'Faruque Azam': 307, 'Fearless Nadia': 1519, 'Felix Roeben': 1347, 'Ferdous Ahmed': 100, 'Feroz Khan': 917, 'Filippo Gastaldi': 1658, 'Frank M. Ahearn': 1657, 'Freida Pinto': 960, 'Freny Bhagat': 95, 'Gael García Bernal': 900, 'Gajanan Jagirdar': 836, 'Gajendra Chauhan': 718, 'Ganesh Acharya': 1963, 'Garima Agarwal': 597, 'Garrick Chaudhary': 1894, 'Gaspard Kuentz': 845, 'Gaurav Ajay Kaura': 258, 'Gaurav Chowdhary': 1821, 'Gaurav Gupta': 1492, 'Gaurav Kapoor': 1682, 'Gautam Gupta': 1084, 'Gavie Chahal': 52, 'Gayatri Bahl': 1025, 'Geeta Agrawal': 1538, 'Geeta Bali': 1609, 'Geetanjali Thapa': 1356, 'Geetika Vidya Ohlyan': 1024, 'Gemini Ganesan': 227, 'Gemma Atkinson': 1356, 'Gennadiy Vasilev': 1328, 'Ghulam Ali': 199, 'Gillian Anderson': 1356, 'Giovanna Mezzogiorno': 1306, 'Girish Karnad': 120, 'Girish Taurani': 540, 'Gitanjali': 255, 'Glen Barreto': 1923, 'Golshifteh Farahani': 1608, 'Gopi Bhalla': 292, 'Gopi Krishna': 1574, 'Gorka Vázquez': 1349, 'Gouri Ash': 327, 'Govinda': 1085, 'Govindrao Tembe': 1146, 'Gracy Singh': 514, 'Gul Panag': 492, 'Gullu Dada': 1441, 'Gulshan Arora': 884, 'Gulshan Devaiah': 540, 'Gulshan Grover': 366, 'Gulzar': 1620, 'Gurdeep Singh': 1621, 'Gurmeet Choudhary': 1815, 'Gurmeet Ram Rahim Singh': 233, 'Gurpreet Kaur Chadha': 1024, 'Guru Dutt': 166, 'Gyan Shivpuri': 979, 'Gyanesh Mukherjee': 95, 'Habeeb Aidroos': 1563, 'Habib Al Aidroos': 1684, 'Hamid Farokhnezhad': 1879, 'Hannah Spearritt': 1879, 'Hansika Motwani': 1538, 'Haradhan Bannerjee': 1387, 'Harbans Darshan M. Arora': 2038, 'Hardan': 1543, 'Hardik Kapadia': 1373, 'Harisree Asokan': 307, 'Harkiran Kaur Wraich': 835, 'Harman Baweja': 1716, 'Harsh Dubey': 1555, 'Harshvardhan Deo': 480, 'Harshvardhan Kapoor': 163, 'Heeba Shah': 1806, 'Helen Mirren': 2043, 'Hema Bisht': 204, 'Hema Malini': 480, 'Hemant Birje': 610, 'Hemant Gopal': 679, 'Hemant Pandey': 1301, 'Hemen Barman': 480, 'Hemu Adhikari': 2011, 'Heramb Tripathi': 492, 'Hercules': 16, 'Himani Attri': 979, 'Himansh Kohli': 1960, 'Himanshu Bhatt': 1520, 'Himanshu Kohli': 1356, 'Himanshu Malik': 1103, 'Himesh Reshammiya': 611, 'Hina Khan': 456, 'Hiten Tejwani': 1127, 'Hrishikesh Mukherjee': 120, 'Hrishitaa Bhatt': 157, 'Hrithik Roshan': 1441, 'Hugh Bonneville': 1402, 'Hussain Dalal': 1788, 'Hussain Kuwajerwala': 1835, 'I.S. Johar': 1574, 'Imaaduddin Shah': 1382, 'Imran Abbas': 574, 'Imran Ahmed Khan': 298, 'Imran Khan': 911, 'Imran Rasheed': 1664, 'Inaamulhaq': 398, 'Inder Kumar': 718, 'Indira Bansal': 1456, 'Indra Kumar': 1806, 'Indrajith Sukumaran': 1637, 'Indrapal Ahuja': 166, 'Ira Dubey': 335, 'Irrfan Khan': 199, 'Isabella Rinaldi': 669, 'Isaiah': 307, 'Isha Bebarta': 1096, 'Isha Koppikar': 1723, 'Ishaan Khattar': 1574, 'Ishrat Ali': 1658, 'Ishteyak Arif': 166, 'Ishwar Singh': 1349, 'Iti Acharya': 1934, 'J. Sreeniwas Rao': 221, 'J.D. Chakravarthi': 1802, 'J.S. Randhawa': 1628, 'Jackie Shroff': 679, 'Jackky Bhagnani': 604, 'Jacqueline Fernandez': 1712, 'Jagdeep': 1216, 'Jahan Bloch': 1172, 'Jahangir Khan': 1934, 'Jai Kalra': 1202, 'Jaideep Ahlawat': 1219, 'Jairaj': 492, 'Jaishankar': 383, 'Jalal Agha': 166, 'Jamuna': 1435, 'Jana Sue Memel': 1477, 'Janhvi Kapoor': 792, 'Jannat Shekhawat': 926, 'Jason Lewis': 1356, 'Jaspinder Cheema': 995, 'Jass Bhatia': 1105, 'Jasti Hemambar': 1664, 'Jatin Goswami': 298, 'Jatin Grewal': 298, 'Jatin Khurana': 1963, 'Javed Abdi': 610, 'Javed Jaffrey': 911, 'Javed Khan': 1568, 'Jay Bhanushali': 995, 'Jay Mehta': 2005, 'Jay Solanki': 1899, 'Jaya Bachchan': 1414, 'Jayalalitha J': 449, 'Jayam Ravi': 1538, 'Jayamalini': 387, 'Jayant Kripalani': 166, 'Jayaram': 1946, 'Jayesh Raj': 1946, 'Jayprakkash Shaw': 1270, 'Jayshree Arora': 335, 'Jayshree Gadkar': 386, 'Jeet': 963, 'Jeetendra': 1505, 'Jeevan': 302, 'Jeff Zimbalist': 195, 'Jennifer Kendal': 449, 'Jesse Metcalfe': 1806, 'Jessica Sadana': 307, 'Jigna Bharadhwaj': 1820, 'Jigna Bhardwaj': 70, 'Jiiva': 1909, 'Jim Sarbh': 622, 'Jimmy Sharma': 597, 'Jimmy Sheirgill': 480, 'Jisshu Sengupta': 963, 'Jitendra Kumar': 1414, 'Jitendra Rai': 1894, 'Jitendra Tiwari': 1358, 'Joginder Shelly': 1356, 'John Abraham': 1657, 'John Cawas': 1068, 'Johnny Baweja': 38, 'Johnny Walker': 298, 'Joseph Vijay': 298, 'Josh Hartnett': 298, 'Joy Mukherjee': 1356, 'Judi Dench': 1612, 'Jugal Hansraj': 951, 'Juhaina Ahsan': 649, 'Juhi Babbar': 681, 'Juhi Chawla': 1456, 'Julia Datt': 1460, 'Julian Sands': 1460, 'Jyoti Chandekar': 238, 'Jyoti Swaroop': 1328, 'Jyotika': 579, 'K. Gauri': 1108, 'K. Raghavendra Rao': 1762, 'K.K. Raina': 398, 'K.L. Saigal': 1746, 'K.S. Ashwath': 1402, 'Kabina Maharjan': 1487, 'Kabir Bedi': 1581, 'Kader Kashmiri': 1456, 'Kader Khan': 1385, 'Kaifi Azmi': 163, 'Kainaz Motivala': 1103, 'Kajal Aggarwal': 398, 'Kajol': 166, 'Kalki Koechlin': 911, 'Kamal Adib': 492, 'Kamal Haasan': 746, 'Kamal Mehra': 1406, 'Kamal Rashid Khan': 1070, 'Kamal Sadanah': 1180, 'Kamalika Chanda': 365, 'Kamini Kaushal': 1657, 'Kamlabai Gokhale': 735, 'Kanak Mukherjee': 172, 'Kanak Pandey': 1942, 'Kanan Kaushal': 1628, 'Kanchan Awasthi': 492, 'Kangana Ranaut': 1098, 'Kanika Batra': 1356, 'Kanika Verma': 1328, 'Kannan Arunachalam': 1148, 'Kannanunni': 553, 'Kanwaljit Singh': 83, 'Kapil Arya': 1088, 'Kapil Jhaveri': 307, 'Kapil Sharma': 1714, 'Karamaveer Chaudhary': 95, 'Karamveer Choudhary': 1220, 'Karan': 394, 'Karan Arora': 1024, 'Karan Deol': 1414, 'Karan Dewan': 166, 'Karan Kundra': 280, 'Karan Razdan': 1786, 'Karan Shah': 1813, 'Karan Sharma': 963, 'Karan Singh Grover': 1563, 'Karann Nathh': 770, 'Karanveer': 1200, 'Karanvir Bohra': 166, 'Kareena Kapoor': 166, 'Karim Hajee': 1024, 'Karisma Kapoor': 995, 'Karthik': 1552, 'Kartik Aaryan': 814, 'Kartik Elangovan': 1657, 'Karwarkar Bhavika': 1574, 'Kasam Ali': 1024, 'Kashmira Irani': 1653, 'Kashmira Shah': 1402, 'Kavin Dave': 199, 'Kavita Kapoor': 1637, 'Kavita Tripathi': 415, 'Kay Kay Menon': 1300, 'Kayoze Irani': 1096, 'Kedar Kapoor': 1802, 'Keshto Iqbal': 1098, 'Ketki Dave': 1103, 'Kev Clinsc': 844, 'Khalil': 199, 'Kiara Advani': 1356, 'Kilam Amit': 2008, 'Kimi Katkar': 223, 'Kiran Bedi': 335, 'Kiran Janjani': 835, 'Kiran Kumar': 870, 'Kireet Khurana': 1897, 'Kirron Kher': 1482, 'Kirti Adarkar': 671, 'Kirti Azad': 1695, 'Kirti Kulhari': 1057, 'Kirti Singh': 868, 'Kishan Shrikanth': 549, 'Kishore Anand Bhanushali': 1463, 'Kishore Kumar': 363, 'Kishore Kumar G.': 1487, 'Kishore Sahu': 347, 'Kitu Gidwani': 706, 'Kollam Ajith': 1001, 'Komal Singh': 835, 'Konkona Sen Sharma': 120, 'Kookie Gulati': 1024, 'Kranti Prakash Jha': 1432, 'Krishan Kumar': 1849, 'Krishna Abhishek': 1980, 'Krishna Chaturvedi': 1364, 'Krishna Ghattamaneni': 1156, 'Krishnakant Dalvi': 104, 'Krishnamraju': 597, 'Krishnendu Adhikari': 1806, 'Kristin Kreuk': 298, 'Kritika Sachdeva': 941, 'Krrish Chhabria': 718, 'Kshitij Sharma': 1335, 'Kulbhushan Kharbanda': 441, 'Kuldeep Patil': 298, 'Kuldeep Ruhil': 632, 'Kumaar Aadarsh': 1097, 'Kumar Ganesh': 304, 'Kumar Gaurav': 248, 'Kumar Neeraj': 449, 'Kumari Naaz': 1405, 'Kumkum': 1097, 'Kumud Mishra': 494, 'Kunaal Roy Kapur': 1252, 'Kunal Bhange': 1275, 'Kunal Kapoor': 1812, 'Kunal Khemu': 298, 'Kunal Kohli': 1659, 'Kunal Nayyar': 1538, 'Kunj Anand': 415, 'Kuntaa Nikkil': 1270, 'Kushagra Anand': 658, 'Laboni Sarkar': 1657, 'Lakshmi': 627, 'Lakshmi Kanta': 908, 'Lalit Parimoo': 1725, 'Lalita Pawar': 198, 'Lalu Ram': 341, 'Latif Faiziyev': 391, 'Latika': 1325, 'Lauren Spartano': 298, 'Laxmikant Berde': 1981, 'Leela Chitnis': 1981, 'Leela Desai': 1423, 'Leela Naidu': 814, 'Leena Chandavarkar': 1904, 'Leeza Mangaldas': 1989, 'Leila Advani': 959, 'Lekha Pande': 5, 'Lewis Tan': 492, 'Lillete Dubey': 1079, 'Linnet Mushran': 120, 'Lisa Ann Walter': 1643, 'Lisa Ray': 95, 'Lorena Franco': 1164, 'Lucky Ali': 1009, 'Lucky Kohli': 1578, 'Lukram Smil': 677, 'Lydian Nadhaswaram': 1944, 'M. Ismail': 166, 'M. Madhusudhana Rao': 166, 'M. Parvez': 1031, 'M.S. Subbalakshmi': 814, 'Ma Anand Sheela': 975, 'Madan Jain': 1525, 'Madhavan': 487, 'Madhu Acharya': 1305, 'Madhu Chakravarty': 1441, 'Madhu Kapoor': 166, 'Madhubala': 1725, 'Madhura Velankar': 1915, 'Madhuri Dixit': 398, 'Mahek Chahal': 718, 'Mahendra Sandhu': 1193, 'Mahesh Anand': 1810, 'Mahesh Babu': 270, 'Mahesh Jilowa': 166, 'Mahesh Manjrekar': 1024, 'Mahesh Vettiyar': 426, 'Mahima Chaudhry': 1658, 'Mahipal': 666, 'Mahmood Farooqui': 1132, 'Makarand Anaspure': 292, 'Makrand Deshpande': 1118, 'Mala Sinha': 386, 'Malaika Arora': 299, 'Mallika Sherawat': 1441, 'Mamhoud Chokrollahi': 734, 'Mammootty': 448, 'Mamta Bhatia': 1657, 'Mamta Kulkarni': 772, 'Manager Cheena': 166, 'Manas Das': 146, 'Manav Gohil': 360, 'Manav Kaul': 1292, 'Manav Sohal': 394, 'Mandar Jadhav': 1441, 'Mandira Bedi': 803, 'Mandy Takhar': 1574, 'Manek Bedi': 166, 'Mangal Dhillon': 199, 'Mangesh Desai': 347, 'Mani Kaul': 814, 'Manish Anand': 301, 'Manish Bhavan': 125, 'Manish Chaudhary': 1543, 'Manish Gupta': 492, 'Manish Paul': 492, 'Manisha Chauhan': 95, 'Manisha Kelkar': 666, 'Manisha Koirala': 1810, 'Manit Joura': 947, 'Mann Bagga': 120, 'Mannara Chopra': 1577, 'Manohar Mahajan': 1365, 'Manohar Singh': 530, 'Manoj Amarnani': 1637, 'Manoj Bajpayee': 39, 'Manoj Bakshi': 518, 'Manoj Bidwai': 1947, 'Manoj Chandila': 1911, 'Manoj Kumar': 1538, 'Manoj Pahwa': 166, 'Manoj Punj': 414, 'Mansinghms': 166, 'Mansoor Ali Khan': 1456, 'Mantosh Kumar': 1705, 'Manu Gargi': 1322, 'Manu Rishi Chadha': 271, 'Marilia Colturato': 720, 'Mark Ellam': 1455, 'Mark Rylance': 166, 'Martin Henderson': 1475, 'Martin Sheen': 480, 'Mashaal Durrani': 1301, 'Masoom Shankar': 2043, 'Mast Ali': 1120, 'Mastan Alibhai Burmawalla': 437, 'Master Akash': 509, 'Master Baboo': 1688, 'Master Bhagwan': 1488, 'Master Bunty': 1402, 'Master Romi': 166, 'Master Shams': 166, 'Master Shankar': 1124, 'Master Vithal': 862, 'Masti Ali': 1810, 'Maya Alagh': 492, 'Maya Basu': 120, 'Maya Sharma': 968, 'Mayank Agarwal': 449, 'Mazhar Khan': 1637, 'Md. Faiz Alam': 306, 'Meena Kumari': 1637, 'Meena Shorey': 473, 'Meenakshi Dixit': 1986, 'Meenakshi Sheshadri': 2007, 'Meenu Hooda': 974, 'Meenu Kawatra': 1810, 'Meera': 120, 'Meera Joshi': 754, 'Meeraj Shah': 246, 'Meezaan Jafri': 1616, 'Megastar Maharishi Aazaad': 17, 'Meghna Desai': 1042, 'Meghna Erande': 1125, 'Mehernosh Kapadia': 166, 'Mehmood': 959, 'Mehreen Pirzada': 1637, 'Mehtab': 199, 'Mehul Adwani': 1890, 'Meka Srikanth': 1196, 'Menekka Arora': 994, 'Mia Malkova': 480, 'Mikaal': 1496, 'Milind Soman': 1526, 'Milind Ukey': 811, 'Mimoh Chakraborty': 314, 'Mirza': 1373, 'Mishti': 34, 'Mita Vashisht': 39, 'Mithilesh Chaturvedi': 1142, 'Mithun Chakraborty': 789, 'Mohammad Amir Naji': 1145, 'Mohammad Chacha': 1899, 'Mohammad Reza Golzar': 668, 'Mohan Agashe': 480, 'Mohan Azaad': 559, 'Mohan Babu': 118, 'Mohan Choti': 633, 'Mohan Gokhale': 199, 'Mohan Kapur': 109, 'Mohanlal': 199, 'Mohd. Zeeshan Ayyub': 1287, 'Mohinder Gujral': 1311, 'Mohit Ahlawat': 1084, 'Mohit Das': 967, 'Mohit Madaan': 1094, 'Mohnish Bahl': 1798, 'Moin Khan': 292, 'Mona Ambegaonkar': 833, 'Monali Thakur': 1974, 'Monica Castelino': 166, 'Monica Dogra': 95, 'Moon Moon Sen': 120, 'Motilal': 406, 'Mouli Ganguly': 1900, 'Moulina Midde': 480, 'Moumita Goswami': 1108, 'Mouni Roy': 714, 'Moushumi Chatterjee': 1764, 'Mrinalini Chatterjee': 1342, 'Mrinmayee Godbole': 1108, 'Ms. Jordiya Anna': 1764, 'Mugdha Chaphekar': 1408, 'Mugdha Godse': 1899, 'Mukesh Agrohari': 1881, 'Mukesh Ahuja': 624, 'Mukesh Asopa': 1728, 'Mukesh Choudhary': 492, 'Mukesh J Bharti': 767, 'Mukesh Khanna': 334, 'Mukesh Rishi': 841, 'Mukesh S. Bhatt': 2036, 'Mukta Barve': 1624, 'Mukund Krishna Kumar Nair': 1657, 'Mumtaz': 1606, 'Mumtaz Begum': 1636, 'Mumtaz Shanti': 262, 'Munawwar Sultana': 1356, 'Munesh Nehra': 467, 'Muntazir Ahmad': 307, 'Murad Ali': 1218, 'Murli Sharma': 1563, 'Musta Ali': 1741, 'Muzahid Khan': 307, 'Muzamil Ibrahim': 486, 'N.T. Rama Rao': 300, 'N.T. Rama Rao Jr.': 1446, 'Nabeel Ahmed': 1941, 'Nachiket Patwardhan': 1981, 'Nafisa Ali': 597, 'Nagarjuna Akkineni': 1356, 'Nagesh': 1624, 'Nagesh Kukunoor': 1720, 'Nagma': 298, 'Naina Ganguly': 731, 'Nakul Kapoor': 1108, 'Nalini Jaywant': 801, 'Nalini Tarkhad': 199, 'Naman Bhati': 398, 'Naman Jain': 691, 'Namit Das': 1010, 'Nana Patekar': 1628, 'Nanda': 347, 'Nandamuri Balakrishna': 298, 'Nandita Das': 1059, 'Nani': 1736, 'Narayan Singh Sisodia': 449, 'Narendra Jha': 1544, 'Naresh Sharma': 1574, 'Nargis': 244, 'Nargis Bagheri': 995, 'Narottam Bain': 1396, 'Narsimha Rao': 755, 'Naseem Banu': 1764, 'Naseeruddin Shah': 1849, 'Nassar': 1370, 'Nassar Abdulla': 989, 'Natalia Janoszek': 28, 'Natalie DP': 1091, 'Nataneya Singh': 1913, 'Natasha Majhi': 1775, 'Natiker': 1273, 'Natty Kumar': 1325, 'Nauheed Cyrusi': 1657, 'Naushaad Abbas': 1706, 'Naved Aslam': 879, 'Naveen Andrews': 492, 'Naveen Bawa': 729, 'Naveen Kasturia': 1653, 'Naveen Krishna': 1108, 'Navin Berry': 229, 'Navin Nischol': 131, 'Navjot Hansra': 553, 'Nawazuddin Siddiqui': 1725, 'Nazia Hussain': 1563, 'Nazima': 1073, 'Nazneen': 718, 'Nazneen Bhatia': 1572, 'Neel Bakshi': 1573, 'Neel Deshmukh': 166, 'Neelam Deysarkar': 857, 'Neelima Azim': 1526, 'Neena Gupta': 526, 'Neenu Babu': 389, 'Neera': 1574, 'Neha Ahuja': 588, 'Neha Chauhan': 1592, 'Neha Dhupia': 473, 'Neha Dubey': 198, 'Neha Joshi': 699, 'Neil Bhoopalam': 426, 'Neil Nitin Mukesh': 1356, 'Nicolos Kostopoulos': 1371, 'Nidhi Sunil': 1328, 'Nigar Sultana': 473, 'Niharica Raizada': 1711, 'Nikhil Dwivedi': 1208, 'Nikita Anand': 1802, 'Nikita Sharma': 1832, 'Nilamadhab Panda': 729, 'Nilesh Maniyar': 725, 'Nimmi': 1484, 'Niranjan Sharma': 725, 'Nirmal Pandey': 725, 'Nirupa Roy': 385, 'Nisar Ahmad Ansari': 1909, 'Nishan Nanaiah': 307, 'Nishant Rai': 154, 'Nishat Mallick': 597, 'Nishi Neha Mishra': 347, 'Nishikant Dixit': 1356, 'Nishikant Kamat': 298, 'Nissar': 2010, 'Nitesh Shrivastava': 1565, 'Nitesh Tiwari': 116, 'Nithiin': 1111, 'Nithya Menen': 431, 'Nitin Goel': 419, 'Nitin Sethi': 1837, 'Nivedita Bhattacharya': 166, 'Nivedita Chandel': 553, 'Nivin Pauly': 1168, 'Noor Jehan': 1183, 'Noor Mohammad Charlie': 1637, 'Nora Fatehi': 1213, 'Nushrat Bharucha': 1834, 'Nutan': 1792, 'O.P. Ralhan': 1456, 'Om Prakash': 1600, 'Om Puri': 596, 'Omar Abdullah': 1814, 'Omkar Bhatkar': 172, 'Omkar Das Manikpuri': 1429, 'Omkar Kapoor': 959, 'Op Rai': 199, 'Owen Wilson': 1528, 'P.L. Santoshi': 1296, 'P.P. Bajaj': 30, 'Padmadevi': 69, 'Pahadi Sanyal': 307, 'Paidi Jairaj': 1637, 'Pakhi Hegde': 467, 'Pakija Begam': 398, 'Pankaj Berry': 1657, 'Pankaj Dheer': 1108, 'Pankaj Kapur': 1657, 'Pankaj Purohit': 1103, 'Pankaj Tripathi': 95, 'Paoli Dam': 1566, 'Parag Ajgaonkar': 979, 'Parambrata Chattopadhyay': 298, 'Paresh Rawal': 718, 'Parikshit Sahni': 1658, 'Parineeti Chopra': 1915, 'Parshwanath Yeshwant Altekar': 1749, 'Parth Singh Chauhan': 166, 'Partho A. Gupte': 1892, 'Partho Ghosh': 1259, 'Parveen Babi': 1574, 'Parveen Kaur': 1133, 'Parvin Dabas': 1691, 'Parzaan Dastur': 826, 'Patralekhaa Paul': 1267, 'Pavan Buragohain': 842, 'Pawan Kumar Sharma': 492, 'Pawan Malhotra': 2045, 'Pawan Rajput': 2042, 'Pawan Waval': 943, 'Payal Rohatgi': 1371, 'Perena Agarwal': 1503, 'Peter Pedrero': 398, 'Pierce Brosnan': 963, 'Pilla Srinivas': 1688, 'Piyush Wankhede': 1015, 'Pooja Bhatt': 553, 'Pooja Bisht': 1344, 'Pooja Kumar': 557, 'Poonam Agarwal': 1526, 'Poonam Dhillon': 260, 'Poonam Pandey': 1403, 'Poornima Jayaram': 271, 'Prabhakar': 1579, 'Prabhas': 1024, 'Prabhu': 1949, 'Prabhu Deva': 1949, 'Prachi Save': 1949, 'Pradeep Kumar': 95, 'Pradeep Pandey': 166, 'Pradeep Rangwani': 1617, 'Prajakt Rebeloma': 1715, 'Prakash Bare': 55, 'Prakash Belawadi': 1081, 'Prakash Deshmukh': 1612, 'Prakash Mehra': 1264, 'Pramod Goswami': 597, 'Pran': 1939, 'Pranavanand': 1934, 'Prasenjit Chatterjee': 389, 'Prashant Barot': 95, 'Prashant Chaubey': 1996, 'Prashant Narayanan': 807, 'Prashant Pandey': 1826, 'Prashanth': 1083, 'Prashantt Guptha': 1054, 'Prateek Gupta': 389, 'Prateek Pachauri': 1084, 'Prateik': 540, 'Pratim D. Gupta': 621, 'Pratima V. Kulkarni': 1183, 'Pratyush Sharma': 1160, 'Prayag Raj': 829, 'Preeti Ganguli': 1403, 'Preeti Jhangiani': 1553, 'Preeti Soni': 333, 'Preetika Chauhan': 298, 'Preity Zinta': 995, 'Prem Adib': 514, 'Prem Chopra': 1356, 'Prem Datta': 1563, 'Prem Nath': 1155, 'Prem Nazir': 184, 'Prerika Arora': 1924, 'Prince Adhikari': 2028, 'Prince Shah': 1108, 'Prince Singh': 711, 'Prit Kamani': 71, 'Prithvi': 467, 'Prithviraj Kapoor': 1538, 'Prithviraj Sukumaran': 1538, 'Priya Gamre': 1538, 'Priya Rao': 1385, 'Priyamvada Narayanan': 1993, 'Priyanka Agarwal': 672, 'Priyanka Arya': 1868, 'Priyanka Bose': 262, 'Priyanka Chopra Jonas': 1806, 'Priyanshu Chatterjee': 1023, 'Puja Jha': 1405, 'Pulkit Samrat': 216, 'Puneet Issar': 1635, 'Puneet Singh Ratn': 1069, 'Purab Kohli': 1738, 'Puru Chibber': 679, 'Pushpraj Gunjan': 1349, 'R. Kannan': 1578, 'R. Kumar': 492, 'Raaj Kumar': 1578, 'Radhika Apte': 1024, 'Rafiq Anwar': 1982, 'Raghav Rishi': 172, 'Raghu Babu': 644, 'Raghuvir Yadav': 998, 'Ragini': 957, 'Rahul Bagga': 1024, 'Rahul Bairagi': 155, 'Rahul Bhatt': 1394, 'Rahul Bose': 120, 'Rahul Dev': 254, 'Rahul Dholakia': 16, 'Rahul Jaiswal': 803, 'Rahul Khanna': 1644, 'Rahul Ranjan': 780, 'Rahul Rawail': 41, 'Rahul Roy': 979, 'Rahul Singh': 1651, 'Rahul Thulasiram': 1364, 'Rahul V. Chittella': 1802, 'Rahuul Aamath': 200, 'Raima Sen': 597, 'Raj Agnihotri': 412, 'Raj Arjun': 1612, 'Raj Babbar': 546, 'Raj Ballav Koirala': 828, 'Raj Banerjee': 1526, 'Raj Kapoor': 948, 'Raj Kiran': 1103, 'Raj Nidimoru': 1802, 'Raj Singh Arora': 746, 'Raj Singh Chaudhary': 729, 'Raj Singh Jhinger': 1894, 'Raj Vasudeva': 273, 'Raja': 672, 'Rajan Deo': 1979, 'Rajan Sippy': 1602, 'Rajan Verma': 514, 'Rajasekhar': 1834, 'Rajat Bakshi': 1574, 'Rajat Barmecha': 1817, 'Rajat Bedi': 1981, 'Rajat Kapoor': 1365, 'Rajbeer Singh': 1563, 'Rajeev Dassani': 1617, 'Rajeev Kanakala': 1991, 'Rajeev Khandelwal': 16, 'Rajendra Gupta': 1967, 'Rajendra Kumar': 1129, 'Rajendra Prasad': 1991, 'Rajendranath Malhotra': 417, 'Rajesh Bakshi': 2022, 'Rajesh Bhardwaj': 666, 'Rajesh Desai': 120, 'Rajesh Jolly': 95, 'Rajesh Khanna': 76, 'Rajesh Khera': 950, 'Rajesh Malik': 1365, 'Rajesh Mittal': 281, 'Rajesh Sethi': 952, 'Rajesh Tailang': 142, 'Rajeshwari Sachdev': 1919, 'Rajinder Verma': 132, 'Rajinikanth': 382, 'Rajit Kapoor': 913, 'Rajith Menon': 120, 'Rajiv Kapoor': 1103, 'Rajkumar': 262, 'Rajkumar Bedi': 1657, 'Rajkumari': 166, 'Rajkummar Rao': 1456, 'Rajniesh Duggall': 597, 'Rajpal Yadav': 199, 'Rajshree': 903, 'Raju Kumar': 1024, 'Raju Mavani': 95, 'Raju Singh': 1628, 'Rajveer Ankur Singh': 95, 'Rajvirr Singh': 919, 'Rajvvir Aroraa': 599, 'Rakesh': 206, 'Rakesh Bedi': 1594, 'Rakesh Khanna': 767, 'Rakesh Roshan': 1621, 'Rakhee Gulzar': 117, 'Raksha Mistry': 1945, 'Ram Awana': 597, 'Ram Charan': 2011, 'Ram Gopal Varma': 114, 'Ram Kapoor': 1563, 'Ram Kumar': 139, 'Ram Pothineni': 707, 'Raman Atre': 1527, 'Raman Trikha': 769, 'Ramanjit Juneja': 166, 'Ramesh Deo': 1886, 'Ramesh Puri': 120, 'Rameshwari': 113, 'Rana Daggubati': 1240, 'Rana Jung Bahadur': 1832, 'Ranbeeir Kalsi': 318, 'Ranbir Kapoor': 166, 'Randeep Hooda': 30, 'Randhawa': 1390, 'Randhir Kapoor': 492, 'Rani Mukerji': 1574, 'Ranjan': 1624, 'Ranjana': 755, 'Ranjeeta Kaur': 514, 'Ranji Vijayan': 1115, 'Ranjit Bawa': 82, 'Ranjit Kapoor': 1939, 'Ranjit Sood': 854, 'Ranveer Singh': 615, 'Ranvir Shorey': 2010, 'Raqesh Bapat': 271, 'Rashid Ahmed': 1542, 'Rasika Dugal': 39, 'Ratan Chopra': 1991, 'Rati Agnihotri': 692, 'Ratin Banerjee': 120, 'Ratna Bhooshan': 311, 'Rattan Bai': 1563, 'Raushan Jha': 1991, 'Raveena Tandon': 1456, 'Ravi Baswani': 735, 'Ravi Chauhan': 95, 'Ravi Chopra': 1356, 'Ravi Kishan': 1779, 'Ravi Sah': 1073, 'Ravi Tandon': 1328, 'Ravi Teja': 1991, 'Ravindra Sahu': 1108, 'Raz Rehman Ali': 492, 'Raza Murad': 1736, 'Reem Shaikh': 902, 'Reena Roy': 566, 'Rehaan Engineer': 344, 'Rehal Khan': 1273, 'Rehana': 926, 'Rekha': 729, 'Rekha Rana': 1417, 'Revathi': 1108, 'Rhea Chakraborty': 1967, 'Rhythm Arora': 2009, 'Richa Chadha': 1260, 'Richa Pallod': 1078, 'Richard Harris': 144, 'Rima Mishra': 102, 'Rina Charaniya': 1405, 'Rinku Jaiswal': 926, 'Rintu Thomas': 39, 'Rishabh Vaidya': 649, 'Rishi Bhummi': 16, 'Rishi Bhutani': 679, 'Rishi Kapoor': 956, 'Rishi Verma': 1205, 'Rishy': 1183, 'Rita Bhaduri': 395, 'Riteish Deshmukh': 386, 'Rituparna Sengupta': 552, 'Ritwick Chakraborty': 1030, 'Riya Deepsi': 1385, 'Robin Das': 1775, 'Robin Sikarwar': 1125, 'Robin Sohi': 148, 'Rohan': 1755, 'Rohan Dey': 298, 'Rohan Jardosh': 556, 'Rohan Kapoor': 1903, 'Rohini Hattangadi': 612, 'Rohit Krishnakant Nayyar': 1785, 'Rohit Roy': 16, 'Ronit Jadhav': 718, 'Ronit Roy': 718, 'Rono Mukherjee': 298, 'Roopa Ganguly': 1832, 'Roopesh Kumar': 1628, 'Rose Laskar': 16, 'Ruby Ahmed': 1637, 'Ruby Mayer': 199, 'Ruchika Muchhala': 1405, 'Ruma Guha Thakurta': 514, 'Rupa Bhimani': 540, 'Rupak Ginn': 654, 'Ruslaan Mumtaz': 995, 'S. Panju': 2008, 'S. Ramanathan': 16, 'S.A. Chandrashekhar': 262, 'S.M. Iqbal': 1190, 'S.N. Banerjee': 525, 'S.S. Vasan': 166, 'S.U. Sunny': 640, 'Saahil Prem': 1847, 'Saasha Aery': 1280, 'Saayli Buva': 262, 'Sabita Devi': 516, 'Sabitha Anand': 666, 'Sabreen Baker': 301, 'Sachendra Choubey': 1385, 'Sachiin Joshi': 95, 'Sachin': 1628, 'Sachin Khedekar': 1538, 'Sachin Krishn': 1657, 'Sachin Pilgaonkar': 785, 'Sachin Tendulkar': 959, 'Sadashiv Amrapurkar': 1623, 'Sadhana': 1624, 'Sadhana Singh': 913, 'Sadhona Bose': 1637, 'Sadhvi Bhatt': 1526, 'Sadia Khateeb': 1624, 'Sadiq Ali': 95, 'Sadiya Azgar': 2043, 'Sadiya Siddiqui': 860, 'Saeed Jaffrey': 907, 'Saharsh Kumar Shukla': 1385, 'Saheem Khan': 932, 'Sahil Akhtar': 718, 'Sahil Anand': 1851, 'Sahil Khan': 679, 'Sahil Mehta': 95, 'Sahil Vaid': 1328, 'Sahilraj Dewangen': 1810, 'Saiba Babu': 926, 'Saif Ali Khan': 665, 'Saira Banu': 1440, 'Saiyami Kher': 1024, 'Sajad Khaki': 95, 'Sajeel Parakh': 1624, 'Sajin Saleem': 1624, 'Salil Acharya': 352, 'Salil Ankola': 1372, 'Salim Abubaker': 233, 'Salim Amrohi': 1024, 'Salim Fateh': 1617, 'Salma Agha': 624, 'Salman Khan': 735, 'Sam Nagar': 1653, 'Samarth Sonawane': 939, 'Sameer Dharmadhikari': 95, 'Sameera Awasthi': 1328, 'Samiksha Bhatnagar': 166, 'Samir Aftab': 1642, 'Samir Ahmed': 1657, 'Samir Soni': 298, 'Samit Bhanja': 347, 'Sammir Dattani': 689, 'Sammy Jonas Heaney': 845, 'Sampat Pal Devi': 492, 'Sanaya Irani': 1456, 'Sandeep Bedi': 835, 'Sandeep Bose': 1822, 'Sandeep Kulkarni': 1481, 'Sandeepa Dhar': 1328, 'Sandhya': 1487, 'Sangeeta Bijlani': 597, 'Sanghmitra Hitaishi': 763, 'Saniya Anklesaria': 1657, 'Sanjay Bhatia': 293, 'Sanjay Chauhan': 1024, 'Sanjay Deyali': 862, 'Sanjay Dutt': 298, 'Sanjay Gupta': 1456, 'Sanjay Kapoor': 1563, 'Sanjay Khan': 1356, 'Sanjay Khanna': 198, 'Sanjay Mishra': 405, 'Sanjay Mitra': 1328, 'Sanjay Sharma': 559, 'Sanjay Singh': 1769, 'Sanjay Suri': 936, 'Sanjeev Giriwer': 60, 'Sanjeev Kumar': 679, 'Sanoj R. Mishra': 1771, 'Sanya Malhotra': 1356, 'Sapna Awasthi': 123, 'Sapna Sappu': 927, 'Saqib Saleem': 841, 'Sara Khan': 1554, 'Sara Loren': 1624, 'Sarah Jane Dias': 166, 'Sarah Wayne Callies': 1624, 'Sarath Babu': 1024, 'Sarita Joshi': 1475, 'Saroj Bhargava': 1841, 'Saroja Devi B.': 679, 'Sarvadaman Banerjee': 1698, 'Sarvar Ahuja': 835, 'Saswata Chatterjee': 835, 'Satchit Puranik': 741, 'Sathyan': 970, 'Sathyaraj': 1657, 'Satish Kaushik': 1945, 'Satish Kumar': 332, 'Satnam Kaur': 1507, 'Satyadev Dubey': 492, 'Satyajeet': 1024, 'Satyakam Anand': 1781, 'Satyanshu Singh': 307, 'Saurabh Agarwal': 1073, 'Saurabh Choudhary': 120, 'Saurabh Goyal': 331, 'Saurabh Malik': 1563, 'Saurav Chakraborty': 1354, 'Savita Bajaj': 569, 'Sawroop Butta': 1986, 'Sayani Gupta': 1642, 'Seema': 1284, 'Seema Azmi': 1877, 'Seema Bilong': 820, 'Seema Biswas': 310, 'Seema Deo': 335, 'Seema Dogra': 961, 'Serena Lorien': 1615, 'Shabana Afreen': 518, 'Shabana Azmi': 95, 'Shabana Raza': 1832, 'Shadaab Khan': 1183, 'Shadab Kamal': 1389, 'Shadab Khan': 127, 'Shafiq Syed': 1205, 'Shagufta Ali': 1237, 'Shah Rukh Khan': 222, 'Shahbaaz Khan': 35, 'Shahbaz Baweja': 1823, 'Shaheed Latif': 1328, 'Shahid Kapoor': 1834, 'Shahnawaz Bhat': 1241, 'Shahu Modak': 492, 'Shailendra Gaur': 1538, 'Shakeel Bharati': 1398, 'Shakila': 597, 'Shakti Kapoor': 2009, 'Shakuntala Barua': 335, 'Shakur Sir': 335, 'Shammi Kapoor': 39, 'Shamna Kasim': 298, 'Shankanada Aravind': 1657, 'Shanta Apte': 1640, 'Shantanu Ray Chhibber': 1570, 'Shantaram Rajaram Vankudre': 2043, 'Sharad Kelkar': 1624, 'Sharad Ponkshe': 1578, 'Sharad S. Kapoor': 1657, 'Sharada': 677, 'Sharada Devi': 378, 'Sharadkumar Dicksheet': 1564, 'Sharan Anandani': 1182, 'Shardul Bharadwaj': 963, 'Sharib Hashmi': 959, 'Sharman Joshi': 764, 'Sharmila Tagore': 1024, 'Shashank Arora': 755, 'Shashank Udapurkar': 480, 'Shashanka Ghosh': 1848, 'Shashi Kapoor': 264, 'Shatrughan Sinha': 794, 'Shaurya Singh': 995, 'Shawar Ali': 620, 'Sheeba': 1599, 'Shefali Shah': 16, 'Sheikh Fattelal': 1186, 'Sheikh Mukhtar': 66, 'Shekhar': 676, 'Shekhar Kapur': 1650, 'Shekhar Suman': 1991, 'Sherlyn Chopra': 1358, 'Shilpa Shetty Kundra': 1806, 'Shiney Ahuja': 1671, 'Shinnosuke Yakuwa': 298, 'Shiv Darshan': 522, 'Shiv Kumar': 1915, 'Shiv Panditt': 166, 'Shiva Rindani': 1007, 'Shiva Suryavanshi': 1098, 'Shivaji Ganesan': 1657, 'Shivaji Satam': 1024, 'Shivani Raghuvanshi': 1009, 'Shivarajkumar': 307, 'Shobana': 1125, 'Shoma Anand': 1827, 'Shona Chabra': 47, 'Shraddha Kapoor': 718, 'Shravani Abhang': 631, 'Shreedevi Chowdary': 30, 'Shreyas Porus Pardiwalla': 1586, 'Shreyas Talpade': 1325, 'Shrivastava Anushka': 298, 'Shriya Sharma': 1328, 'Shrunga B.V.': 1310, 'Shruti Haasan': 1617, 'Shubh Mukherjee': 1617, 'Shubham': 767, 'Shubham Kumar Singh': 1851, 'Shubhanshu Satyadeo': 1108, 'Shubhi Ahuja': 1672, 'Shubhra Ghosh': 718, 'Shubhradeep Chakravorty': 1526, 'Shweta': 718, 'Shweta Basu Prasad': 95, 'Shweta Bhardwaj': 1028, 'Shweta Tripathi': 1382, 'Shyam Bharteey': 298, 'Shyam Bhimsaria': 546, 'Shyama': 166, 'Siddharth': 1538, 'Siddharth Gupt': 1742, 'Siddharth Gupta': 1657, 'Siddharth Koirala': 801, 'Siddharth Menon': 1068, 'Sidhant Gupta': 25, 'Sidhant Kapur': 559, 'Sidhant Salaria': 1813, 'Sidharth Bhardwaj': 1617, 'Sidharth Malhotra': 1802, 'Sikandar Khanna': 1566, 'Sikandar Kher': 1664, 'Simer Motiani': 835, 'Simi Garewal': 298, 'Simran Ahemad': 1263, 'Sippy Gill': 559, 'Sitara Devi': 298, 'Smita Gondkar': 1806, 'Smita Patil': 205, 'Smriti Mundhra': 1657, 'Sneha': 1790, 'Soha Ali Khan': 2025, 'Sohail Khan': 307, 'Sohan Borcar': 69, 'Sohini Sarkar': 1538, 'Sohrab Ardeshir': 540, 'Sohrab Modi': 996, 'Som Dutt': 177, 'Sombhu Mitra': 670, 'Somesh Agarwal': 398, 'Sonakshi Sinha': 298, 'Sonali Bendre': 1260, 'Sonali Kulkarni': 1568, 'Sonam': 233, 'Sonam Arora': 166, 'Sonam Kapoor': 1518, 'Sonarika Bhadoria': 1533, 'Soni Razdan': 120, 'Sonia Albizuri': 1993, 'Sonu Chourasia': 262, 'Sonu Nigam': 1821, 'Sonu Sood': 1567, 'Sooraj Balaji': 767, 'Sooraj Pancholi': 371, 'Sooraj R. Barjatya': 1108, 'Sophiya Chaudhary': 89, 'Sorabh Chauhan': 1764, 'Soubhagya Chandan Satapathy': 952, 'Soumi Saha': 1339, 'Soumitra Chatterjee': 1042, 'Soumyak Kanti DeBiswas': 1438, 'Soundarya': 1345, 'Soundarya Sharma': 1461, 'Sourabh': 269, 'Sourabh Arora': 1802, 'Sreelekha Mitra': 1307, 'Sreenath Janardhanan': 377, 'Sridevi': 1657, 'Sridhar Dubey': 1385, 'Srishti Gautam': 953, 'Sritam Das': 1278, 'Srivinay Salian': 166, 'Steven a Dsouza': 1307, 'Subhash Ahuja': 1624, 'Subodh Mitra': 16, 'Subramanian Swamy': 1574, 'Subrat Dutta': 196, 'Suchitra Sen': 1024, 'Sudeep': 545, 'Sudesh Berry': 1669, 'Sudesh Kumar': 1657, 'Sudha Chandran': 718, 'Sudhanshu Pandey': 1657, 'Sudhir Dalvi': 1240, 'Sudhir Kumar': 1289, 'Suhaas Ahuja': 1991, 'Suhasini': 381, 'Sujata Mehta': 488, 'Sulabha Arya': 1047, 'Sulabha Deshpande': 600, 'Sulagna Panigrahi': 380, 'Sulochana Chatterjee': 449, 'Sulochana Latkar': 556, 'Suman Ranganath': 60, 'Sumana Mukherjee': 1652, 'Sumanth': 480, 'Sumeet Saigal': 1347, 'Sumeet Vyas': 801, 'Sumit Arora': 1356, 'Sumit Gulati': 1970, 'Sumit Nijhawan': 1849, 'Suneil Anand': 1249, 'Sunidhi Chauhan': 921, 'Sunil Barve': 1651, 'Sunil Dhawan': 1160, 'Sunil Dutt': 166, 'Sunil Kumar Agrawal': 473, 'Sunil Pal': 659, 'Sunil Sharma': 786, 'Sunil Shetty': 1617, 'Sunil Singh': 2033, 'Sunil Sukthankar': 1976, 'Sunil Tiwari': 1310, 'Sunny Deol': 1314, 'Sunny Hinduja': 1161, 'Sunny Kaushal': 2008, 'Sunny Leone': 480, 'Sunny Pawar': 71, 'Sunny Sachdeva': 707, 'Sunny Singh': 1791, 'Suraiya': 713, 'Suraj Baba': 2000, 'Suraj Sharma': 375, 'Surekha': 587, 'Surendra': 1648, 'Surendra Kumar': 1810, 'Suresh': 514, 'Suresh Bhagwat': 603, 'Suresh Chatwal': 76, 'Suresh Gopi': 735, 'Suresh Oberoi': 735, 'Suresh Thomas': 166, 'Suriya': 1886, 'Sushama Deshpande': 1328, 'Sushant Singh': 1660, 'Sushant Singh Rajput': 674, 'Sushma Ahuja': 262, 'Sushmita Sen': 269, 'Suvahhdan Angre': 1127, 'Suzanne Bernert': 325, 'Svar Kamble': 1686, 'Swara Bhaskar': 166, 'Swaran Lata': 39, 'Swaroop Kanchi': 448, 'Swaroop Khan': 438, 'Swarup Dutt': 597, 'Sylvester Stallone': 1694, 'T.K. Desai': 729, 'T.R. Narasimharaju': 1292, 'T.S. Balaiah': 946, 'Taapsee Pannu': 1292, 'Tabrez Hashmi': 2011, 'Tabu': 1710, 'Talat Jani': 15, 'Talat Mahmood': 1378, 'Talha Arshad Reshi': 1658, 'Talia Bentson': 647, 'Tania Nazmeen Dean': 120, 'Tanikella Bharani': 162, 'Tanima Bhattacharya': 1810, 'Tanishaa Mukerji': 1806, 'Tanmay Bhat': 1736, 'Tanmay Dhanania': 95, 'Tannishtha Chatterjee': 1764, 'Tanuj Virwani': 913, 'Tanuja': 1584, 'Tanushree Dutta': 123, 'Tanveer': 924, 'Tanveer Ahmad': 553, 'Tanveer Hashmi': 1855, 'Tanvi Jain': 480, 'Tapas Pal': 597, 'Tara Deshpande': 1108, 'Tara Sharma': 39, 'Tarun Arora': 1668, 'Tarush Waghela': 271, 'Teeshay': 1449, 'Tejaswini Manogna': 673, 'Tenzing Sonam': 355, 'Tharun Bhascker Dhaassyam': 323, 'Thilakan': 123, 'Tia Bajpai': 1575, 'Tiger Shroff': 201, 'Tillotama Shome': 1034, 'Tina Ambani': 166, 'Tinku': 679, 'Tinnu Anand': 1652, 'Tod Polson': 38, 'Todd Howard': 166, 'Tom Alter': 1802, 'Tony Pietra Arjuna': 166, 'Tottempudi Gopichand': 1963, 'Trimala Adhikari': 166, 'Tripti Dimri': 95, 'Trivikram Mattoo': 503, 'Tulika Banerjee': 1585, 'Tulip Joshi': 959, 'Tulsi Ramsay': 778, 'Tushar Dalvi': 1364, 'Tushar Jalota': 1620, 'Tushar Pandey': 1349, 'Tushar Prakash': 1578, 'Tusshar Kapoor': 1158, 'U.R. Ananthamurthy': 75, 'Uday Chopra': 274, 'Udayan Banerjee': 120, 'Udita Goswami': 1859, 'Ujjwal Rana': 679, 'Umesh Kamat': 347, 'Umesh Mehra': 1102, 'Upendra Limaye': 787, 'Urmila Bhatt': 573, 'Urmila Matondkar': 1802, 'Urvashi Rautela': 1029, 'Usha Bachani': 684, 'Usha Kiran': 1657, 'Usha Sharma': 672, 'Utkarsh Sharma': 2043, 'Utpal Dutt': 1899, 'Utpal Sinha': 327, 'Uttam Halder': 1505, 'Uttam Kumar': 718, 'Uttar Kumar': 275, 'V. Gopalakrishnan': 718, 'V. Menon': 1967, 'V. Ravichandran': 1617, 'Vaarssh Bhatnagar': 1914, 'Vadivelu': 597, 'Vaibhav Khisti': 767, 'Vaibhav Sethia': 16, 'Vaishali Sinha': 540, 'Vandana Asthana': 605, 'Vani Vashishth': 963, 'Vansh Bhardwaj': 1667, 'Vardhan Puri': 1862, 'Varsha Agnihotri': 1657, 'Varun Bhagwat': 597, 'Varun Dhawan': 347, 'Vasili Pronin': 87, 'Vats Amit': 199, 'Vatsal Sheth': 1459, 'Veena Malik': 1356, 'Venkatesh Daggubati': 32, 'Vibha Chhibber': 1682, 'Vickrant Mahajan': 1070, 'Vicky Ahuja': 352, 'Vicky Bhalla': 1603, 'Vicky Kaushal': 1349, 'Victor Banerjee': 172, 'Vidit Kumar': 199, 'Vidya Balan': 944, 'Vidya Sinha': 166, 'Vidyut Jammwal': 1810, 'Vijay Aidasani': 1799, 'Vijay Anand': 1810, 'Vijay Arora': 1810, 'Vijay Mahar': 1613, 'Vijay Maurya': 1317, 'Vijay Raaz': 1163, 'Vijay Sharma': 1127, 'Vijay Varma': 660, 'Vijay Verma': 1670, 'Vijayakanth': 1551, 'Vijayalalitha': 509, 'Vijayendra Ghatge': 16, 'Vije Bhatia': 1658, 'Vikas Anand': 443, 'Vikas Balian': 1095, 'Vikas Bangar': 492, 'Vikas Kalantri': 1894, 'Vikram': 287, 'Vikram Chatterjee': 1183, 'Vikram Chatwal': 2015, 'Vikram Chopra': 49, 'Vikram Gokhale': 670, 'Vikram Kochhar': 834, 'Vikram Makandar': 1201, 'Vikrant Massey': 575, 'Vimal Chandra Pandey': 1330, 'Vinamrata Rai': 1368, 'Vinay Ambast': 1874, 'Vinay Anand': 166, 'Vinay Apte': 1300, 'Vinay Katore': 1597, 'Vinay Pathak': 1617, 'Vinay Rai': 120, 'Vinay Sapru': 1068, 'Vinay Shukla': 1888, 'Vinay Subramanian': 1024, 'Vinay Virmani': 95, 'Vineet Kumar Singh': 95, 'Vinit Kanojia': 95, 'Vinod Acharya': 1703, 'Vinod K. Verma': 1899, 'Vinod Khanna': 120, 'Vinod Kumar': 1775, 'Vinod Mehra': 1258, 'Vinod Pande': 860, 'Vir Das': 1349, 'Vira Sathidar': 72, 'Virender Razdan': 1663, 'Vishal': 1505, 'Vishal Acharya': 514, 'Vishal Arya': 1806, 'Vishal Chaturvedi': 1328, 'Vishal Desai': 881, 'Vishnu Manchu': 1349, 'Vishnuvardhan': 657, 'Vishwa Bhanu': 1981, 'Vivaan Shah': 1084, 'Vivek Anand': 1053, 'Vivek Mushran': 679, 'Vivek Oberoi': 298, 'Vyjayanthimala': 1460, 'Waheeda Rehman': 1910, 'Wamiqa Gabbi': 651, 'William Cully Allen': 1574, 'Y.V.S. Chowdary': 166, 'Yami Gautam': 492, 'Yasef Calderón': 476, 'Yash Agarwal': 1641, 'Yash Baba': 269, 'Yash Dave': 233, 'Yash Krishnani': 1024, 'Yash Shetty': 805, 'Yash Soni': 480, 'Yashaswini Dayama': 821, 'Yashi Kapoor': 1436, 'Yashit Duggal': 913, 'Yashpal Sharma': 814, 'Yogeeta Bali': 1550, 'Yogesh Raj Mishra': 166, 'Yoggitta Dandaykar': 1957, 'Yogita Deshmukh': 1096, 'Yusuf Qasmi': 520, 'Yuvraj Kumar': 1251, 'Zackie Achmat': 298, 'Zaheer Iqbal': 1563, 'Zahid Ali': 1810, 'Zain Khan': 389, 'Zaira Wasim': 1574, 'Zakir Hussain': 1009, 'Zameer Ashai': 1024, 'Zareen Khan': 1658, 'Zarina Wahab': 1159, 'Zayed Khan': 1024, 'Zeenat Aman': 95, 'Zenia Starr': 1414, 'Zulfi Sayed': 312}\n"
     ]
    }
   ],
   "source": [
    "actor_mapping= dict(zip(actor_encoded.classes_,dataset['Actor Encoded']))\n",
    "print(actor_mapping)"
   ]
  },
  {
   "cell_type": "code",
   "execution_count": 64,
   "id": "6e27bdbd",
   "metadata": {},
   "outputs": [
    {
     "name": "stdout",
     "output_type": "stream",
     "text": [
      "               Actor 1  Actor Encoded\n",
      "1         Rasika Dugal           1418\n",
      "3              Prateik           1260\n",
      "5           Bobby Deol            398\n",
      "6      Jimmy Sheirgill            729\n",
      "8            Yash Dave           2019\n",
      "...                ...            ...\n",
      "15493    Vicky Kaushal           1944\n",
      "15494   Karisma Kapoor            803\n",
      "15503      Chiranjeevi            426\n",
      "15505     Akshay Kumar            120\n",
      "15508       Dharmendra            492\n",
      "\n",
      "[5851 rows x 2 columns]\n"
     ]
    }
   ],
   "source": [
    "print(dataset[['Actor 1','Actor Encoded']])"
   ]
  },
  {
   "cell_type": "code",
   "execution_count": null,
   "id": "824d5fc6",
   "metadata": {},
   "outputs": [],
   "source": []
  },
  {
   "cell_type": "markdown",
   "id": "6f2c6d88",
   "metadata": {},
   "source": [
    "### Separating Features and Target Variable"
   ]
  },
  {
   "cell_type": "code",
   "execution_count": 65,
   "id": "c36de38e",
   "metadata": {},
   "outputs": [],
   "source": [
    "# Features: ['Year','Votes','Rating', Director Encoded', 'Actor Encoded']\n",
    "X= dataset.drop(columns=['Name','Duration','Director','Actor 1'], axis=1)\n",
    "Y= dataset['Rating']\n"
   ]
  },
  {
   "cell_type": "code",
   "execution_count": 66,
   "id": "8389db85",
   "metadata": {},
   "outputs": [
    {
     "name": "stdout",
     "output_type": "stream",
     "text": [
      "       Year  Rating  Votes  Director Encoded  Actor Encoded\n",
      "1      2019     7.0      8               660           1418\n",
      "3      2019     4.4     35              1406           1260\n",
      "5      1997     4.7    827              1605            398\n",
      "6      2005     7.4   1086              2143            729\n",
      "8      2012     5.6    326               144           2019\n",
      "...     ...     ...    ...               ...            ...\n",
      "15493  2015     6.1    408              1285           1944\n",
      "15494  2001     6.2   1496              2158            803\n",
      "15503  1989     5.8     44              1882            426\n",
      "15505  1999     4.5    655              1074            120\n",
      "15508  1998     6.2     20               941            492\n",
      "\n",
      "[5851 rows x 5 columns]\n"
     ]
    }
   ],
   "source": [
    "print(X)"
   ]
  },
  {
   "cell_type": "code",
   "execution_count": 67,
   "id": "ee034dc2",
   "metadata": {},
   "outputs": [
    {
     "name": "stdout",
     "output_type": "stream",
     "text": [
      "1        7.0\n",
      "3        4.4\n",
      "5        4.7\n",
      "6        7.4\n",
      "8        5.6\n",
      "        ... \n",
      "15493    6.1\n",
      "15494    6.2\n",
      "15503    5.8\n",
      "15505    4.5\n",
      "15508    6.2\n",
      "Name: Rating, Length: 5851, dtype: float64\n"
     ]
    }
   ],
   "source": [
    "print(Y)"
   ]
  },
  {
   "cell_type": "markdown",
   "id": "395cca59",
   "metadata": {},
   "source": [
    "#### Splitting the dataset into training and testing data"
   ]
  },
  {
   "cell_type": "code",
   "execution_count": 68,
   "id": "02aeba7a",
   "metadata": {},
   "outputs": [],
   "source": [
    "X_train,X_test,Y_train, Y_test= train_test_split(X,Y, test_size= 0.2, random_state=2)"
   ]
  },
  {
   "cell_type": "code",
   "execution_count": 69,
   "id": "9391f8a8",
   "metadata": {},
   "outputs": [
    {
     "name": "stdout",
     "output_type": "stream",
     "text": [
      "(5851, 5) (4680, 5) (1171, 5)\n"
     ]
    }
   ],
   "source": [
    "print(X.shape, X_train.shape, X_test.shape)"
   ]
  },
  {
   "cell_type": "code",
   "execution_count": 70,
   "id": "26b8ce40",
   "metadata": {},
   "outputs": [
    {
     "name": "stdout",
     "output_type": "stream",
     "text": [
      "(5851,) (4680,) (1171,)\n"
     ]
    }
   ],
   "source": [
    "print(Y.shape, Y_train.shape, Y_test.shape)"
   ]
  },
  {
   "cell_type": "markdown",
   "id": "1b4d0ac2",
   "metadata": {},
   "source": [
    " ### Training Model using Logistic Regression"
   ]
  },
  {
   "cell_type": "code",
   "execution_count": 71,
   "id": "e63bd91d",
   "metadata": {},
   "outputs": [],
   "source": [
    "linear_model = LR()"
   ]
  },
  {
   "cell_type": "code",
   "execution_count": 72,
   "id": "e2294de5",
   "metadata": {},
   "outputs": [
    {
     "data": {
      "text/html": [
       "<style>#sk-container-id-3 {color: black;}#sk-container-id-3 pre{padding: 0;}#sk-container-id-3 div.sk-toggleable {background-color: white;}#sk-container-id-3 label.sk-toggleable__label {cursor: pointer;display: block;width: 100%;margin-bottom: 0;padding: 0.3em;box-sizing: border-box;text-align: center;}#sk-container-id-3 label.sk-toggleable__label-arrow:before {content: \"▸\";float: left;margin-right: 0.25em;color: #696969;}#sk-container-id-3 label.sk-toggleable__label-arrow:hover:before {color: black;}#sk-container-id-3 div.sk-estimator:hover label.sk-toggleable__label-arrow:before {color: black;}#sk-container-id-3 div.sk-toggleable__content {max-height: 0;max-width: 0;overflow: hidden;text-align: left;background-color: #f0f8ff;}#sk-container-id-3 div.sk-toggleable__content pre {margin: 0.2em;color: black;border-radius: 0.25em;background-color: #f0f8ff;}#sk-container-id-3 input.sk-toggleable__control:checked~div.sk-toggleable__content {max-height: 200px;max-width: 100%;overflow: auto;}#sk-container-id-3 input.sk-toggleable__control:checked~label.sk-toggleable__label-arrow:before {content: \"▾\";}#sk-container-id-3 div.sk-estimator input.sk-toggleable__control:checked~label.sk-toggleable__label {background-color: #d4ebff;}#sk-container-id-3 div.sk-label input.sk-toggleable__control:checked~label.sk-toggleable__label {background-color: #d4ebff;}#sk-container-id-3 input.sk-hidden--visually {border: 0;clip: rect(1px 1px 1px 1px);clip: rect(1px, 1px, 1px, 1px);height: 1px;margin: -1px;overflow: hidden;padding: 0;position: absolute;width: 1px;}#sk-container-id-3 div.sk-estimator {font-family: monospace;background-color: #f0f8ff;border: 1px dotted black;border-radius: 0.25em;box-sizing: border-box;margin-bottom: 0.5em;}#sk-container-id-3 div.sk-estimator:hover {background-color: #d4ebff;}#sk-container-id-3 div.sk-parallel-item::after {content: \"\";width: 100%;border-bottom: 1px solid gray;flex-grow: 1;}#sk-container-id-3 div.sk-label:hover label.sk-toggleable__label {background-color: #d4ebff;}#sk-container-id-3 div.sk-serial::before {content: \"\";position: absolute;border-left: 1px solid gray;box-sizing: border-box;top: 0;bottom: 0;left: 50%;z-index: 0;}#sk-container-id-3 div.sk-serial {display: flex;flex-direction: column;align-items: center;background-color: white;padding-right: 0.2em;padding-left: 0.2em;position: relative;}#sk-container-id-3 div.sk-item {position: relative;z-index: 1;}#sk-container-id-3 div.sk-parallel {display: flex;align-items: stretch;justify-content: center;background-color: white;position: relative;}#sk-container-id-3 div.sk-item::before, #sk-container-id-3 div.sk-parallel-item::before {content: \"\";position: absolute;border-left: 1px solid gray;box-sizing: border-box;top: 0;bottom: 0;left: 50%;z-index: -1;}#sk-container-id-3 div.sk-parallel-item {display: flex;flex-direction: column;z-index: 1;position: relative;background-color: white;}#sk-container-id-3 div.sk-parallel-item:first-child::after {align-self: flex-end;width: 50%;}#sk-container-id-3 div.sk-parallel-item:last-child::after {align-self: flex-start;width: 50%;}#sk-container-id-3 div.sk-parallel-item:only-child::after {width: 0;}#sk-container-id-3 div.sk-dashed-wrapped {border: 1px dashed gray;margin: 0 0.4em 0.5em 0.4em;box-sizing: border-box;padding-bottom: 0.4em;background-color: white;}#sk-container-id-3 div.sk-label label {font-family: monospace;font-weight: bold;display: inline-block;line-height: 1.2em;}#sk-container-id-3 div.sk-label-container {text-align: center;}#sk-container-id-3 div.sk-container {/* jupyter's `normalize.less` sets `[hidden] { display: none; }` but bootstrap.min.css set `[hidden] { display: none !important; }` so we also need the `!important` here to be able to override the default hidden behavior on the sphinx rendered scikit-learn.org. See: https://github.com/scikit-learn/scikit-learn/issues/21755 */display: inline-block !important;position: relative;}#sk-container-id-3 div.sk-text-repr-fallback {display: none;}</style><div id=\"sk-container-id-3\" class=\"sk-top-container\"><div class=\"sk-text-repr-fallback\"><pre>LinearRegression()</pre><b>In a Jupyter environment, please rerun this cell to show the HTML representation or trust the notebook. <br />On GitHub, the HTML representation is unable to render, please try loading this page with nbviewer.org.</b></div><div class=\"sk-container\" hidden><div class=\"sk-item\"><div class=\"sk-estimator sk-toggleable\"><input class=\"sk-toggleable__control sk-hidden--visually\" id=\"sk-estimator-id-3\" type=\"checkbox\" checked><label for=\"sk-estimator-id-3\" class=\"sk-toggleable__label sk-toggleable__label-arrow\">LinearRegression</label><div class=\"sk-toggleable__content\"><pre>LinearRegression()</pre></div></div></div></div></div>"
      ],
      "text/plain": [
       "LinearRegression()"
      ]
     },
     "execution_count": 72,
     "metadata": {},
     "output_type": "execute_result"
    }
   ],
   "source": [
    "linear_model.fit(X_train,Y_train)"
   ]
  },
  {
   "cell_type": "markdown",
   "id": "c2b33a37",
   "metadata": {},
   "source": [
    "## Model Prediction and Evaluation"
   ]
  },
  {
   "cell_type": "code",
   "execution_count": 73,
   "id": "a221526a",
   "metadata": {},
   "outputs": [
    {
     "name": "stdout",
     "output_type": "stream",
     "text": [
      "[3.8 4.  5.5 ... 7.1 5.2 7.2]\n"
     ]
    }
   ],
   "source": [
    "# Accuracy on training data\n",
    "X_training_prediction = linear_model.predict(X_train)\n",
    "print(X_training_prediction)"
   ]
  },
  {
   "cell_type": "markdown",
   "id": "ac6c51c4",
   "metadata": {},
   "source": [
    "Since Rating is a continous variable and not a discrete variable, we use mean absolute error to calculate the accuracy of the model"
   ]
  },
  {
   "cell_type": "code",
   "execution_count": 74,
   "id": "4c88bccd",
   "metadata": {},
   "outputs": [
    {
     "name": "stdout",
     "output_type": "stream",
     "text": [
      "3.615592156154143e-13\n"
     ]
    }
   ],
   "source": [
    "from sklearn.metrics import mean_absolute_error\n",
    "X_training_error = mean_absolute_error(Y_train, X_training_prediction)\n",
    "print(X_training_error)"
   ]
  },
  {
   "cell_type": "code",
   "execution_count": 75,
   "id": "ea7e3cce",
   "metadata": {},
   "outputs": [
    {
     "name": "stdout",
     "output_type": "stream",
     "text": [
      "1.0\n"
     ]
    }
   ],
   "source": [
    "training_model_score = linear_model.score(X_train, Y_train)\n",
    "print(training_model_score)"
   ]
  },
  {
   "cell_type": "markdown",
   "id": "4293f76d",
   "metadata": {},
   "source": [
    "We can observe that the accuracy of the training model is 100%. "
   ]
  },
  {
   "cell_type": "markdown",
   "id": "dbe6f694",
   "metadata": {},
   "source": [
    "The Mean Absolute Error of training data is extremely low and its accuracy is high. We visualize this using a scatterplot."
   ]
  },
  {
   "cell_type": "code",
   "execution_count": 80,
   "id": "b95b1a38",
   "metadata": {},
   "outputs": [
    {
     "data": {
      "image/png": "[encoded data removed]",
      "text/plain": [
       "<Figure size 640x480 with 1 Axes>"
      ]
     },
     "metadata": {},
     "output_type": "display_data"
    }
   ],
   "source": [
    "plt.scatter(x=Y_train, y=X_training_prediction)\n",
    "\n",
    "# Add labels and title:\n",
    "plt.xlabel('Actual Rating')\n",
    "plt.ylabel('Predicted Rating')\n",
    "plt.title('Scatter Plot of Predicted vs. Actual Ratings')\n",
    "\n",
    "# Display the plot:\n",
    "# plt.grid(True)  \n",
    "plt.show()"
   ]
  },
  {
   "cell_type": "code",
   "execution_count": 81,
   "id": "004552b3",
   "metadata": {},
   "outputs": [
    {
     "name": "stdout",
     "output_type": "stream",
     "text": [
      "[7.9 5.6 6.7 ... 5.4 5.4 6.5]\n"
     ]
    }
   ],
   "source": [
    "testing_predict = linear_model.predict(X_test)\n",
    "print(testing_predict)"
   ]
  },
  {
   "cell_type": "code",
   "execution_count": 82,
   "id": "4004b673",
   "metadata": {},
   "outputs": [
    {
     "name": "stdout",
     "output_type": "stream",
     "text": [
      "3.530932070117548e-13\n"
     ]
    }
   ],
   "source": [
    "X_testing_error = mean_absolute_error(Y_test,testing_predict)\n",
    "print(X_testing_error)"
   ]
  },
  {
   "cell_type": "code",
   "execution_count": 83,
   "id": "cf34877b",
   "metadata": {},
   "outputs": [
    {
     "name": "stdout",
     "output_type": "stream",
     "text": [
      "1.0\n"
     ]
    }
   ],
   "source": [
    "model_score = linear_model.score(X_test, Y_test)\n",
    "print(model_score)"
   ]
  },
  {
   "cell_type": "markdown",
   "id": "7e1b5b12",
   "metadata": {},
   "source": [
    "We can observe that the accuracy of the training model is 100%. "
   ]
  },
  {
   "cell_type": "markdown",
   "id": "13afc779",
   "metadata": {},
   "source": [
    "We can visualize the Actual and predicted ratings of the testing model using the following scatter plot"
   ]
  },
  {
   "cell_type": "code",
   "execution_count": 84,
   "id": "d41ec76c",
   "metadata": {},
   "outputs": [
    {
     "data": {
      "image/png": "[encoded data removed]",
      "text/plain": [
       "<Figure size 640x480 with 1 Axes>"
      ]
     },
     "metadata": {},
     "output_type": "display_data"
    }
   ],
   "source": [
    "plt.scatter(x=Y_test, y=testing_predict)\n",
    "\n",
    "# Add labels and title:\n",
    "plt.xlabel('Actual Rating')\n",
    "plt.ylabel('Predicted Rating')\n",
    "plt.title('Scatter Plot of Predicted vs. Actual Ratings')\n",
    "\n",
    "# Display the plot:\n",
    "plt.show()"
   ]
  },
  {
   "cell_type": "markdown",
   "id": "09769477",
   "metadata": {},
   "source": [
    "The diagonal line on the scatter plot shows that Actual Rating and Predicted Ratings are very similar, therefore our model is accurate."
   ]
  },
  {
   "cell_type": "markdown",
   "id": "eb7652bb",
   "metadata": {},
   "source": []
  }
 ],
 "metadata": {
  "kernelspec": {
   "display_name": "Python 3 (ipykernel)",
   "language": "python",
   "name": "python3"
  },
  "language_info": {
   "codemirror_mode": {
    "name": "ipython",
    "version": 3
   },
   "file_extension": ".py",
   "mimetype": "text/x-python",
   "name": "python",
   "nbconvert_exporter": "python",
   "pygments_lexer": "ipython3",
   "version": "3.11.5"
  },
  "toc": {
   "base_numbering": 1,
   "nav_menu": {},
   "number_sections": true,
   "sideBar": true,
   "skip_h1_title": false,
   "title_cell": "Table of Contents",
   "title_sidebar": "Contents",
   "toc_cell": false,
   "toc_position": {
    "height": "calc(100% - 180px)",
    "left": "10px",
    "top": "150px",
    "width": "297.6px"
   },
   "toc_section_display": true,
   "toc_window_display": true
  }
 },
 "nbformat": 4,
 "nbformat_minor": 5
}
