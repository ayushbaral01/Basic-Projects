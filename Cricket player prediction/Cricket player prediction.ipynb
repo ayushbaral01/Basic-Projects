{
 "cells": [
  {
   "cell_type": "markdown",
   "id": "d1010342-07fe-44f8-b44e-aad1cb64dffa",
   "metadata": {},
   "source": [
    "## Importing Libraries"
   ]
  },
  {
   "cell_type": "code",
   "execution_count": 122,
   "id": "e2a46f6b-7a05-4a75-bb79-2035e7b90ed6",
   "metadata": {
    "tags": []
   },
   "outputs": [],
   "source": [
    "import numpy as np\n",
    "import pandas as pd\n",
    "import sklearn\n",
    "import os\n",
    "import seaborn as sns\n",
    "from sklearn.model_selection import train_test_split\n",
    "from sklearn.preprocessing import StandardScaler, MinMaxScaler, LabelEncoder\n",
    "from sklearn.metrics import accuracy_score\n",
    "from sklearn import metrics\n",
    "from sklearn.metrics import recall_score, mean_squared_error, mean_absolute_error\n",
    "from sklearn.linear_model import LinearRegression\n",
    "from sklearn.tree import DecisionTreeClassifier\n",
    "from sklearn.ensemble import RandomForestClassifier\n",
    "from sklearn.metrics import accuracy_score, classification_report, confusion_matrix\n",
    "from sklearn.metrics import r2_score\n",
    "import warnings\n",
    "warnings.filterwarnings(\"ignore\")"
   ]
  },
  {
   "cell_type": "code",
   "execution_count": 56,
   "id": "8cb09713-fc48-488e-8e14-0048aa097064",
   "metadata": {
    "tags": []
   },
   "outputs": [],
   "source": [
    "batsman= pd.read_csv(\"E:\\cricket player prediction\\Batsman_Data.csv\")\n",
    "bowler = pd.read_csv(\"E:\\cricket player prediction\\Bowler_data.csv\")\n",
    "ground = pd.read_csv(\"E:\\cricket player prediction\\Ground_Averages.csv\")\n",
    "odi_result =pd.read_csv(\"E:\\cricket player prediction\\ODI_Match_Results.csv\")\n",
    "odi_totals = pd.read_csv(\"E:\\cricket player prediction\\ODI_Match_Totals.csv\")\n",
    "wc = pd.read_csv(\"E:\\cricket player prediction\\WC_players.csv\")\n"
   ]
  },
  {
   "cell_type": "code",
   "execution_count": 41,
   "id": "3dbfc79f-b731-4406-8747-f64adcd92242",
   "metadata": {
    "tags": []
   },
   "outputs": [
    {
     "data": {
      "text/html": [
       "<div>\n",
       "<style scoped>\n",
       "    .dataframe tbody tr th:only-of-type {\n",
       "        vertical-align: middle;\n",
       "    }\n",
       "\n",
       "    .dataframe tbody tr th {\n",
       "        vertical-align: top;\n",
       "    }\n",
       "\n",
       "    .dataframe thead th {\n",
       "        text-align: right;\n",
       "    }\n",
       "</style>\n",
       "<table border=\"1\" class=\"dataframe\">\n",
       "  <thead>\n",
       "    <tr style=\"text-align: right;\">\n",
       "      <th></th>\n",
       "      <th>Unnamed: 0</th>\n",
       "      <th>Bat1</th>\n",
       "      <th>Runs</th>\n",
       "      <th>BF</th>\n",
       "      <th>SR</th>\n",
       "      <th>4s</th>\n",
       "      <th>6s</th>\n",
       "      <th>Opposition</th>\n",
       "      <th>Ground</th>\n",
       "      <th>Start Date</th>\n",
       "      <th>Match_ID</th>\n",
       "      <th>Batsman</th>\n",
       "      <th>Player_ID</th>\n",
       "    </tr>\n",
       "  </thead>\n",
       "  <tbody>\n",
       "    <tr>\n",
       "      <th>0</th>\n",
       "      <td>1</td>\n",
       "      <td>DNB</td>\n",
       "      <td>-</td>\n",
       "      <td>-</td>\n",
       "      <td>-</td>\n",
       "      <td>-</td>\n",
       "      <td>-</td>\n",
       "      <td>v India</td>\n",
       "      <td>Nagpur</td>\n",
       "      <td>18 Dec 2009</td>\n",
       "      <td>ODI # 2933</td>\n",
       "      <td>Oshane Thomas</td>\n",
       "      <td>49619</td>\n",
       "    </tr>\n",
       "    <tr>\n",
       "      <th>1</th>\n",
       "      <td>2</td>\n",
       "      <td>DNB</td>\n",
       "      <td>-</td>\n",
       "      <td>-</td>\n",
       "      <td>-</td>\n",
       "      <td>-</td>\n",
       "      <td>-</td>\n",
       "      <td>v India</td>\n",
       "      <td>Kolkata</td>\n",
       "      <td>24 Dec 2009</td>\n",
       "      <td>ODI # 2935</td>\n",
       "      <td>Oshane Thomas</td>\n",
       "      <td>49619</td>\n",
       "    </tr>\n",
       "    <tr>\n",
       "      <th>2</th>\n",
       "      <td>3</td>\n",
       "      <td>DNB</td>\n",
       "      <td>-</td>\n",
       "      <td>-</td>\n",
       "      <td>-</td>\n",
       "      <td>-</td>\n",
       "      <td>-</td>\n",
       "      <td>v India</td>\n",
       "      <td>Delhi</td>\n",
       "      <td>27 Dec 2009</td>\n",
       "      <td>ODI # 2936</td>\n",
       "      <td>Oshane Thomas</td>\n",
       "      <td>49619</td>\n",
       "    </tr>\n",
       "    <tr>\n",
       "      <th>3</th>\n",
       "      <td>4</td>\n",
       "      <td>DNB</td>\n",
       "      <td>-</td>\n",
       "      <td>-</td>\n",
       "      <td>-</td>\n",
       "      <td>-</td>\n",
       "      <td>-</td>\n",
       "      <td>v Bangladesh</td>\n",
       "      <td>Dhaka</td>\n",
       "      <td>4 Jan 2010</td>\n",
       "      <td>ODI # 2937</td>\n",
       "      <td>Oshane Thomas</td>\n",
       "      <td>49619</td>\n",
       "    </tr>\n",
       "  </tbody>\n",
       "</table>\n",
       "</div>"
      ],
      "text/plain": [
       "   Unnamed: 0 Bat1 Runs BF SR 4s 6s    Opposition   Ground   Start Date  \\\n",
       "0           1  DNB    -  -  -  -  -       v India   Nagpur  18 Dec 2009   \n",
       "1           2  DNB    -  -  -  -  -       v India  Kolkata  24 Dec 2009   \n",
       "2           3  DNB    -  -  -  -  -       v India    Delhi  27 Dec 2009   \n",
       "3           4  DNB    -  -  -  -  -  v Bangladesh    Dhaka   4 Jan 2010   \n",
       "\n",
       "     Match_ID        Batsman  Player_ID  \n",
       "0  ODI # 2933  Oshane Thomas      49619  \n",
       "1  ODI # 2935  Oshane Thomas      49619  \n",
       "2  ODI # 2936  Oshane Thomas      49619  \n",
       "3  ODI # 2937  Oshane Thomas      49619  "
      ]
     },
     "execution_count": 41,
     "metadata": {},
     "output_type": "execute_result"
    }
   ],
   "source": [
    "batsman.head(4)"
   ]
  },
  {
   "cell_type": "code",
   "execution_count": 42,
   "id": "276cbf6e-c964-49c6-a65b-28697858d11a",
   "metadata": {
    "tags": []
   },
   "outputs": [
    {
     "data": {
      "text/html": [
       "<div>\n",
       "<style scoped>\n",
       "    .dataframe tbody tr th:only-of-type {\n",
       "        vertical-align: middle;\n",
       "    }\n",
       "\n",
       "    .dataframe tbody tr th {\n",
       "        vertical-align: top;\n",
       "    }\n",
       "\n",
       "    .dataframe thead th {\n",
       "        text-align: right;\n",
       "    }\n",
       "</style>\n",
       "<table border=\"1\" class=\"dataframe\">\n",
       "  <thead>\n",
       "    <tr style=\"text-align: right;\">\n",
       "      <th></th>\n",
       "      <th>Unnamed: 0</th>\n",
       "      <th>Overs</th>\n",
       "      <th>Mdns</th>\n",
       "      <th>Runs</th>\n",
       "      <th>Wkts</th>\n",
       "      <th>Econ</th>\n",
       "      <th>Ave</th>\n",
       "      <th>SR</th>\n",
       "      <th>Opposition</th>\n",
       "      <th>Ground</th>\n",
       "      <th>Start Date</th>\n",
       "      <th>Match_ID</th>\n",
       "      <th>Bowler</th>\n",
       "      <th>Player_ID</th>\n",
       "    </tr>\n",
       "  </thead>\n",
       "  <tbody>\n",
       "    <tr>\n",
       "      <th>0</th>\n",
       "      <td>1</td>\n",
       "      <td>8.0</td>\n",
       "      <td>0</td>\n",
       "      <td>57</td>\n",
       "      <td>0</td>\n",
       "      <td>7.12</td>\n",
       "      <td>-</td>\n",
       "      <td>-</td>\n",
       "      <td>v India</td>\n",
       "      <td>Nagpur</td>\n",
       "      <td>18 Dec 2009</td>\n",
       "      <td>ODI # 2933</td>\n",
       "      <td>Suranga Lakmal</td>\n",
       "      <td>49619</td>\n",
       "    </tr>\n",
       "    <tr>\n",
       "      <th>1</th>\n",
       "      <td>2</td>\n",
       "      <td>10.0</td>\n",
       "      <td>0</td>\n",
       "      <td>55</td>\n",
       "      <td>2</td>\n",
       "      <td>5.50</td>\n",
       "      <td>27.50</td>\n",
       "      <td>30.0</td>\n",
       "      <td>v India</td>\n",
       "      <td>Kolkata</td>\n",
       "      <td>24 Dec 2009</td>\n",
       "      <td>ODI # 2935</td>\n",
       "      <td>Suranga Lakmal</td>\n",
       "      <td>49619</td>\n",
       "    </tr>\n",
       "    <tr>\n",
       "      <th>2</th>\n",
       "      <td>3</td>\n",
       "      <td>-</td>\n",
       "      <td>-</td>\n",
       "      <td>-</td>\n",
       "      <td>-</td>\n",
       "      <td>-</td>\n",
       "      <td>-</td>\n",
       "      <td>-</td>\n",
       "      <td>v India</td>\n",
       "      <td>Delhi</td>\n",
       "      <td>27 Dec 2009</td>\n",
       "      <td>ODI # 2936</td>\n",
       "      <td>Suranga Lakmal</td>\n",
       "      <td>49619</td>\n",
       "    </tr>\n",
       "    <tr>\n",
       "      <th>3</th>\n",
       "      <td>4</td>\n",
       "      <td>9.0</td>\n",
       "      <td>1</td>\n",
       "      <td>63</td>\n",
       "      <td>2</td>\n",
       "      <td>7.00</td>\n",
       "      <td>31.50</td>\n",
       "      <td>27.0</td>\n",
       "      <td>v Bangladesh</td>\n",
       "      <td>Dhaka</td>\n",
       "      <td>4 Jan 2010</td>\n",
       "      <td>ODI # 2937</td>\n",
       "      <td>Suranga Lakmal</td>\n",
       "      <td>49619</td>\n",
       "    </tr>\n",
       "  </tbody>\n",
       "</table>\n",
       "</div>"
      ],
      "text/plain": [
       "   Unnamed: 0 Overs Mdns Runs Wkts  Econ    Ave    SR    Opposition   Ground  \\\n",
       "0           1   8.0    0   57    0  7.12      -     -       v India   Nagpur   \n",
       "1           2  10.0    0   55    2  5.50  27.50  30.0       v India  Kolkata   \n",
       "2           3     -    -    -    -     -      -     -       v India    Delhi   \n",
       "3           4   9.0    1   63    2  7.00  31.50  27.0  v Bangladesh    Dhaka   \n",
       "\n",
       "    Start Date    Match_ID          Bowler  Player_ID  \n",
       "0  18 Dec 2009  ODI # 2933  Suranga Lakmal      49619  \n",
       "1  24 Dec 2009  ODI # 2935  Suranga Lakmal      49619  \n",
       "2  27 Dec 2009  ODI # 2936  Suranga Lakmal      49619  \n",
       "3   4 Jan 2010  ODI # 2937  Suranga Lakmal      49619  "
      ]
     },
     "execution_count": 42,
     "metadata": {},
     "output_type": "execute_result"
    }
   ],
   "source": [
    "bowler.head(4)"
   ]
  },
  {
   "cell_type": "code",
   "execution_count": 43,
   "id": "f6b91eb1-f54f-42f5-a20b-c2bea89e10b4",
   "metadata": {
    "tags": []
   },
   "outputs": [
    {
     "data": {
      "text/html": [
       "<div>\n",
       "<style scoped>\n",
       "    .dataframe tbody tr th:only-of-type {\n",
       "        vertical-align: middle;\n",
       "    }\n",
       "\n",
       "    .dataframe tbody tr th {\n",
       "        vertical-align: top;\n",
       "    }\n",
       "\n",
       "    .dataframe thead th {\n",
       "        text-align: right;\n",
       "    }\n",
       "</style>\n",
       "<table border=\"1\" class=\"dataframe\">\n",
       "  <thead>\n",
       "    <tr style=\"text-align: right;\">\n",
       "      <th></th>\n",
       "      <th>Ground</th>\n",
       "      <th>Span</th>\n",
       "      <th>Mat</th>\n",
       "      <th>Won</th>\n",
       "      <th>Tied</th>\n",
       "      <th>NR</th>\n",
       "      <th>Runs</th>\n",
       "      <th>Wkts</th>\n",
       "      <th>Balls</th>\n",
       "      <th>Ave</th>\n",
       "      <th>RPO</th>\n",
       "    </tr>\n",
       "  </thead>\n",
       "  <tbody>\n",
       "    <tr>\n",
       "      <th>0</th>\n",
       "      <td>Eden Gardens, Kolkata - India</td>\n",
       "      <td>2013-2017</td>\n",
       "      <td>4</td>\n",
       "      <td>4</td>\n",
       "      <td>0</td>\n",
       "      <td>0</td>\n",
       "      <td>2161</td>\n",
       "      <td>72</td>\n",
       "      <td>2297</td>\n",
       "      <td>30.01</td>\n",
       "      <td>5.64</td>\n",
       "    </tr>\n",
       "    <tr>\n",
       "      <th>1</th>\n",
       "      <td>Feroz Shah Kotla, Delhi - India</td>\n",
       "      <td>2013-2019</td>\n",
       "      <td>4</td>\n",
       "      <td>4</td>\n",
       "      <td>0</td>\n",
       "      <td>0</td>\n",
       "      <td>1789</td>\n",
       "      <td>75</td>\n",
       "      <td>2331</td>\n",
       "      <td>23.85</td>\n",
       "      <td>4.60</td>\n",
       "    </tr>\n",
       "    <tr>\n",
       "      <th>2</th>\n",
       "      <td>Melbourne Cricket Ground - Australia</td>\n",
       "      <td>2013-2019</td>\n",
       "      <td>15</td>\n",
       "      <td>15</td>\n",
       "      <td>0</td>\n",
       "      <td>0</td>\n",
       "      <td>7656</td>\n",
       "      <td>217</td>\n",
       "      <td>8482</td>\n",
       "      <td>35.28</td>\n",
       "      <td>5.41</td>\n",
       "    </tr>\n",
       "    <tr>\n",
       "      <th>3</th>\n",
       "      <td>Saurashtra Cricket Association Stadium, Rajkot...</td>\n",
       "      <td>2013-2015</td>\n",
       "      <td>2</td>\n",
       "      <td>2</td>\n",
       "      <td>0</td>\n",
       "      <td>0</td>\n",
       "      <td>1163</td>\n",
       "      <td>26</td>\n",
       "      <td>1200</td>\n",
       "      <td>44.73</td>\n",
       "      <td>5.81</td>\n",
       "    </tr>\n",
       "  </tbody>\n",
       "</table>\n",
       "</div>"
      ],
      "text/plain": [
       "                                              Ground       Span  Mat  Won  \\\n",
       "0                      Eden Gardens, Kolkata - India  2013-2017    4    4   \n",
       "1                    Feroz Shah Kotla, Delhi - India  2013-2019    4    4   \n",
       "2               Melbourne Cricket Ground - Australia  2013-2019   15   15   \n",
       "3  Saurashtra Cricket Association Stadium, Rajkot...  2013-2015    2    2   \n",
       "\n",
       "   Tied  NR  Runs  Wkts  Balls    Ave   RPO  \n",
       "0     0   0  2161    72   2297  30.01  5.64  \n",
       "1     0   0  1789    75   2331  23.85  4.60  \n",
       "2     0   0  7656   217   8482  35.28  5.41  \n",
       "3     0   0  1163    26   1200  44.73  5.81  "
      ]
     },
     "execution_count": 43,
     "metadata": {},
     "output_type": "execute_result"
    }
   ],
   "source": [
    "ground.head(4)"
   ]
  },
  {
   "cell_type": "code",
   "execution_count": 44,
   "id": "375d7648-3868-45c9-ae25-16c6c4899525",
   "metadata": {
    "tags": []
   },
   "outputs": [
    {
     "data": {
      "text/html": [
       "<div>\n",
       "<style scoped>\n",
       "    .dataframe tbody tr th:only-of-type {\n",
       "        vertical-align: middle;\n",
       "    }\n",
       "\n",
       "    .dataframe tbody tr th {\n",
       "        vertical-align: top;\n",
       "    }\n",
       "\n",
       "    .dataframe thead th {\n",
       "        text-align: right;\n",
       "    }\n",
       "</style>\n",
       "<table border=\"1\" class=\"dataframe\">\n",
       "  <thead>\n",
       "    <tr style=\"text-align: right;\">\n",
       "      <th></th>\n",
       "      <th>Unnamed: 0</th>\n",
       "      <th>Result</th>\n",
       "      <th>Margin</th>\n",
       "      <th>BR</th>\n",
       "      <th>Toss</th>\n",
       "      <th>Bat</th>\n",
       "      <th>Opposition</th>\n",
       "      <th>Ground</th>\n",
       "      <th>Start Date</th>\n",
       "      <th>Match_ID</th>\n",
       "      <th>Country</th>\n",
       "      <th>Country_ID</th>\n",
       "    </tr>\n",
       "  </thead>\n",
       "  <tbody>\n",
       "    <tr>\n",
       "      <th>0</th>\n",
       "      <td>418</td>\n",
       "      <td>won</td>\n",
       "      <td>85 runs</td>\n",
       "      <td>NaN</td>\n",
       "      <td>lost</td>\n",
       "      <td>1st</td>\n",
       "      <td>v India</td>\n",
       "      <td>Kolkata</td>\n",
       "      <td>3 Jan 2013</td>\n",
       "      <td>ODI # 3315</td>\n",
       "      <td>Pakistan</td>\n",
       "      <td>7</td>\n",
       "    </tr>\n",
       "    <tr>\n",
       "      <th>1</th>\n",
       "      <td>692</td>\n",
       "      <td>lost</td>\n",
       "      <td>85 runs</td>\n",
       "      <td>NaN</td>\n",
       "      <td>won</td>\n",
       "      <td>2nd</td>\n",
       "      <td>v Pakistan</td>\n",
       "      <td>Kolkata</td>\n",
       "      <td>3 Jan 2013</td>\n",
       "      <td>ODI # 3315</td>\n",
       "      <td>India</td>\n",
       "      <td>6</td>\n",
       "    </tr>\n",
       "    <tr>\n",
       "      <th>2</th>\n",
       "      <td>419</td>\n",
       "      <td>lost</td>\n",
       "      <td>10 runs</td>\n",
       "      <td>NaN</td>\n",
       "      <td>lost</td>\n",
       "      <td>2nd</td>\n",
       "      <td>v India</td>\n",
       "      <td>Delhi</td>\n",
       "      <td>6 Jan 2013</td>\n",
       "      <td>ODI # 3316</td>\n",
       "      <td>Pakistan</td>\n",
       "      <td>7</td>\n",
       "    </tr>\n",
       "    <tr>\n",
       "      <th>3</th>\n",
       "      <td>693</td>\n",
       "      <td>won</td>\n",
       "      <td>10 runs</td>\n",
       "      <td>NaN</td>\n",
       "      <td>won</td>\n",
       "      <td>1st</td>\n",
       "      <td>v Pakistan</td>\n",
       "      <td>Delhi</td>\n",
       "      <td>6 Jan 2013</td>\n",
       "      <td>ODI # 3316</td>\n",
       "      <td>India</td>\n",
       "      <td>6</td>\n",
       "    </tr>\n",
       "  </tbody>\n",
       "</table>\n",
       "</div>"
      ],
      "text/plain": [
       "   Unnamed: 0 Result   Margin  BR  Toss  Bat  Opposition   Ground  Start Date  \\\n",
       "0         418    won  85 runs NaN  lost  1st     v India  Kolkata  3 Jan 2013   \n",
       "1         692   lost  85 runs NaN   won  2nd  v Pakistan  Kolkata  3 Jan 2013   \n",
       "2         419   lost  10 runs NaN  lost  2nd     v India    Delhi  6 Jan 2013   \n",
       "3         693    won  10 runs NaN   won  1st  v Pakistan    Delhi  6 Jan 2013   \n",
       "\n",
       "     Match_ID   Country  Country_ID  \n",
       "0  ODI # 3315  Pakistan           7  \n",
       "1  ODI # 3315     India           6  \n",
       "2  ODI # 3316  Pakistan           7  \n",
       "3  ODI # 3316     India           6  "
      ]
     },
     "execution_count": 44,
     "metadata": {},
     "output_type": "execute_result"
    }
   ],
   "source": [
    "odi_result.head(4)"
   ]
  },
  {
   "cell_type": "code",
   "execution_count": 45,
   "id": "9752154b-e966-47a9-9616-cab6fae4a212",
   "metadata": {
    "tags": []
   },
   "outputs": [
    {
     "data": {
      "text/html": [
       "<div>\n",
       "<style scoped>\n",
       "    .dataframe tbody tr th:only-of-type {\n",
       "        vertical-align: middle;\n",
       "    }\n",
       "\n",
       "    .dataframe tbody tr th {\n",
       "        vertical-align: top;\n",
       "    }\n",
       "\n",
       "    .dataframe thead th {\n",
       "        text-align: right;\n",
       "    }\n",
       "</style>\n",
       "<table border=\"1\" class=\"dataframe\">\n",
       "  <thead>\n",
       "    <tr style=\"text-align: right;\">\n",
       "      <th></th>\n",
       "      <th>Unnamed: 0</th>\n",
       "      <th>Score</th>\n",
       "      <th>Overs</th>\n",
       "      <th>RPO</th>\n",
       "      <th>Target</th>\n",
       "      <th>Inns</th>\n",
       "      <th>Result</th>\n",
       "      <th>Opposition</th>\n",
       "      <th>Ground</th>\n",
       "      <th>Start Date</th>\n",
       "      <th>Match_ID</th>\n",
       "      <th>Country</th>\n",
       "      <th>Country_ID</th>\n",
       "    </tr>\n",
       "  </thead>\n",
       "  <tbody>\n",
       "    <tr>\n",
       "      <th>0</th>\n",
       "      <td>412</td>\n",
       "      <td>250</td>\n",
       "      <td>48.3</td>\n",
       "      <td>5.15</td>\n",
       "      <td>NaN</td>\n",
       "      <td>1</td>\n",
       "      <td>won</td>\n",
       "      <td>v India</td>\n",
       "      <td>Kolkata</td>\n",
       "      <td>3 Jan 2013</td>\n",
       "      <td>ODI # 3315</td>\n",
       "      <td>Pakistan</td>\n",
       "      <td>7</td>\n",
       "    </tr>\n",
       "    <tr>\n",
       "      <th>1</th>\n",
       "      <td>680</td>\n",
       "      <td>165</td>\n",
       "      <td>48.0</td>\n",
       "      <td>3.43</td>\n",
       "      <td>251.0</td>\n",
       "      <td>2</td>\n",
       "      <td>lost</td>\n",
       "      <td>v Pakistan</td>\n",
       "      <td>Kolkata</td>\n",
       "      <td>3 Jan 2013</td>\n",
       "      <td>ODI # 3315</td>\n",
       "      <td>India</td>\n",
       "      <td>6</td>\n",
       "    </tr>\n",
       "    <tr>\n",
       "      <th>2</th>\n",
       "      <td>413</td>\n",
       "      <td>157</td>\n",
       "      <td>48.5</td>\n",
       "      <td>3.21</td>\n",
       "      <td>168.0</td>\n",
       "      <td>2</td>\n",
       "      <td>lost</td>\n",
       "      <td>v India</td>\n",
       "      <td>Delhi</td>\n",
       "      <td>6 Jan 2013</td>\n",
       "      <td>ODI # 3316</td>\n",
       "      <td>Pakistan</td>\n",
       "      <td>7</td>\n",
       "    </tr>\n",
       "    <tr>\n",
       "      <th>3</th>\n",
       "      <td>681</td>\n",
       "      <td>167</td>\n",
       "      <td>43.4</td>\n",
       "      <td>3.82</td>\n",
       "      <td>NaN</td>\n",
       "      <td>1</td>\n",
       "      <td>won</td>\n",
       "      <td>v Pakistan</td>\n",
       "      <td>Delhi</td>\n",
       "      <td>6 Jan 2013</td>\n",
       "      <td>ODI # 3316</td>\n",
       "      <td>India</td>\n",
       "      <td>6</td>\n",
       "    </tr>\n",
       "  </tbody>\n",
       "</table>\n",
       "</div>"
      ],
      "text/plain": [
       "   Unnamed: 0 Score  Overs   RPO  Target  Inns Result  Opposition   Ground  \\\n",
       "0         412   250   48.3  5.15     NaN     1    won     v India  Kolkata   \n",
       "1         680   165   48.0  3.43   251.0     2   lost  v Pakistan  Kolkata   \n",
       "2         413   157   48.5  3.21   168.0     2   lost     v India    Delhi   \n",
       "3         681   167   43.4  3.82     NaN     1    won  v Pakistan    Delhi   \n",
       "\n",
       "   Start Date    Match_ID   Country  Country_ID  \n",
       "0  3 Jan 2013  ODI # 3315  Pakistan           7  \n",
       "1  3 Jan 2013  ODI # 3315     India           6  \n",
       "2  6 Jan 2013  ODI # 3316  Pakistan           7  \n",
       "3  6 Jan 2013  ODI # 3316     India           6  "
      ]
     },
     "execution_count": 45,
     "metadata": {},
     "output_type": "execute_result"
    }
   ],
   "source": [
    "odi_totals.head(4)"
   ]
  },
  {
   "cell_type": "code",
   "execution_count": 46,
   "id": "44cac375-6c93-4a97-8c7a-6a4ee6b020e7",
   "metadata": {
    "tags": []
   },
   "outputs": [
    {
     "data": {
      "text/html": [
       "<div>\n",
       "<style scoped>\n",
       "    .dataframe tbody tr th:only-of-type {\n",
       "        vertical-align: middle;\n",
       "    }\n",
       "\n",
       "    .dataframe tbody tr th {\n",
       "        vertical-align: top;\n",
       "    }\n",
       "\n",
       "    .dataframe thead th {\n",
       "        text-align: right;\n",
       "    }\n",
       "</style>\n",
       "<table border=\"1\" class=\"dataframe\">\n",
       "  <thead>\n",
       "    <tr style=\"text-align: right;\">\n",
       "      <th></th>\n",
       "      <th>Player</th>\n",
       "      <th>ID</th>\n",
       "      <th>Country</th>\n",
       "    </tr>\n",
       "  </thead>\n",
       "  <tbody>\n",
       "    <tr>\n",
       "      <th>0</th>\n",
       "      <td>Gulbadin Naib (c)</td>\n",
       "      <td>352048</td>\n",
       "      <td>Afghanistan</td>\n",
       "    </tr>\n",
       "    <tr>\n",
       "      <th>1</th>\n",
       "      <td>Rashid Khan (vc)</td>\n",
       "      <td>793463</td>\n",
       "      <td>Afghanistan</td>\n",
       "    </tr>\n",
       "    <tr>\n",
       "      <th>2</th>\n",
       "      <td>Aftab Alam</td>\n",
       "      <td>440963</td>\n",
       "      <td>Afghanistan</td>\n",
       "    </tr>\n",
       "    <tr>\n",
       "      <th>3</th>\n",
       "      <td>Asghar Afghan</td>\n",
       "      <td>320652</td>\n",
       "      <td>Afghanistan</td>\n",
       "    </tr>\n",
       "  </tbody>\n",
       "</table>\n",
       "</div>"
      ],
      "text/plain": [
       "              Player      ID      Country\n",
       "0  Gulbadin Naib (c)  352048  Afghanistan\n",
       "1   Rashid Khan (vc)  793463  Afghanistan\n",
       "2         Aftab Alam  440963  Afghanistan\n",
       "3      Asghar Afghan  320652  Afghanistan"
      ]
     },
     "execution_count": 46,
     "metadata": {},
     "output_type": "execute_result"
    }
   ],
   "source": [
    "wc.head(4)"
   ]
  },
  {
   "cell_type": "code",
   "execution_count": 47,
   "id": "8fe24334-79c4-4247-b4e9-4aee09794ae2",
   "metadata": {
    "tags": []
   },
   "outputs": [
    {
     "name": "stdout",
     "output_type": "stream",
     "text": [
      "File Name: Batsman_Data.csv\n",
      "\n",
      "Info:\n",
      "<class 'pandas.core.frame.DataFrame'>\n",
      "RangeIndex: 11149 entries, 0 to 11148\n",
      "Data columns (total 13 columns):\n",
      " #   Column      Non-Null Count  Dtype \n",
      "---  ------      --------------  ----- \n",
      " 0   Unnamed: 0  11149 non-null  int64 \n",
      " 1   Bat1        11149 non-null  object\n",
      " 2   Runs        11149 non-null  object\n",
      " 3   BF          11149 non-null  object\n",
      " 4   SR          11149 non-null  object\n",
      " 5   4s          11149 non-null  object\n",
      " 6   6s          11149 non-null  object\n",
      " 7   Opposition  11149 non-null  object\n",
      " 8   Ground      11149 non-null  object\n",
      " 9   Start Date  11149 non-null  object\n",
      " 10  Match_ID    11149 non-null  object\n",
      " 11  Batsman     11149 non-null  object\n",
      " 12  Player_ID   11149 non-null  int64 \n",
      "dtypes: int64(2), object(11)\n",
      "memory usage: 1.1+ MB\n",
      "None\n",
      "\n",
      "Shape:\n",
      "(11149, 13)\n",
      "Unnamed: 0    0\n",
      "Bat1          0\n",
      "Runs          0\n",
      "BF            0\n",
      "SR            0\n",
      "4s            0\n",
      "6s            0\n",
      "Opposition    0\n",
      "Ground        0\n",
      "Start Date    0\n",
      "Match_ID      0\n",
      "Batsman       0\n",
      "Player_ID     0\n",
      "dtype: int64\n",
      "\n",
      "Null values\n",
      "0\n",
      "======================================================================\n",
      "File Name: Bowler_data.csv\n",
      "\n",
      "Info:\n",
      "<class 'pandas.core.frame.DataFrame'>\n",
      "RangeIndex: 11118 entries, 0 to 11117\n",
      "Data columns (total 14 columns):\n",
      " #   Column      Non-Null Count  Dtype \n",
      "---  ------      --------------  ----- \n",
      " 0   Unnamed: 0  11118 non-null  int64 \n",
      " 1   Overs       11118 non-null  object\n",
      " 2   Mdns        11118 non-null  object\n",
      " 3   Runs        11118 non-null  object\n",
      " 4   Wkts        11118 non-null  object\n",
      " 5   Econ        11118 non-null  object\n",
      " 6   Ave         11118 non-null  object\n",
      " 7   SR          11118 non-null  object\n",
      " 8   Opposition  11118 non-null  object\n",
      " 9   Ground      11118 non-null  object\n",
      " 10  Start Date  11118 non-null  object\n",
      " 11  Match_ID    11118 non-null  object\n",
      " 12  Bowler      11118 non-null  object\n",
      " 13  Player_ID   11118 non-null  int64 \n",
      "dtypes: int64(2), object(12)\n",
      "memory usage: 1.2+ MB\n",
      "None\n",
      "\n",
      "Shape:\n",
      "(11118, 14)\n",
      "Unnamed: 0    0\n",
      "Overs         0\n",
      "Mdns          0\n",
      "Runs          0\n",
      "Wkts          0\n",
      "Econ          0\n",
      "Ave           0\n",
      "SR            0\n",
      "Opposition    0\n",
      "Ground        0\n",
      "Start Date    0\n",
      "Match_ID      0\n",
      "Bowler        0\n",
      "Player_ID     0\n",
      "dtype: int64\n",
      "\n",
      "Null values\n",
      "0\n",
      "======================================================================\n",
      "File Name: Ground_Averages.csv\n",
      "\n",
      "Info:\n",
      "<class 'pandas.core.frame.DataFrame'>\n",
      "RangeIndex: 106 entries, 0 to 105\n",
      "Data columns (total 11 columns):\n",
      " #   Column  Non-Null Count  Dtype  \n",
      "---  ------  --------------  -----  \n",
      " 0   Ground  106 non-null    object \n",
      " 1   Span    106 non-null    object \n",
      " 2   Mat     106 non-null    int64  \n",
      " 3   Won     106 non-null    int64  \n",
      " 4   Tied    106 non-null    int64  \n",
      " 5   NR      106 non-null    int64  \n",
      " 6   Runs    106 non-null    int64  \n",
      " 7   Wkts    106 non-null    int64  \n",
      " 8   Balls   106 non-null    int64  \n",
      " 9   Ave     106 non-null    float64\n",
      " 10  RPO     106 non-null    float64\n",
      "dtypes: float64(2), int64(7), object(2)\n",
      "memory usage: 9.2+ KB\n",
      "None\n",
      "\n",
      "Shape:\n",
      "(106, 11)\n",
      "Ground    0\n",
      "Span      0\n",
      "Mat       0\n",
      "Won       0\n",
      "Tied      0\n",
      "NR        0\n",
      "Runs      0\n",
      "Wkts      0\n",
      "Balls     0\n",
      "Ave       0\n",
      "RPO       0\n",
      "dtype: int64\n",
      "\n",
      "Null values\n",
      "0\n",
      "======================================================================\n",
      "File Name: ODI_Match_Results.csv\n",
      "\n",
      "Info:\n",
      "<class 'pandas.core.frame.DataFrame'>\n",
      "RangeIndex: 1322 entries, 0 to 1321\n",
      "Data columns (total 12 columns):\n",
      " #   Column      Non-Null Count  Dtype  \n",
      "---  ------      --------------  -----  \n",
      " 0   Unnamed: 0  1322 non-null   int64  \n",
      " 1   Result      1322 non-null   object \n",
      " 2   Margin      1322 non-null   object \n",
      " 3   BR          606 non-null    float64\n",
      " 4   Toss        1322 non-null   object \n",
      " 5   Bat         1322 non-null   object \n",
      " 6   Opposition  1322 non-null   object \n",
      " 7   Ground      1322 non-null   object \n",
      " 8   Start Date  1322 non-null   object \n",
      " 9   Match_ID    1322 non-null   object \n",
      " 10  Country     1322 non-null   object \n",
      " 11  Country_ID  1322 non-null   int64  \n",
      "dtypes: float64(1), int64(2), object(9)\n",
      "memory usage: 124.1+ KB\n",
      "None\n",
      "\n",
      "Shape:\n",
      "(1322, 12)\n",
      "Unnamed: 0      0\n",
      "Result          0\n",
      "Margin          0\n",
      "BR            716\n",
      "Toss            0\n",
      "Bat             0\n",
      "Opposition      0\n",
      "Ground          0\n",
      "Start Date      0\n",
      "Match_ID        0\n",
      "Country         0\n",
      "Country_ID      0\n",
      "dtype: int64\n",
      "\n",
      "Null values\n",
      "0\n",
      "======================================================================\n",
      "File Name: ODI_Match_Totals.csv\n",
      "\n",
      "Info:\n",
      "<class 'pandas.core.frame.DataFrame'>\n",
      "RangeIndex: 1296 entries, 0 to 1295\n",
      "Data columns (total 13 columns):\n",
      " #   Column      Non-Null Count  Dtype  \n",
      "---  ------      --------------  -----  \n",
      " 0   Unnamed: 0  1296 non-null   int64  \n",
      " 1   Score       1296 non-null   object \n",
      " 2   Overs       1296 non-null   float64\n",
      " 3   RPO         1296 non-null   object \n",
      " 4   Target      620 non-null    float64\n",
      " 5   Inns        1296 non-null   int64  \n",
      " 6   Result      1296 non-null   object \n",
      " 7   Opposition  1296 non-null   object \n",
      " 8   Ground      1296 non-null   object \n",
      " 9   Start Date  1296 non-null   object \n",
      " 10  Match_ID    1296 non-null   object \n",
      " 11  Country     1296 non-null   object \n",
      " 12  Country_ID  1296 non-null   int64  \n",
      "dtypes: float64(2), int64(3), object(8)\n",
      "memory usage: 131.8+ KB\n",
      "None\n",
      "\n",
      "Shape:\n",
      "(1296, 13)\n",
      "Unnamed: 0      0\n",
      "Score           0\n",
      "Overs           0\n",
      "RPO             0\n",
      "Target        676\n",
      "Inns            0\n",
      "Result          0\n",
      "Opposition      0\n",
      "Ground          0\n",
      "Start Date      0\n",
      "Match_ID        0\n",
      "Country         0\n",
      "Country_ID      0\n",
      "dtype: int64\n",
      "\n",
      "Null values\n",
      "0\n",
      "======================================================================\n",
      "File Name: WC_players.csv\n",
      "\n",
      "Info:\n",
      "<class 'pandas.core.frame.DataFrame'>\n",
      "RangeIndex: 152 entries, 0 to 151\n",
      "Data columns (total 3 columns):\n",
      " #   Column   Non-Null Count  Dtype \n",
      "---  ------   --------------  ----- \n",
      " 0   Player   152 non-null    object\n",
      " 1   ID       152 non-null    int64 \n",
      " 2   Country  152 non-null    object\n",
      "dtypes: int64(1), object(2)\n",
      "memory usage: 3.7+ KB\n",
      "None\n",
      "\n",
      "Shape:\n",
      "(152, 3)\n",
      "Player     0\n",
      "ID         0\n",
      "Country    0\n",
      "dtype: int64\n",
      "\n",
      "Null values\n",
      "0\n",
      "======================================================================\n"
     ]
    }
   ],
   "source": [
    "data =[batsman, bowler, ground, odi_result, odi_totals, wc]\n",
    "file_paths= [\n",
    "    \"E:\\cricket player prediction\\Batsman_Data.csv\",\n",
    "    \"E:\\cricket player prediction\\Bowler_data.csv\",\n",
    "    \"E:\\cricket player prediction\\Ground_Averages.csv\",\n",
    "    \"E:\\cricket player prediction\\ODI_Match_Results.csv\",\n",
    "    \"E:\\cricket player prediction\\ODI_Match_Totals.csv\",\n",
    "    \"E:\\cricket player prediction\\WC_players.csv\"\n",
    "]\n",
    "for k, file_path in zip(data, file_paths):\n",
    "    file_name= os.path.basename(file_path)\n",
    "    print(f\"File Name: {file_name}\")\n",
    "    \n",
    "    #info \n",
    "    print(\"\\nInfo:\")\n",
    "    print(k.info())\n",
    "\n",
    "    #shape\n",
    "    print(\"\\nShape:\")\n",
    "    print(k.shape)\n",
    "\n",
    "    #Null\n",
    "    print(k.isnull().sum())\n",
    "\n",
    "    #print Duplicates\n",
    "    print(\"\\nNull values\")\n",
    "    print(k.duplicated().sum())\n",
    "\n",
    "    #saperarting line\n",
    "    print(\"=\"* 70) \n"
   ]
  },
  {
   "cell_type": "code",
   "execution_count": 52,
   "id": "f8597791-ed58-4148-a551-c431e7f96c65",
   "metadata": {},
   "outputs": [
    {
     "data": {
      "text/plain": [
       "Unnamed: 0      0\n",
       "Score           0\n",
       "Overs           0\n",
       "RPO             0\n",
       "Target        676\n",
       "Inns            0\n",
       "Result          0\n",
       "Opposition      0\n",
       "Ground          0\n",
       "Start Date      0\n",
       "Match_ID        0\n",
       "Country         0\n",
       "Country_ID      0\n",
       "dtype: int64"
      ]
     },
     "execution_count": 52,
     "metadata": {},
     "output_type": "execute_result"
    }
   ],
   "source": [
    "odi_totals.isnull().sum()"
   ]
  },
  {
   "cell_type": "code",
   "execution_count": 57,
   "id": "4f7f42e8-a18f-4d1b-88ea-5a8438dc23f5",
   "metadata": {
    "tags": []
   },
   "outputs": [],
   "source": [
    "\n",
    "median_values = odi_totals['Target'].median()\n",
    "odi_totals.fillna(median_values, inplace=True)"
   ]
  },
  {
   "cell_type": "code",
   "execution_count": 58,
   "id": "d4a416d7-5b37-41f4-99a0-07560b958c36",
   "metadata": {
    "tags": []
   },
   "outputs": [
    {
     "data": {
      "text/plain": [
       "Unnamed: 0    0\n",
       "Score         0\n",
       "Overs         0\n",
       "RPO           0\n",
       "Target        0\n",
       "Inns          0\n",
       "Result        0\n",
       "Opposition    0\n",
       "Ground        0\n",
       "Start Date    0\n",
       "Match_ID      0\n",
       "Country       0\n",
       "Country_ID    0\n",
       "dtype: int64"
      ]
     },
     "execution_count": 58,
     "metadata": {},
     "output_type": "execute_result"
    }
   ],
   "source": [
    "odi_totals.isnull().sum()"
   ]
  },
  {
   "cell_type": "code",
   "execution_count": 61,
   "id": "a90227f2-34a8-442e-b951-e84fb8a71031",
   "metadata": {
    "tags": []
   },
   "outputs": [],
   "source": [
    "median_values = odi_result['BR'].median()\n",
    "odi_result.fillna(median_values ,inplace=True)"
   ]
  },
  {
   "cell_type": "code",
   "execution_count": 63,
   "id": "1408862f-65a3-419f-b9f7-357b384cf29b",
   "metadata": {
    "tags": []
   },
   "outputs": [
    {
     "data": {
      "text/plain": [
       "Unnamed: 0    0\n",
       "Result        0\n",
       "Margin        0\n",
       "BR            0\n",
       "Toss          0\n",
       "Bat           0\n",
       "Opposition    0\n",
       "Ground        0\n",
       "Start Date    0\n",
       "Match_ID      0\n",
       "Country       0\n",
       "Country_ID    0\n",
       "dtype: int64"
      ]
     },
     "execution_count": 63,
     "metadata": {},
     "output_type": "execute_result"
    }
   ],
   "source": [
    "odi_result.isnull().sum()"
   ]
  },
  {
   "cell_type": "code",
   "execution_count": 64,
   "id": "b89c98f5-3020-4084-a871-8304c8ba0a8d",
   "metadata": {
    "tags": []
   },
   "outputs": [
    {
     "data": {
      "text/html": [
       "<div>\n",
       "<style scoped>\n",
       "    .dataframe tbody tr th:only-of-type {\n",
       "        vertical-align: middle;\n",
       "    }\n",
       "\n",
       "    .dataframe tbody tr th {\n",
       "        vertical-align: top;\n",
       "    }\n",
       "\n",
       "    .dataframe thead th {\n",
       "        text-align: right;\n",
       "    }\n",
       "</style>\n",
       "<table border=\"1\" class=\"dataframe\">\n",
       "  <thead>\n",
       "    <tr style=\"text-align: right;\">\n",
       "      <th></th>\n",
       "      <th>Unnamed: 0</th>\n",
       "      <th>Bat1</th>\n",
       "      <th>Runs</th>\n",
       "      <th>BF</th>\n",
       "      <th>SR</th>\n",
       "      <th>4s</th>\n",
       "      <th>6s</th>\n",
       "      <th>Opposition</th>\n",
       "      <th>Ground</th>\n",
       "      <th>Start Date</th>\n",
       "      <th>Match_ID</th>\n",
       "      <th>Batsman</th>\n",
       "      <th>Player_ID</th>\n",
       "    </tr>\n",
       "  </thead>\n",
       "  <tbody>\n",
       "    <tr>\n",
       "      <th>0</th>\n",
       "      <td>1</td>\n",
       "      <td>DNB</td>\n",
       "      <td>-</td>\n",
       "      <td>-</td>\n",
       "      <td>-</td>\n",
       "      <td>-</td>\n",
       "      <td>-</td>\n",
       "      <td>v India</td>\n",
       "      <td>Nagpur</td>\n",
       "      <td>18 Dec 2009</td>\n",
       "      <td>ODI # 2933</td>\n",
       "      <td>Oshane Thomas</td>\n",
       "      <td>49619</td>\n",
       "    </tr>\n",
       "    <tr>\n",
       "      <th>1</th>\n",
       "      <td>2</td>\n",
       "      <td>DNB</td>\n",
       "      <td>-</td>\n",
       "      <td>-</td>\n",
       "      <td>-</td>\n",
       "      <td>-</td>\n",
       "      <td>-</td>\n",
       "      <td>v India</td>\n",
       "      <td>Kolkata</td>\n",
       "      <td>24 Dec 2009</td>\n",
       "      <td>ODI # 2935</td>\n",
       "      <td>Oshane Thomas</td>\n",
       "      <td>49619</td>\n",
       "    </tr>\n",
       "  </tbody>\n",
       "</table>\n",
       "</div>"
      ],
      "text/plain": [
       "   Unnamed: 0 Bat1 Runs BF SR 4s 6s Opposition   Ground   Start Date  \\\n",
       "0           1  DNB    -  -  -  -  -    v India   Nagpur  18 Dec 2009   \n",
       "1           2  DNB    -  -  -  -  -    v India  Kolkata  24 Dec 2009   \n",
       "\n",
       "     Match_ID        Batsman  Player_ID  \n",
       "0  ODI # 2933  Oshane Thomas      49619  \n",
       "1  ODI # 2935  Oshane Thomas      49619  "
      ]
     },
     "execution_count": 64,
     "metadata": {},
     "output_type": "execute_result"
    }
   ],
   "source": [
    "batsman.head(2)"
   ]
  },
  {
   "cell_type": "code",
   "execution_count": 65,
   "id": "e710ddeb-0b0e-4d31-a4e4-b3c5381e1c88",
   "metadata": {
    "tags": []
   },
   "outputs": [
    {
     "data": {
      "text/plain": [
       "Index(['Unnamed: 0', 'Bat1', 'Runs', 'BF', 'SR', '4s', '6s', 'Opposition',\n",
       "       'Ground', 'Start Date', 'Match_ID', 'Batsman', 'Player_ID'],\n",
       "      dtype='object')"
      ]
     },
     "execution_count": 65,
     "metadata": {},
     "output_type": "execute_result"
    }
   ],
   "source": [
    "batsman.columns"
   ]
  },
  {
   "cell_type": "code",
   "execution_count": 67,
   "id": "6b46618d-ca72-4c6c-ad4d-4cd047aa2afa",
   "metadata": {
    "tags": []
   },
   "outputs": [
    {
     "data": {
      "text/plain": [
       "Index(['Unnamed: 0', 'Overs', 'Mdns', 'Runs', 'Wkts', 'Econ', 'Ave', 'SR',\n",
       "       'Opposition', 'Ground', 'Start Date', 'Match_ID', 'Bowler',\n",
       "       'Player_ID'],\n",
       "      dtype='object')"
      ]
     },
     "execution_count": 67,
     "metadata": {},
     "output_type": "execute_result"
    }
   ],
   "source": [
    "bowler.columns"
   ]
  },
  {
   "cell_type": "code",
   "execution_count": 69,
   "id": "46d6c385-19d0-4921-8f44-fd9bc9f64699",
   "metadata": {
    "tags": []
   },
   "outputs": [],
   "source": [
    "df1 = pd.merge(batsman, bowler, on=[\"Match_ID\", \"Player_ID\", \"Start Date\", \"Opposition\", \"Ground\"],how=\"inner\")"
   ]
  },
  {
   "cell_type": "code",
   "execution_count": 70,
   "id": "5a1fedfc-eb29-445e-b615-ff4804b0c038",
   "metadata": {
    "tags": []
   },
   "outputs": [
    {
     "data": {
      "text/plain": [
       "(11118, 22)"
      ]
     },
     "execution_count": 70,
     "metadata": {},
     "output_type": "execute_result"
    }
   ],
   "source": [
    "df1.shape"
   ]
  },
  {
   "cell_type": "code",
   "execution_count": 75,
   "id": "a5f53715-e596-4cb1-b517-9677752b21dd",
   "metadata": {
    "tags": []
   },
   "outputs": [
    {
     "name": "stdout",
     "output_type": "stream",
     "text": [
      "<class 'pandas.core.frame.DataFrame'>\n",
      "RangeIndex: 11118 entries, 0 to 11117\n",
      "Data columns (total 22 columns):\n",
      " #   Column        Non-Null Count  Dtype \n",
      "---  ------        --------------  ----- \n",
      " 0   Unnamed: 0_x  11118 non-null  int64 \n",
      " 1   Bat1          11118 non-null  object\n",
      " 2   Runs_x        11118 non-null  object\n",
      " 3   BF            11118 non-null  object\n",
      " 4   SR_x          11118 non-null  object\n",
      " 5   4s            11118 non-null  object\n",
      " 6   6s            11118 non-null  object\n",
      " 7   Opposition    11118 non-null  object\n",
      " 8   Ground        11118 non-null  object\n",
      " 9   Start Date    11118 non-null  object\n",
      " 10  Match_ID      11118 non-null  object\n",
      " 11  Batsman       11118 non-null  object\n",
      " 12  Player_ID     11118 non-null  int64 \n",
      " 13  Unnamed: 0_y  11118 non-null  int64 \n",
      " 14  Overs         11118 non-null  object\n",
      " 15  Mdns          11118 non-null  object\n",
      " 16  Runs_y        11118 non-null  object\n",
      " 17  Wkts          11118 non-null  object\n",
      " 18  Econ          11118 non-null  object\n",
      " 19  Ave           11118 non-null  object\n",
      " 20  SR_y          11118 non-null  object\n",
      " 21  Bowler        11118 non-null  object\n",
      "dtypes: int64(3), object(19)\n",
      "memory usage: 1.9+ MB\n"
     ]
    }
   ],
   "source": [
    "df1.info()"
   ]
  },
  {
   "cell_type": "code",
   "execution_count": 77,
   "id": "2aca45e2-d536-4100-9c54-f867a3a1d41f",
   "metadata": {
    "tags": []
   },
   "outputs": [],
   "source": [
    "df1.drop(columns=[\"Unnamed: 0_x\" , \"Unnamed: 0_y\"], axis=1 ,inplace=True)"
   ]
  },
  {
   "cell_type": "code",
   "execution_count": 79,
   "id": "ee882b2d-a135-4c29-bfdf-aaa6f8318d75",
   "metadata": {
    "tags": []
   },
   "outputs": [
    {
     "data": {
      "text/plain": [
       "Index(['Bat1', 'Runs_x', 'BF', 'SR_x', '4s', '6s', 'Opposition', 'Ground',\n",
       "       'Start Date', 'Match_ID', 'Batsman', 'Player_ID', 'Overs', 'Mdns',\n",
       "       'Runs_y', 'Wkts', 'Econ', 'Ave', 'SR_y', 'Bowler'],\n",
       "      dtype='object')"
      ]
     },
     "execution_count": 79,
     "metadata": {},
     "output_type": "execute_result"
    }
   ],
   "source": [
    "df1.columns"
   ]
  },
  {
   "cell_type": "code",
   "execution_count": 80,
   "id": "b1649b76-a667-4f0b-b6f5-ecd20fb1dcd5",
   "metadata": {
    "tags": []
   },
   "outputs": [
    {
     "data": {
      "text/plain": [
       "Index(['Ground', 'Span', 'Mat', 'Won', 'Tied', 'NR', 'Runs', 'Wkts', 'Balls',\n",
       "       'Ave', 'RPO'],\n",
       "      dtype='object')"
      ]
     },
     "execution_count": 80,
     "metadata": {},
     "output_type": "execute_result"
    }
   ],
   "source": [
    "ground.columns"
   ]
  },
  {
   "cell_type": "code",
   "execution_count": 81,
   "id": "9738414e-762e-4052-b4d1-99f7fd0f8256",
   "metadata": {
    "tags": []
   },
   "outputs": [],
   "source": [
    "df2 =pd.merge(df1, ground, on=[\"Ground\"],how=\"inner\")"
   ]
  },
  {
   "cell_type": "code",
   "execution_count": 82,
   "id": "e029ba73-8855-4aeb-9fe3-20a5cac6019c",
   "metadata": {
    "tags": []
   },
   "outputs": [
    {
     "data": {
      "text/plain": [
       "(0, 30)"
      ]
     },
     "execution_count": 82,
     "metadata": {},
     "output_type": "execute_result"
    }
   ],
   "source": [
    "df2.shape"
   ]
  },
  {
   "cell_type": "code",
   "execution_count": 83,
   "id": "14ba4d9c-5701-4e71-9385-1229f8968cce",
   "metadata": {
    "tags": []
   },
   "outputs": [
    {
     "data": {
      "text/plain": [
       "Index(['Unnamed: 0', 'Result', 'Margin', 'BR', 'Toss', 'Bat', 'Opposition',\n",
       "       'Ground', 'Start Date', 'Match_ID', 'Country', 'Country_ID'],\n",
       "      dtype='object')"
      ]
     },
     "execution_count": 83,
     "metadata": {},
     "output_type": "execute_result"
    }
   ],
   "source": [
    "odi_result.columns"
   ]
  },
  {
   "cell_type": "code",
   "execution_count": 84,
   "id": "94da9305-b0fb-4363-b95b-dbe1eb7b43ab",
   "metadata": {
    "tags": []
   },
   "outputs": [
    {
     "data": {
      "text/html": [
       "<div>\n",
       "<style scoped>\n",
       "    .dataframe tbody tr th:only-of-type {\n",
       "        vertical-align: middle;\n",
       "    }\n",
       "\n",
       "    .dataframe tbody tr th {\n",
       "        vertical-align: top;\n",
       "    }\n",
       "\n",
       "    .dataframe thead th {\n",
       "        text-align: right;\n",
       "    }\n",
       "</style>\n",
       "<table border=\"1\" class=\"dataframe\">\n",
       "  <thead>\n",
       "    <tr style=\"text-align: right;\">\n",
       "      <th></th>\n",
       "      <th>Unnamed: 0</th>\n",
       "      <th>Result</th>\n",
       "      <th>Margin</th>\n",
       "      <th>BR</th>\n",
       "      <th>Toss</th>\n",
       "      <th>Bat</th>\n",
       "      <th>Opposition</th>\n",
       "      <th>Ground</th>\n",
       "      <th>Start Date</th>\n",
       "      <th>Match_ID</th>\n",
       "      <th>Country</th>\n",
       "      <th>Country_ID</th>\n",
       "    </tr>\n",
       "  </thead>\n",
       "  <tbody>\n",
       "    <tr>\n",
       "      <th>0</th>\n",
       "      <td>418</td>\n",
       "      <td>won</td>\n",
       "      <td>85 runs</td>\n",
       "      <td>30.5</td>\n",
       "      <td>lost</td>\n",
       "      <td>1st</td>\n",
       "      <td>v India</td>\n",
       "      <td>Kolkata</td>\n",
       "      <td>3 Jan 2013</td>\n",
       "      <td>ODI # 3315</td>\n",
       "      <td>Pakistan</td>\n",
       "      <td>7</td>\n",
       "    </tr>\n",
       "    <tr>\n",
       "      <th>1</th>\n",
       "      <td>692</td>\n",
       "      <td>lost</td>\n",
       "      <td>85 runs</td>\n",
       "      <td>30.5</td>\n",
       "      <td>won</td>\n",
       "      <td>2nd</td>\n",
       "      <td>v Pakistan</td>\n",
       "      <td>Kolkata</td>\n",
       "      <td>3 Jan 2013</td>\n",
       "      <td>ODI # 3315</td>\n",
       "      <td>India</td>\n",
       "      <td>6</td>\n",
       "    </tr>\n",
       "    <tr>\n",
       "      <th>2</th>\n",
       "      <td>419</td>\n",
       "      <td>lost</td>\n",
       "      <td>10 runs</td>\n",
       "      <td>30.5</td>\n",
       "      <td>lost</td>\n",
       "      <td>2nd</td>\n",
       "      <td>v India</td>\n",
       "      <td>Delhi</td>\n",
       "      <td>6 Jan 2013</td>\n",
       "      <td>ODI # 3316</td>\n",
       "      <td>Pakistan</td>\n",
       "      <td>7</td>\n",
       "    </tr>\n",
       "  </tbody>\n",
       "</table>\n",
       "</div>"
      ],
      "text/plain": [
       "   Unnamed: 0 Result   Margin    BR  Toss  Bat  Opposition   Ground  \\\n",
       "0         418    won  85 runs  30.5  lost  1st     v India  Kolkata   \n",
       "1         692   lost  85 runs  30.5   won  2nd  v Pakistan  Kolkata   \n",
       "2         419   lost  10 runs  30.5  lost  2nd     v India    Delhi   \n",
       "\n",
       "   Start Date    Match_ID   Country  Country_ID  \n",
       "0  3 Jan 2013  ODI # 3315  Pakistan           7  \n",
       "1  3 Jan 2013  ODI # 3315     India           6  \n",
       "2  6 Jan 2013  ODI # 3316  Pakistan           7  "
      ]
     },
     "execution_count": 84,
     "metadata": {},
     "output_type": "execute_result"
    }
   ],
   "source": [
    "odi_result.head(3)"
   ]
  },
  {
   "cell_type": "code",
   "execution_count": 86,
   "id": "64f2d19d-47eb-4599-ae68-e7c223f3f3fa",
   "metadata": {
    "tags": []
   },
   "outputs": [],
   "source": [
    "odi_result.drop(columns=[\"Unnamed: 0\"],axis=1, inplace=True)"
   ]
  },
  {
   "cell_type": "code",
   "execution_count": 87,
   "id": "0f89c4a9-758a-46b0-9473-7d4662f33bc3",
   "metadata": {
    "tags": []
   },
   "outputs": [
    {
     "data": {
      "text/plain": [
       "Index(['Unnamed: 0', 'Score', 'Overs', 'RPO', 'Target', 'Inns', 'Result',\n",
       "       'Opposition', 'Ground', 'Start Date', 'Match_ID', 'Country',\n",
       "       'Country_ID'],\n",
       "      dtype='object')"
      ]
     },
     "execution_count": 87,
     "metadata": {},
     "output_type": "execute_result"
    }
   ],
   "source": [
    "odi_totals.columns"
   ]
  },
  {
   "cell_type": "code",
   "execution_count": 88,
   "id": "9bfb9f5d-d403-465f-a227-9a104b801c62",
   "metadata": {
    "tags": []
   },
   "outputs": [
    {
     "data": {
      "text/html": [
       "<div>\n",
       "<style scoped>\n",
       "    .dataframe tbody tr th:only-of-type {\n",
       "        vertical-align: middle;\n",
       "    }\n",
       "\n",
       "    .dataframe tbody tr th {\n",
       "        vertical-align: top;\n",
       "    }\n",
       "\n",
       "    .dataframe thead th {\n",
       "        text-align: right;\n",
       "    }\n",
       "</style>\n",
       "<table border=\"1\" class=\"dataframe\">\n",
       "  <thead>\n",
       "    <tr style=\"text-align: right;\">\n",
       "      <th></th>\n",
       "      <th>Unnamed: 0</th>\n",
       "      <th>Score</th>\n",
       "      <th>Overs</th>\n",
       "      <th>RPO</th>\n",
       "      <th>Target</th>\n",
       "      <th>Inns</th>\n",
       "      <th>Result</th>\n",
       "      <th>Opposition</th>\n",
       "      <th>Ground</th>\n",
       "      <th>Start Date</th>\n",
       "      <th>Match_ID</th>\n",
       "      <th>Country</th>\n",
       "      <th>Country_ID</th>\n",
       "    </tr>\n",
       "  </thead>\n",
       "  <tbody>\n",
       "    <tr>\n",
       "      <th>0</th>\n",
       "      <td>412</td>\n",
       "      <td>250</td>\n",
       "      <td>48.3</td>\n",
       "      <td>5.15</td>\n",
       "      <td>258.0</td>\n",
       "      <td>1</td>\n",
       "      <td>won</td>\n",
       "      <td>v India</td>\n",
       "      <td>Kolkata</td>\n",
       "      <td>3 Jan 2013</td>\n",
       "      <td>ODI # 3315</td>\n",
       "      <td>Pakistan</td>\n",
       "      <td>7</td>\n",
       "    </tr>\n",
       "    <tr>\n",
       "      <th>1</th>\n",
       "      <td>680</td>\n",
       "      <td>165</td>\n",
       "      <td>48.0</td>\n",
       "      <td>3.43</td>\n",
       "      <td>251.0</td>\n",
       "      <td>2</td>\n",
       "      <td>lost</td>\n",
       "      <td>v Pakistan</td>\n",
       "      <td>Kolkata</td>\n",
       "      <td>3 Jan 2013</td>\n",
       "      <td>ODI # 3315</td>\n",
       "      <td>India</td>\n",
       "      <td>6</td>\n",
       "    </tr>\n",
       "  </tbody>\n",
       "</table>\n",
       "</div>"
      ],
      "text/plain": [
       "   Unnamed: 0 Score  Overs   RPO  Target  Inns Result  Opposition   Ground  \\\n",
       "0         412   250   48.3  5.15   258.0     1    won     v India  Kolkata   \n",
       "1         680   165   48.0  3.43   251.0     2   lost  v Pakistan  Kolkata   \n",
       "\n",
       "   Start Date    Match_ID   Country  Country_ID  \n",
       "0  3 Jan 2013  ODI # 3315  Pakistan           7  \n",
       "1  3 Jan 2013  ODI # 3315     India           6  "
      ]
     },
     "execution_count": 88,
     "metadata": {},
     "output_type": "execute_result"
    }
   ],
   "source": [
    "odi_totals.head(2)\n"
   ]
  },
  {
   "cell_type": "code",
   "execution_count": 89,
   "id": "9f90c7b2-4898-41c6-963f-ab4602608615",
   "metadata": {
    "tags": []
   },
   "outputs": [],
   "source": [
    "odi_totals.drop(columns=[\"Unnamed: 0\"], axis=1 , inplace=True)"
   ]
  },
  {
   "cell_type": "code",
   "execution_count": 90,
   "id": "10250720-6bf3-4ef7-8dc5-bb5b9412cb1c",
   "metadata": {
    "tags": []
   },
   "outputs": [],
   "source": [
    "df3_odi = pd.merge(odi_result, odi_totals, on=['Opposition', 'Ground', 'Start Date', 'Match_ID', 'Result', 'Country', 'Country_ID'],how='right')"
   ]
  },
  {
   "cell_type": "code",
   "execution_count": 91,
   "id": "4ce6490e-9c3e-4a76-8cfd-dcfb29f6ea1e",
   "metadata": {
    "tags": []
   },
   "outputs": [
    {
     "data": {
      "text/plain": [
       "(1296, 16)"
      ]
     },
     "execution_count": 91,
     "metadata": {},
     "output_type": "execute_result"
    }
   ],
   "source": [
    "df3_odi.shape"
   ]
  },
  {
   "cell_type": "code",
   "execution_count": 92,
   "id": "5ecb7113-65b1-4694-b487-2503bfb697b6",
   "metadata": {
    "tags": []
   },
   "outputs": [
    {
     "data": {
      "text/html": [
       "<div>\n",
       "<style scoped>\n",
       "    .dataframe tbody tr th:only-of-type {\n",
       "        vertical-align: middle;\n",
       "    }\n",
       "\n",
       "    .dataframe tbody tr th {\n",
       "        vertical-align: top;\n",
       "    }\n",
       "\n",
       "    .dataframe thead th {\n",
       "        text-align: right;\n",
       "    }\n",
       "</style>\n",
       "<table border=\"1\" class=\"dataframe\">\n",
       "  <thead>\n",
       "    <tr style=\"text-align: right;\">\n",
       "      <th></th>\n",
       "      <th>Result</th>\n",
       "      <th>Margin</th>\n",
       "      <th>BR</th>\n",
       "      <th>Toss</th>\n",
       "      <th>Bat</th>\n",
       "      <th>Opposition</th>\n",
       "      <th>Ground</th>\n",
       "      <th>Start Date</th>\n",
       "      <th>Match_ID</th>\n",
       "      <th>Country</th>\n",
       "      <th>Country_ID</th>\n",
       "      <th>Score</th>\n",
       "      <th>Overs</th>\n",
       "      <th>RPO</th>\n",
       "      <th>Target</th>\n",
       "      <th>Inns</th>\n",
       "    </tr>\n",
       "  </thead>\n",
       "  <tbody>\n",
       "    <tr>\n",
       "      <th>0</th>\n",
       "      <td>won</td>\n",
       "      <td>85 runs</td>\n",
       "      <td>30.5</td>\n",
       "      <td>lost</td>\n",
       "      <td>1st</td>\n",
       "      <td>v India</td>\n",
       "      <td>Kolkata</td>\n",
       "      <td>3 Jan 2013</td>\n",
       "      <td>ODI # 3315</td>\n",
       "      <td>Pakistan</td>\n",
       "      <td>7</td>\n",
       "      <td>250</td>\n",
       "      <td>48.3</td>\n",
       "      <td>5.15</td>\n",
       "      <td>258.0</td>\n",
       "      <td>1</td>\n",
       "    </tr>\n",
       "    <tr>\n",
       "      <th>1</th>\n",
       "      <td>lost</td>\n",
       "      <td>85 runs</td>\n",
       "      <td>30.5</td>\n",
       "      <td>won</td>\n",
       "      <td>2nd</td>\n",
       "      <td>v Pakistan</td>\n",
       "      <td>Kolkata</td>\n",
       "      <td>3 Jan 2013</td>\n",
       "      <td>ODI # 3315</td>\n",
       "      <td>India</td>\n",
       "      <td>6</td>\n",
       "      <td>165</td>\n",
       "      <td>48.0</td>\n",
       "      <td>3.43</td>\n",
       "      <td>251.0</td>\n",
       "      <td>2</td>\n",
       "    </tr>\n",
       "    <tr>\n",
       "      <th>2</th>\n",
       "      <td>lost</td>\n",
       "      <td>10 runs</td>\n",
       "      <td>30.5</td>\n",
       "      <td>lost</td>\n",
       "      <td>2nd</td>\n",
       "      <td>v India</td>\n",
       "      <td>Delhi</td>\n",
       "      <td>6 Jan 2013</td>\n",
       "      <td>ODI # 3316</td>\n",
       "      <td>Pakistan</td>\n",
       "      <td>7</td>\n",
       "      <td>157</td>\n",
       "      <td>48.5</td>\n",
       "      <td>3.21</td>\n",
       "      <td>168.0</td>\n",
       "      <td>2</td>\n",
       "    </tr>\n",
       "  </tbody>\n",
       "</table>\n",
       "</div>"
      ],
      "text/plain": [
       "  Result   Margin    BR  Toss  Bat  Opposition   Ground  Start Date  \\\n",
       "0    won  85 runs  30.5  lost  1st     v India  Kolkata  3 Jan 2013   \n",
       "1   lost  85 runs  30.5   won  2nd  v Pakistan  Kolkata  3 Jan 2013   \n",
       "2   lost  10 runs  30.5  lost  2nd     v India    Delhi  6 Jan 2013   \n",
       "\n",
       "     Match_ID   Country  Country_ID Score  Overs   RPO  Target  Inns  \n",
       "0  ODI # 3315  Pakistan           7   250   48.3  5.15   258.0     1  \n",
       "1  ODI # 3315     India           6   165   48.0  3.43   251.0     2  \n",
       "2  ODI # 3316  Pakistan           7   157   48.5  3.21   168.0     2  "
      ]
     },
     "execution_count": 92,
     "metadata": {},
     "output_type": "execute_result"
    }
   ],
   "source": [
    "df3_odi.head(3)"
   ]
  },
  {
   "cell_type": "code",
   "execution_count": 93,
   "id": "7269629d-54ff-4cc4-b0ea-a5c88005e119",
   "metadata": {
    "tags": []
   },
   "outputs": [
    {
     "data": {
      "text/plain": [
       "Index(['Bat1', 'Runs_x', 'BF', 'SR_x', '4s', '6s', 'Opposition', 'Ground',\n",
       "       'Start Date', 'Match_ID', 'Batsman', 'Player_ID', 'Overs', 'Mdns',\n",
       "       'Runs_y', 'Wkts_x', 'Econ', 'Ave_x', 'SR_y', 'Bowler', 'Span', 'Mat',\n",
       "       'Won', 'Tied', 'NR', 'Runs', 'Wkts_y', 'Balls', 'Ave_y', 'RPO'],\n",
       "      dtype='object')"
      ]
     },
     "execution_count": 93,
     "metadata": {},
     "output_type": "execute_result"
    }
   ],
   "source": [
    "df2.columns"
   ]
  },
  {
   "cell_type": "code",
   "execution_count": 94,
   "id": "d9a560a2-2467-4ec6-9031-747e8215258c",
   "metadata": {
    "tags": []
   },
   "outputs": [
    {
     "data": {
      "text/plain": [
       "Index(['Result', 'Margin', 'BR', 'Toss', 'Bat', 'Opposition', 'Ground',\n",
       "       'Start Date', 'Match_ID', 'Country', 'Country_ID', 'Score', 'Overs',\n",
       "       'RPO', 'Target', 'Inns'],\n",
       "      dtype='object')"
      ]
     },
     "execution_count": 94,
     "metadata": {},
     "output_type": "execute_result"
    }
   ],
   "source": [
    "df3_odi.columns"
   ]
  },
  {
   "cell_type": "code",
   "execution_count": 95,
   "id": "c54e08f0-e0fa-4108-a635-edff6598c2d9",
   "metadata": {
    "tags": []
   },
   "outputs": [
    {
     "data": {
      "text/plain": [
       "Result        0\n",
       "Margin        0\n",
       "BR            0\n",
       "Toss          0\n",
       "Bat           0\n",
       "Opposition    0\n",
       "Ground        0\n",
       "Start Date    0\n",
       "Match_ID      0\n",
       "Country       0\n",
       "Country_ID    0\n",
       "Score         0\n",
       "Overs         0\n",
       "RPO           0\n",
       "Target        0\n",
       "Inns          0\n",
       "dtype: int64"
      ]
     },
     "execution_count": 95,
     "metadata": {},
     "output_type": "execute_result"
    }
   ],
   "source": [
    "df3_odi.isnull().sum()"
   ]
  },
  {
   "cell_type": "code",
   "execution_count": 96,
   "id": "44861b96-f945-45f7-905c-8318cea5b973",
   "metadata": {
    "tags": []
   },
   "outputs": [],
   "source": [
    "df4 = pd.merge(df2, df3_odi, on=['Ground', 'Start Date', 'Match_ID'],how='right')"
   ]
  },
  {
   "cell_type": "code",
   "execution_count": 97,
   "id": "adde318e-881d-4e57-8a2c-4960947d5982",
   "metadata": {
    "tags": []
   },
   "outputs": [
    {
     "data": {
      "text/plain": [
       "(1296, 43)"
      ]
     },
     "execution_count": 97,
     "metadata": {},
     "output_type": "execute_result"
    }
   ],
   "source": [
    "df4.shape"
   ]
  },
  {
   "cell_type": "code",
   "execution_count": 98,
   "id": "f08794e0-fd1f-49fa-84e8-316217e04c67",
   "metadata": {
    "tags": []
   },
   "outputs": [],
   "source": [
    "wc.rename(columns={'ID':'Player_ID'},inplace=True)"
   ]
  },
  {
   "cell_type": "code",
   "execution_count": 99,
   "id": "cb9a126a-fde1-432a-9214-ae678b4337ce",
   "metadata": {
    "tags": []
   },
   "outputs": [
    {
     "data": {
      "text/plain": [
       "Index(['Player', 'Player_ID', 'Country'], dtype='object')"
      ]
     },
     "execution_count": 99,
     "metadata": {},
     "output_type": "execute_result"
    }
   ],
   "source": [
    "wc.columns"
   ]
  },
  {
   "cell_type": "code",
   "execution_count": 101,
   "id": "82eb8705-ddd4-42b2-9132-6cee3f7a4344",
   "metadata": {
    "tags": []
   },
   "outputs": [],
   "source": [
    "df = pd.merge(df4,wc , on=['Player_ID', 'Country'], how='left')"
   ]
  },
  {
   "cell_type": "code",
   "execution_count": 102,
   "id": "f014135c-19cb-4ba9-93f3-ed6a864e4a5b",
   "metadata": {
    "tags": []
   },
   "outputs": [
    {
     "data": {
      "text/plain": [
       "Index(['Bat1', 'Runs_x', 'BF', 'SR_x', '4s', '6s', 'Opposition_x', 'Batsman',\n",
       "       'Player_ID', 'Overs_x', 'Mdns', 'Runs_y', 'Wkts_x', 'Econ', 'Ave_x',\n",
       "       'SR_y', 'Bowler', 'Span', 'Mat', 'Won', 'Tied', 'NR', 'Runs', 'Wkts_y',\n",
       "       'Balls', 'Ave_y', 'RPO_x', 'Result', 'Margin', 'BR', 'Toss', 'Bat',\n",
       "       'Opposition_y', 'Ground', 'Start Date', 'Match_ID', 'Country',\n",
       "       'Country_ID', 'Score', 'Overs_y', 'RPO_y', 'Target', 'Inns', 'Player'],\n",
       "      dtype='object')"
      ]
     },
     "execution_count": 102,
     "metadata": {},
     "output_type": "execute_result"
    }
   ],
   "source": [
    "df.columns"
   ]
  },
  {
   "cell_type": "code",
   "execution_count": 103,
   "id": "31ee4e98-d0cf-4f99-a61b-2d51035704db",
   "metadata": {
    "tags": []
   },
   "outputs": [],
   "source": [
    "df.drop(columns=['Start Date', 'Toss', '4s', '6s', 'Opposition_x', 'Opposition_y'], axis=1, inplace=True)"
   ]
  },
  {
   "cell_type": "code",
   "execution_count": 104,
   "id": "9ca29f56-2048-4161-9f56-74c4dae9feea",
   "metadata": {
    "tags": []
   },
   "outputs": [
    {
     "data": {
      "text/plain": [
       "(1296, 38)"
      ]
     },
     "execution_count": 104,
     "metadata": {},
     "output_type": "execute_result"
    }
   ],
   "source": [
    "df.shape"
   ]
  },
  {
   "cell_type": "code",
   "execution_count": 106,
   "id": "0639c41b-5f6b-44f2-8683-ec24eb4ec5de",
   "metadata": {
    "tags": []
   },
   "outputs": [
    {
     "name": "stdout",
     "output_type": "stream",
     "text": [
      "     Result\n",
      "0       won\n",
      "1      lost\n",
      "2      lost\n",
      "3       won\n",
      "4      lost\n",
      "...     ...\n",
      "1291   lost\n",
      "1292    won\n",
      "1293      -\n",
      "1294      -\n",
      "1295      -\n",
      "\n",
      "[1296 rows x 1 columns]\n"
     ]
    }
   ],
   "source": [
    "print(df[[\"Result\"]])"
   ]
  },
  {
   "cell_type": "code",
   "execution_count": 108,
   "id": "b66513ab-2ead-4a57-b95b-840daf9fb9cd",
   "metadata": {
    "tags": []
   },
   "outputs": [],
   "source": [
    "df['Result']= df['Result'].apply(lambda x: 1 if x==\"won\" else 0)"
   ]
  },
  {
   "cell_type": "code",
   "execution_count": 110,
   "id": "1eb51fdf-66be-45bb-b0e5-6ddd68dcb135",
   "metadata": {
    "tags": []
   },
   "outputs": [
    {
     "name": "stdout",
     "output_type": "stream",
     "text": [
      "      Result\n",
      "0          1\n",
      "1          0\n",
      "2          0\n",
      "3          1\n",
      "4          0\n",
      "...      ...\n",
      "1291       0\n",
      "1292       1\n",
      "1293       0\n",
      "1294       0\n",
      "1295       0\n",
      "\n",
      "[1296 rows x 1 columns]\n"
     ]
    }
   ],
   "source": [
    "print(df[[\"Result\"]])"
   ]
  },
  {
   "cell_type": "code",
   "execution_count": 111,
   "id": "91dcc13d-3d6f-4a5f-85ea-1bf46d3763a0",
   "metadata": {
    "tags": []
   },
   "outputs": [],
   "source": [
    "X  =df.drop(\"Result\",axis=1)\n",
    "y = df[\"Result\"]\n"
   ]
  },
  {
   "cell_type": "code",
   "execution_count": 112,
   "id": "539c9b49-1ba1-4be4-a221-453c6727a6e1",
   "metadata": {
    "tags": []
   },
   "outputs": [
    {
     "data": {
      "text/html": [
       "<div>\n",
       "<style scoped>\n",
       "    .dataframe tbody tr th:only-of-type {\n",
       "        vertical-align: middle;\n",
       "    }\n",
       "\n",
       "    .dataframe tbody tr th {\n",
       "        vertical-align: top;\n",
       "    }\n",
       "\n",
       "    .dataframe thead th {\n",
       "        text-align: right;\n",
       "    }\n",
       "</style>\n",
       "<table border=\"1\" class=\"dataframe\">\n",
       "  <thead>\n",
       "    <tr style=\"text-align: right;\">\n",
       "      <th></th>\n",
       "      <th>Bat1</th>\n",
       "      <th>Runs_x</th>\n",
       "      <th>BF</th>\n",
       "      <th>SR_x</th>\n",
       "      <th>Batsman</th>\n",
       "      <th>Player_ID</th>\n",
       "      <th>Overs_x</th>\n",
       "      <th>Mdns</th>\n",
       "      <th>Runs_y</th>\n",
       "      <th>Wkts_x</th>\n",
       "      <th>...</th>\n",
       "      <th>Ground</th>\n",
       "      <th>Match_ID</th>\n",
       "      <th>Country</th>\n",
       "      <th>Country_ID</th>\n",
       "      <th>Score</th>\n",
       "      <th>Overs_y</th>\n",
       "      <th>RPO_y</th>\n",
       "      <th>Target</th>\n",
       "      <th>Inns</th>\n",
       "      <th>Player</th>\n",
       "    </tr>\n",
       "  </thead>\n",
       "  <tbody>\n",
       "    <tr>\n",
       "      <th>0</th>\n",
       "      <td>NaN</td>\n",
       "      <td>NaN</td>\n",
       "      <td>NaN</td>\n",
       "      <td>NaN</td>\n",
       "      <td>NaN</td>\n",
       "      <td>NaN</td>\n",
       "      <td>NaN</td>\n",
       "      <td>NaN</td>\n",
       "      <td>NaN</td>\n",
       "      <td>NaN</td>\n",
       "      <td>...</td>\n",
       "      <td>Kolkata</td>\n",
       "      <td>ODI # 3315</td>\n",
       "      <td>Pakistan</td>\n",
       "      <td>7</td>\n",
       "      <td>250</td>\n",
       "      <td>48.3</td>\n",
       "      <td>5.15</td>\n",
       "      <td>258.0</td>\n",
       "      <td>1</td>\n",
       "      <td>NaN</td>\n",
       "    </tr>\n",
       "    <tr>\n",
       "      <th>1</th>\n",
       "      <td>NaN</td>\n",
       "      <td>NaN</td>\n",
       "      <td>NaN</td>\n",
       "      <td>NaN</td>\n",
       "      <td>NaN</td>\n",
       "      <td>NaN</td>\n",
       "      <td>NaN</td>\n",
       "      <td>NaN</td>\n",
       "      <td>NaN</td>\n",
       "      <td>NaN</td>\n",
       "      <td>...</td>\n",
       "      <td>Kolkata</td>\n",
       "      <td>ODI # 3315</td>\n",
       "      <td>India</td>\n",
       "      <td>6</td>\n",
       "      <td>165</td>\n",
       "      <td>48.0</td>\n",
       "      <td>3.43</td>\n",
       "      <td>251.0</td>\n",
       "      <td>2</td>\n",
       "      <td>NaN</td>\n",
       "    </tr>\n",
       "  </tbody>\n",
       "</table>\n",
       "<p>2 rows × 37 columns</p>\n",
       "</div>"
      ],
      "text/plain": [
       "  Bat1 Runs_x   BF SR_x Batsman  Player_ID Overs_x Mdns Runs_y Wkts_x  ...  \\\n",
       "0  NaN    NaN  NaN  NaN     NaN        NaN     NaN  NaN    NaN    NaN  ...   \n",
       "1  NaN    NaN  NaN  NaN     NaN        NaN     NaN  NaN    NaN    NaN  ...   \n",
       "\n",
       "    Ground    Match_ID   Country Country_ID Score  Overs_y  RPO_y  Target  \\\n",
       "0  Kolkata  ODI # 3315  Pakistan          7   250     48.3   5.15   258.0   \n",
       "1  Kolkata  ODI # 3315     India          6   165     48.0   3.43   251.0   \n",
       "\n",
       "   Inns  Player  \n",
       "0     1     NaN  \n",
       "1     2     NaN  \n",
       "\n",
       "[2 rows x 37 columns]"
      ]
     },
     "execution_count": 112,
     "metadata": {},
     "output_type": "execute_result"
    }
   ],
   "source": [
    "X.head(2)"
   ]
  },
  {
   "cell_type": "code",
   "execution_count": 114,
   "id": "e4c6be31-d374-49b0-be38-2805e8f59dbb",
   "metadata": {
    "tags": []
   },
   "outputs": [],
   "source": [
    "Encoder_X = LabelEncoder()\n",
    "for i in X.columns:\n",
    "    X[i]= Encoder_X.fit_transform(X[i])\n",
    "Encoder_y = LabelEncoder()\n",
    "y=Encoder_y.fit_transform(y)"
   ]
  },
  {
   "cell_type": "code",
   "execution_count": 115,
   "id": "449b8704-a0c7-4aeb-b602-cfb918b603f0",
   "metadata": {
    "tags": []
   },
   "outputs": [
    {
     "data": {
      "text/html": [
       "<div>\n",
       "<style scoped>\n",
       "    .dataframe tbody tr th:only-of-type {\n",
       "        vertical-align: middle;\n",
       "    }\n",
       "\n",
       "    .dataframe tbody tr th {\n",
       "        vertical-align: top;\n",
       "    }\n",
       "\n",
       "    .dataframe thead th {\n",
       "        text-align: right;\n",
       "    }\n",
       "</style>\n",
       "<table border=\"1\" class=\"dataframe\">\n",
       "  <thead>\n",
       "    <tr style=\"text-align: right;\">\n",
       "      <th></th>\n",
       "      <th>Bat1</th>\n",
       "      <th>Runs_x</th>\n",
       "      <th>BF</th>\n",
       "      <th>SR_x</th>\n",
       "      <th>Batsman</th>\n",
       "      <th>Player_ID</th>\n",
       "      <th>Overs_x</th>\n",
       "      <th>Mdns</th>\n",
       "      <th>Runs_y</th>\n",
       "      <th>Wkts_x</th>\n",
       "      <th>...</th>\n",
       "      <th>Ground</th>\n",
       "      <th>Match_ID</th>\n",
       "      <th>Country</th>\n",
       "      <th>Country_ID</th>\n",
       "      <th>Score</th>\n",
       "      <th>Overs_y</th>\n",
       "      <th>RPO_y</th>\n",
       "      <th>Target</th>\n",
       "      <th>Inns</th>\n",
       "      <th>Player</th>\n",
       "    </tr>\n",
       "  </thead>\n",
       "  <tbody>\n",
       "    <tr>\n",
       "      <th>0</th>\n",
       "      <td>0</td>\n",
       "      <td>0</td>\n",
       "      <td>0</td>\n",
       "      <td>0</td>\n",
       "      <td>0</td>\n",
       "      <td>0</td>\n",
       "      <td>0</td>\n",
       "      <td>0</td>\n",
       "      <td>0</td>\n",
       "      <td>0</td>\n",
       "      <td>...</td>\n",
       "      <td>57</td>\n",
       "      <td>0</td>\n",
       "      <td>6</td>\n",
       "      <td>6</td>\n",
       "      <td>404</td>\n",
       "      <td>181</td>\n",
       "      <td>165</td>\n",
       "      <td>134</td>\n",
       "      <td>1</td>\n",
       "      <td>0</td>\n",
       "    </tr>\n",
       "    <tr>\n",
       "      <th>1</th>\n",
       "      <td>0</td>\n",
       "      <td>0</td>\n",
       "      <td>0</td>\n",
       "      <td>0</td>\n",
       "      <td>0</td>\n",
       "      <td>0</td>\n",
       "      <td>0</td>\n",
       "      <td>0</td>\n",
       "      <td>0</td>\n",
       "      <td>0</td>\n",
       "      <td>...</td>\n",
       "      <td>57</td>\n",
       "      <td>0</td>\n",
       "      <td>4</td>\n",
       "      <td>5</td>\n",
       "      <td>115</td>\n",
       "      <td>178</td>\n",
       "      <td>25</td>\n",
       "      <td>127</td>\n",
       "      <td>2</td>\n",
       "      <td>0</td>\n",
       "    </tr>\n",
       "  </tbody>\n",
       "</table>\n",
       "<p>2 rows × 37 columns</p>\n",
       "</div>"
      ],
      "text/plain": [
       "   Bat1  Runs_x  BF  SR_x  Batsman  Player_ID  Overs_x  Mdns  Runs_y  Wkts_x  \\\n",
       "0     0       0   0     0        0          0        0     0       0       0   \n",
       "1     0       0   0     0        0          0        0     0       0       0   \n",
       "\n",
       "   ...  Ground  Match_ID  Country  Country_ID  Score  Overs_y  RPO_y  Target  \\\n",
       "0  ...      57         0        6           6    404      181    165     134   \n",
       "1  ...      57         0        4           5    115      178     25     127   \n",
       "\n",
       "   Inns  Player  \n",
       "0     1       0  \n",
       "1     2       0  \n",
       "\n",
       "[2 rows x 37 columns]"
      ]
     },
     "execution_count": 115,
     "metadata": {},
     "output_type": "execute_result"
    }
   ],
   "source": [
    "X.head(2)"
   ]
  },
  {
   "cell_type": "code",
   "execution_count": 116,
   "id": "b9f56993-1fb7-4216-873f-3e830b02d87c",
   "metadata": {
    "tags": []
   },
   "outputs": [],
   "source": [
    "X_train,X_test,y_train,y_test= train_test_split(X,y,test_size=0.3, random_state=27)"
   ]
  },
  {
   "cell_type": "code",
   "execution_count": 117,
   "id": "56c4f6a8-8e2d-4a68-ba66-a207ad623ae7",
   "metadata": {
    "tags": []
   },
   "outputs": [
    {
     "data": {
      "text/html": [
       "<div>\n",
       "<style scoped>\n",
       "    .dataframe tbody tr th:only-of-type {\n",
       "        vertical-align: middle;\n",
       "    }\n",
       "\n",
       "    .dataframe tbody tr th {\n",
       "        vertical-align: top;\n",
       "    }\n",
       "\n",
       "    .dataframe thead th {\n",
       "        text-align: right;\n",
       "    }\n",
       "</style>\n",
       "<table border=\"1\" class=\"dataframe\">\n",
       "  <thead>\n",
       "    <tr style=\"text-align: right;\">\n",
       "      <th></th>\n",
       "      <th>Bat1</th>\n",
       "      <th>Runs_x</th>\n",
       "      <th>BF</th>\n",
       "      <th>SR_x</th>\n",
       "      <th>Batsman</th>\n",
       "      <th>Player_ID</th>\n",
       "      <th>Overs_x</th>\n",
       "      <th>Mdns</th>\n",
       "      <th>Runs_y</th>\n",
       "      <th>Wkts_x</th>\n",
       "      <th>...</th>\n",
       "      <th>Ground</th>\n",
       "      <th>Match_ID</th>\n",
       "      <th>Country</th>\n",
       "      <th>Country_ID</th>\n",
       "      <th>Score</th>\n",
       "      <th>Overs_y</th>\n",
       "      <th>RPO_y</th>\n",
       "      <th>Target</th>\n",
       "      <th>Inns</th>\n",
       "      <th>Player</th>\n",
       "    </tr>\n",
       "  </thead>\n",
       "  <tbody>\n",
       "    <tr>\n",
       "      <th>1050</th>\n",
       "      <td>0</td>\n",
       "      <td>0</td>\n",
       "      <td>0</td>\n",
       "      <td>0</td>\n",
       "      <td>0</td>\n",
       "      <td>0</td>\n",
       "      <td>0</td>\n",
       "      <td>0</td>\n",
       "      <td>0</td>\n",
       "      <td>0</td>\n",
       "      <td>...</td>\n",
       "      <td>84</td>\n",
       "      <td>598</td>\n",
       "      <td>0</td>\n",
       "      <td>9</td>\n",
       "      <td>146</td>\n",
       "      <td>75</td>\n",
       "      <td>239</td>\n",
       "      <td>205</td>\n",
       "      <td>2</td>\n",
       "      <td>0</td>\n",
       "    </tr>\n",
       "    <tr>\n",
       "      <th>61</th>\n",
       "      <td>0</td>\n",
       "      <td>0</td>\n",
       "      <td>0</td>\n",
       "      <td>0</td>\n",
       "      <td>0</td>\n",
       "      <td>0</td>\n",
       "      <td>0</td>\n",
       "      <td>0</td>\n",
       "      <td>0</td>\n",
       "      <td>0</td>\n",
       "      <td>...</td>\n",
       "      <td>9</td>\n",
       "      <td>33</td>\n",
       "      <td>7</td>\n",
       "      <td>2</td>\n",
       "      <td>234</td>\n",
       "      <td>154</td>\n",
       "      <td>123</td>\n",
       "      <td>83</td>\n",
       "      <td>2</td>\n",
       "      <td>0</td>\n",
       "    </tr>\n",
       "    <tr>\n",
       "      <th>584</th>\n",
       "      <td>0</td>\n",
       "      <td>0</td>\n",
       "      <td>0</td>\n",
       "      <td>0</td>\n",
       "      <td>0</td>\n",
       "      <td>0</td>\n",
       "      <td>0</td>\n",
       "      <td>0</td>\n",
       "      <td>0</td>\n",
       "      <td>0</td>\n",
       "      <td>...</td>\n",
       "      <td>44</td>\n",
       "      <td>331</td>\n",
       "      <td>8</td>\n",
       "      <td>7</td>\n",
       "      <td>798</td>\n",
       "      <td>190</td>\n",
       "      <td>344</td>\n",
       "      <td>134</td>\n",
       "      <td>1</td>\n",
       "      <td>0</td>\n",
       "    </tr>\n",
       "  </tbody>\n",
       "</table>\n",
       "<p>3 rows × 37 columns</p>\n",
       "</div>"
      ],
      "text/plain": [
       "      Bat1  Runs_x  BF  SR_x  Batsman  Player_ID  Overs_x  Mdns  Runs_y  \\\n",
       "1050     0       0   0     0        0          0        0     0       0   \n",
       "61       0       0   0     0        0          0        0     0       0   \n",
       "584      0       0   0     0        0          0        0     0       0   \n",
       "\n",
       "      Wkts_x  ...  Ground  Match_ID  Country  Country_ID  Score  Overs_y  \\\n",
       "1050       0  ...      84       598        0           9    146       75   \n",
       "61         0  ...       9        33        7           2    234      154   \n",
       "584        0  ...      44       331        8           7    798      190   \n",
       "\n",
       "      RPO_y  Target  Inns  Player  \n",
       "1050    239     205     2       0  \n",
       "61      123      83     2       0  \n",
       "584     344     134     1       0  \n",
       "\n",
       "[3 rows x 37 columns]"
      ]
     },
     "execution_count": 117,
     "metadata": {},
     "output_type": "execute_result"
    }
   ],
   "source": [
    "X_train.head(3)"
   ]
  },
  {
   "cell_type": "code",
   "execution_count": 118,
   "id": "9dc4e62f-800b-4d63-8366-ad989fad4acb",
   "metadata": {
    "tags": []
   },
   "outputs": [
    {
     "data": {
      "text/plain": [
       "(907, 37)"
      ]
     },
     "execution_count": 118,
     "metadata": {},
     "output_type": "execute_result"
    }
   ],
   "source": [
    "X_train.shape"
   ]
  },
  {
   "cell_type": "code",
   "execution_count": 119,
   "id": "4a9f4151-a12c-45a1-a06c-bb10ec74791e",
   "metadata": {
    "tags": []
   },
   "outputs": [
    {
     "data": {
      "text/plain": [
       "(907,)"
      ]
     },
     "execution_count": 119,
     "metadata": {},
     "output_type": "execute_result"
    }
   ],
   "source": [
    "y_train.shape"
   ]
  },
  {
   "cell_type": "markdown",
   "id": "8244840c-e7ab-4ce6-85d3-6d091db3207c",
   "metadata": {},
   "source": [
    "## Linear Model"
   ]
  },
  {
   "cell_type": "code",
   "execution_count": 120,
   "id": "7575924c-7b7a-42fb-8a9e-612fed31398e",
   "metadata": {
    "tags": []
   },
   "outputs": [
    {
     "data": {
      "text/html": [
       "<style>#sk-container-id-1 {color: black;}#sk-container-id-1 pre{padding: 0;}#sk-container-id-1 div.sk-toggleable {background-color: white;}#sk-container-id-1 label.sk-toggleable__label {cursor: pointer;display: block;width: 100%;margin-bottom: 0;padding: 0.3em;box-sizing: border-box;text-align: center;}#sk-container-id-1 label.sk-toggleable__label-arrow:before {content: \"▸\";float: left;margin-right: 0.25em;color: #696969;}#sk-container-id-1 label.sk-toggleable__label-arrow:hover:before {color: black;}#sk-container-id-1 div.sk-estimator:hover label.sk-toggleable__label-arrow:before {color: black;}#sk-container-id-1 div.sk-toggleable__content {max-height: 0;max-width: 0;overflow: hidden;text-align: left;background-color: #f0f8ff;}#sk-container-id-1 div.sk-toggleable__content pre {margin: 0.2em;color: black;border-radius: 0.25em;background-color: #f0f8ff;}#sk-container-id-1 input.sk-toggleable__control:checked~div.sk-toggleable__content {max-height: 200px;max-width: 100%;overflow: auto;}#sk-container-id-1 input.sk-toggleable__control:checked~label.sk-toggleable__label-arrow:before {content: \"▾\";}#sk-container-id-1 div.sk-estimator input.sk-toggleable__control:checked~label.sk-toggleable__label {background-color: #d4ebff;}#sk-container-id-1 div.sk-label input.sk-toggleable__control:checked~label.sk-toggleable__label {background-color: #d4ebff;}#sk-container-id-1 input.sk-hidden--visually {border: 0;clip: rect(1px 1px 1px 1px);clip: rect(1px, 1px, 1px, 1px);height: 1px;margin: -1px;overflow: hidden;padding: 0;position: absolute;width: 1px;}#sk-container-id-1 div.sk-estimator {font-family: monospace;background-color: #f0f8ff;border: 1px dotted black;border-radius: 0.25em;box-sizing: border-box;margin-bottom: 0.5em;}#sk-container-id-1 div.sk-estimator:hover {background-color: #d4ebff;}#sk-container-id-1 div.sk-parallel-item::after {content: \"\";width: 100%;border-bottom: 1px solid gray;flex-grow: 1;}#sk-container-id-1 div.sk-label:hover label.sk-toggleable__label {background-color: #d4ebff;}#sk-container-id-1 div.sk-serial::before {content: \"\";position: absolute;border-left: 1px solid gray;box-sizing: border-box;top: 0;bottom: 0;left: 50%;z-index: 0;}#sk-container-id-1 div.sk-serial {display: flex;flex-direction: column;align-items: center;background-color: white;padding-right: 0.2em;padding-left: 0.2em;position: relative;}#sk-container-id-1 div.sk-item {position: relative;z-index: 1;}#sk-container-id-1 div.sk-parallel {display: flex;align-items: stretch;justify-content: center;background-color: white;position: relative;}#sk-container-id-1 div.sk-item::before, #sk-container-id-1 div.sk-parallel-item::before {content: \"\";position: absolute;border-left: 1px solid gray;box-sizing: border-box;top: 0;bottom: 0;left: 50%;z-index: -1;}#sk-container-id-1 div.sk-parallel-item {display: flex;flex-direction: column;z-index: 1;position: relative;background-color: white;}#sk-container-id-1 div.sk-parallel-item:first-child::after {align-self: flex-end;width: 50%;}#sk-container-id-1 div.sk-parallel-item:last-child::after {align-self: flex-start;width: 50%;}#sk-container-id-1 div.sk-parallel-item:only-child::after {width: 0;}#sk-container-id-1 div.sk-dashed-wrapped {border: 1px dashed gray;margin: 0 0.4em 0.5em 0.4em;box-sizing: border-box;padding-bottom: 0.4em;background-color: white;}#sk-container-id-1 div.sk-label label {font-family: monospace;font-weight: bold;display: inline-block;line-height: 1.2em;}#sk-container-id-1 div.sk-label-container {text-align: center;}#sk-container-id-1 div.sk-container {/* jupyter's `normalize.less` sets `[hidden] { display: none; }` but bootstrap.min.css set `[hidden] { display: none !important; }` so we also need the `!important` here to be able to override the default hidden behavior on the sphinx rendered scikit-learn.org. See: https://github.com/scikit-learn/scikit-learn/issues/21755 */display: inline-block !important;position: relative;}#sk-container-id-1 div.sk-text-repr-fallback {display: none;}</style><div id=\"sk-container-id-1\" class=\"sk-top-container\"><div class=\"sk-text-repr-fallback\"><pre>LinearRegression()</pre><b>In a Jupyter environment, please rerun this cell to show the HTML representation or trust the notebook. <br />On GitHub, the HTML representation is unable to render, please try loading this page with nbviewer.org.</b></div><div class=\"sk-container\" hidden><div class=\"sk-item\"><div class=\"sk-estimator sk-toggleable\"><input class=\"sk-toggleable__control sk-hidden--visually\" id=\"sk-estimator-id-1\" type=\"checkbox\" checked><label for=\"sk-estimator-id-1\" class=\"sk-toggleable__label sk-toggleable__label-arrow\">LinearRegression</label><div class=\"sk-toggleable__content\"><pre>LinearRegression()</pre></div></div></div></div></div>"
      ],
      "text/plain": [
       "LinearRegression()"
      ]
     },
     "execution_count": 120,
     "metadata": {},
     "output_type": "execute_result"
    }
   ],
   "source": [
    "Linmodel = LinearRegression()\n",
    "Linmodel.fit(X_train,y_train)"
   ]
  },
  {
   "cell_type": "code",
   "execution_count": 121,
   "id": "ba3b3f72-0d77-4c51-a227-2d32977f0802",
   "metadata": {
    "tags": []
   },
   "outputs": [
    {
     "name": "stdout",
     "output_type": "stream",
     "text": [
      "r2 Score of test set:0.26313484371474083\n"
     ]
    }
   ],
   "source": [
    "y_pred = Linmodel.predict(X_test)\n",
    "print(f\"r2 Score of test set:{r2_score(y_test,y_pred)}\")"
   ]
  },
  {
   "cell_type": "code",
   "execution_count": 123,
   "id": "e41b35c3-c50e-4ef5-9bbb-d36fa7780eba",
   "metadata": {
    "tags": []
   },
   "outputs": [
    {
     "data": {
      "text/plain": [
       "0.1840105505891937"
      ]
     },
     "execution_count": 123,
     "metadata": {},
     "output_type": "execute_result"
    }
   ],
   "source": [
    "mean_squared_error(y_test,y_pred)"
   ]
  },
  {
   "cell_type": "code",
   "execution_count": 125,
   "id": "37e76d12-a520-4ef0-ac8c-7e1030be7263",
   "metadata": {
    "tags": []
   },
   "outputs": [
    {
     "data": {
      "text/plain": [
       "0.26313484371474083"
      ]
     },
     "execution_count": 125,
     "metadata": {},
     "output_type": "execute_result"
    }
   ],
   "source": [
    "Linmodel.score(X_test,y_test)"
   ]
  },
  {
   "cell_type": "code",
   "execution_count": 126,
   "id": "121870f7-b149-4997-ba7e-49c92f1efe77",
   "metadata": {
    "tags": []
   },
   "outputs": [
    {
     "name": "stdout",
     "output_type": "stream",
     "text": [
      "Train data Accuracy is : 0.41241225508908363\n"
     ]
    }
   ],
   "source": [
    "print(\"Train data Accuracy is :\" , Linmodel.score(X_train, y_train))"
   ]
  },
  {
   "cell_type": "code",
   "execution_count": 128,
   "id": "ef883703-9427-486c-a1b8-bbc66bf26f9b",
   "metadata": {
    "tags": []
   },
   "outputs": [
    {
     "name": "stdout",
     "output_type": "stream",
     "text": [
      "Test data Accuracy is : 0.26313484371474083\n"
     ]
    }
   ],
   "source": [
    "print(\"Test data Accuracy is :\", Linmodel.score(X_test, y_test))"
   ]
  },
  {
   "cell_type": "code",
   "execution_count": 130,
   "id": "6daf4c24-2fdb-4b77-b229-21b93298b427",
   "metadata": {
    "tags": []
   },
   "outputs": [],
   "source": [
    "# Transforming the data using minmax scaling approach \n",
    "mm= MinMaxScaler()\n",
    "X_train.iloc[:,:]= mm.fit_transform(X_train.iloc[:,:])\n",
    "X_test.iloc[:,:]=mm.fit_transform(X_test.iloc[:,:])"
   ]
  },
  {
   "cell_type": "code",
   "execution_count": 131,
   "id": "7da60a6e-a100-4a39-b85e-9f04165d8154",
   "metadata": {
    "tags": []
   },
   "outputs": [
    {
     "data": {
      "text/html": [
       "<div>\n",
       "<style scoped>\n",
       "    .dataframe tbody tr th:only-of-type {\n",
       "        vertical-align: middle;\n",
       "    }\n",
       "\n",
       "    .dataframe tbody tr th {\n",
       "        vertical-align: top;\n",
       "    }\n",
       "\n",
       "    .dataframe thead th {\n",
       "        text-align: right;\n",
       "    }\n",
       "</style>\n",
       "<table border=\"1\" class=\"dataframe\">\n",
       "  <thead>\n",
       "    <tr style=\"text-align: right;\">\n",
       "      <th></th>\n",
       "      <th>Bat1</th>\n",
       "      <th>Runs_x</th>\n",
       "      <th>BF</th>\n",
       "      <th>SR_x</th>\n",
       "      <th>Batsman</th>\n",
       "      <th>Player_ID</th>\n",
       "      <th>Overs_x</th>\n",
       "      <th>Mdns</th>\n",
       "      <th>Runs_y</th>\n",
       "      <th>Wkts_x</th>\n",
       "      <th>...</th>\n",
       "      <th>Ground</th>\n",
       "      <th>Match_ID</th>\n",
       "      <th>Country</th>\n",
       "      <th>Country_ID</th>\n",
       "      <th>Score</th>\n",
       "      <th>Overs_y</th>\n",
       "      <th>RPO_y</th>\n",
       "      <th>Target</th>\n",
       "      <th>Inns</th>\n",
       "      <th>Player</th>\n",
       "    </tr>\n",
       "  </thead>\n",
       "  <tbody>\n",
       "    <tr>\n",
       "      <th>1050</th>\n",
       "      <td>0</td>\n",
       "      <td>0</td>\n",
       "      <td>0</td>\n",
       "      <td>0</td>\n",
       "      <td>0</td>\n",
       "      <td>0</td>\n",
       "      <td>0</td>\n",
       "      <td>0</td>\n",
       "      <td>0</td>\n",
       "      <td>0</td>\n",
       "      <td>...</td>\n",
       "      <td>0.903226</td>\n",
       "      <td>0.807018</td>\n",
       "      <td>0.000000</td>\n",
       "      <td>1.000000</td>\n",
       "      <td>0.169177</td>\n",
       "      <td>0.394737</td>\n",
       "      <td>0.606599</td>\n",
       "      <td>0.826613</td>\n",
       "      <td>1.0</td>\n",
       "      <td>0</td>\n",
       "    </tr>\n",
       "    <tr>\n",
       "      <th>61</th>\n",
       "      <td>0</td>\n",
       "      <td>0</td>\n",
       "      <td>0</td>\n",
       "      <td>0</td>\n",
       "      <td>0</td>\n",
       "      <td>0</td>\n",
       "      <td>0</td>\n",
       "      <td>0</td>\n",
       "      <td>0</td>\n",
       "      <td>0</td>\n",
       "      <td>...</td>\n",
       "      <td>0.096774</td>\n",
       "      <td>0.044534</td>\n",
       "      <td>0.777778</td>\n",
       "      <td>0.222222</td>\n",
       "      <td>0.271147</td>\n",
       "      <td>0.810526</td>\n",
       "      <td>0.312183</td>\n",
       "      <td>0.334677</td>\n",
       "      <td>1.0</td>\n",
       "      <td>0</td>\n",
       "    </tr>\n",
       "  </tbody>\n",
       "</table>\n",
       "<p>2 rows × 37 columns</p>\n",
       "</div>"
      ],
      "text/plain": [
       "      Bat1  Runs_x  BF  SR_x  Batsman  Player_ID  Overs_x  Mdns  Runs_y  \\\n",
       "1050     0       0   0     0        0          0        0     0       0   \n",
       "61       0       0   0     0        0          0        0     0       0   \n",
       "\n",
       "      Wkts_x  ...    Ground  Match_ID   Country  Country_ID     Score  \\\n",
       "1050       0  ...  0.903226  0.807018  0.000000    1.000000  0.169177   \n",
       "61         0  ...  0.096774  0.044534  0.777778    0.222222  0.271147   \n",
       "\n",
       "       Overs_y     RPO_y    Target  Inns  Player  \n",
       "1050  0.394737  0.606599  0.826613   1.0       0  \n",
       "61    0.810526  0.312183  0.334677   1.0       0  \n",
       "\n",
       "[2 rows x 37 columns]"
      ]
     },
     "execution_count": 131,
     "metadata": {},
     "output_type": "execute_result"
    }
   ],
   "source": [
    "X_train.head(2)"
   ]
  },
  {
   "cell_type": "code",
   "execution_count": 133,
   "id": "0dd40c82-fe7c-4e58-a8b1-f29d6c6cbd8b",
   "metadata": {
    "tags": []
   },
   "outputs": [],
   "source": [
    "# Creating decision tree and random forest"
   ]
  },
  {
   "cell_type": "code",
   "execution_count": 134,
   "id": "72dd1e54-21d4-4260-afbc-ae9499822386",
   "metadata": {
    "tags": []
   },
   "outputs": [],
   "source": [
    "def fit_n_print(model, X_train, X_test, y_train, y_test):  # take the model, and data as inputs\n",
    "\n",
    "    model.fit(X_train, y_train)   # fit the model with the train data\n",
    "\n",
    "    pred = model.predict(X_test)  # make predictions on the test set\n",
    "    train_score = model.score(X_train, y_train)\n",
    "    test_score = model.score(X_test, y_test)\n",
    "\n",
    "    print(\"Train Score:\", train_score)\n",
    "    print(\"Test Score:\", test_score)\n",
    "    print(\"Confustion Matrix:\\n\", confusion_matrix(y_test, pred))\n",
    "    print(classification_report(y_test, pred))"
   ]
  },
  {
   "cell_type": "code",
   "execution_count": 135,
   "id": "9b743aa8-569b-4ee5-af69-76712efe08e6",
   "metadata": {
    "tags": []
   },
   "outputs": [
    {
     "name": "stdout",
     "output_type": "stream",
     "text": [
      "Train Score: 1.0\n",
      "Test Score: 0.9203084832904884\n",
      "Confustion Matrix:\n",
      " [[173  15]\n",
      " [ 16 185]]\n",
      "              precision    recall  f1-score   support\n",
      "\n",
      "           0       0.92      0.92      0.92       188\n",
      "           1       0.93      0.92      0.92       201\n",
      "\n",
      "    accuracy                           0.92       389\n",
      "   macro avg       0.92      0.92      0.92       389\n",
      "weighted avg       0.92      0.92      0.92       389\n",
      "\n"
     ]
    }
   ],
   "source": [
    "# Decision tree\n",
    "\n",
    "dt = DecisionTreeClassifier()\n",
    "\n",
    "fit_n_print(dt, X_train, X_test, y_train, y_test)"
   ]
  },
  {
   "cell_type": "code",
   "execution_count": 136,
   "id": "c3805207-90db-402b-a5a9-9003fc731642",
   "metadata": {
    "tags": []
   },
   "outputs": [
    {
     "name": "stdout",
     "output_type": "stream",
     "text": [
      "Train Score: 1.0\n",
      "Test Score: 0.9125964010282777\n",
      "Confustion Matrix:\n",
      " [[167  21]\n",
      " [ 13 188]]\n",
      "              precision    recall  f1-score   support\n",
      "\n",
      "           0       0.93      0.89      0.91       188\n",
      "           1       0.90      0.94      0.92       201\n",
      "\n",
      "    accuracy                           0.91       389\n",
      "   macro avg       0.91      0.91      0.91       389\n",
      "weighted avg       0.91      0.91      0.91       389\n",
      "\n"
     ]
    }
   ],
   "source": [
    "# Random forest\n",
    "\n",
    "rf = RandomForestClassifier()\n",
    "\n",
    "fit_n_print(rf, X_train, X_test, y_train, y_test)"
   ]
  },
  {
   "cell_type": "code",
   "execution_count": 138,
   "id": "fe9868e2-2216-465e-bc0b-6f16952507d5",
   "metadata": {
    "tags": []
   },
   "outputs": [],
   "source": [
    "# Decision tree and random forest are giving better accuracy."
   ]
  },
  {
   "cell_type": "code",
   "execution_count": null,
   "id": "66619937-270c-4c03-a4a6-c6b264596a8b",
   "metadata": {},
   "outputs": [],
   "source": []
  }
 ],
 "metadata": {
  "kernelspec": {
   "display_name": "Python 3 (ipykernel)",
   "language": "python",
   "name": "python3"
  },
  "language_info": {
   "codemirror_mode": {
    "name": "ipython",
    "version": 3
   },
   "file_extension": ".py",
   "mimetype": "text/x-python",
   "name": "python",
   "nbconvert_exporter": "python",
   "pygments_lexer": "ipython3",
   "version": "3.11.5"
  }
 },
 "nbformat": 4,
 "nbformat_minor": 5
}
